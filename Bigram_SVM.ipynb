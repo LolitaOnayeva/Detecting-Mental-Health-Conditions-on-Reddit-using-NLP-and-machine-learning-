{
  "nbformat": 4,
  "nbformat_minor": 0,
  "metadata": {
    "colab": {
      "name": "Bigram_SVM.ipynb",
      "provenance": [],
      "collapsed_sections": [],
      "include_colab_link": true
    },
    "kernelspec": {
      "name": "python3",
      "display_name": "Python 3"
    },
    "language_info": {
      "name": "python"
    }
  },
  "cells": [
    {
      "cell_type": "markdown",
      "metadata": {
        "id": "view-in-github",
        "colab_type": "text"
      },
      "source": [
        "<a href=\"https://colab.research.google.com/github/LolitaOnayeva/Detecting-Mental-Health-Conditions-on-Reddit-using-NLP-and-machine-learning-/blob/main/Bigram_SVM.ipynb\" target=\"_parent\"><img src=\"https://colab.research.google.com/assets/colab-badge.svg\" alt=\"Open In Colab\"/></a>"
      ]
    },
    {
      "cell_type": "code",
      "metadata": {
        "id": "rpulUPPyHIIl"
      },
      "source": [
        "import csv                               \n",
        "import re                                       \n",
        "from sklearn.svm import LinearSVC\n",
        "from nltk.classify import SklearnClassifier\n",
        "from nltk.stem import WordNetLemmatizer\n",
        "from nltk import word_tokenize\n",
        "from nltk.tokenize import RegexpTokenizer\n",
        "from nltk.corpus import stopwords\n",
        "from sklearn.model_selection import cross_val_score\n",
        "from sklearn import metrics\n",
        "from sklearn.metrics import precision_recall_fscore_support \n",
        "from random import shuffle\n",
        "import numpy as np\n",
        "from collections import Counter\n",
        "from nltk.stem.porter import PorterStemmer\n",
        "from nltk.stem import WordNetLemmatizer\n",
        "from sklearn.pipeline import Pipeline\n",
        "from sklearn.feature_extraction.text import TfidfTransformer\n",
        "\n",
        "from sklearn.metrics import accuracy_score,confusion_matrix\n",
        "from sklearn.metrics import ConfusionMatrixDisplay\n",
        "from sklearn.metrics import plot_confusion_matrix\n",
        "import matplotlib.pyplot as plt"
      ],
      "execution_count": null,
      "outputs": []
    },
    {
      "cell_type": "code",
      "metadata": {
        "colab": {
          "base_uri": "https://localhost:8080/"
        },
        "id": "V8GrnUAzgPIV",
        "outputId": "1e598e0b-c5a4-4fe5-d29a-6b09b88036e3"
      },
      "source": [
        "from google.colab import drive\n",
        "drive.mount('/content/drive')"
      ],
      "execution_count": null,
      "outputs": [
        {
          "output_type": "stream",
          "text": [
            "Mounted at /content/drive\n"
          ],
          "name": "stdout"
        }
      ]
    },
    {
      "cell_type": "code",
      "metadata": {
        "colab": {
          "base_uri": "https://localhost:8080/"
        },
        "id": "brdR3yYXHIwn",
        "outputId": "a38d3a3c-7fc5-4a67-c3aa-a1504dc5e43f"
      },
      "source": [
        "import nltk\n",
        "nltk.download('wordnet')"
      ],
      "execution_count": null,
      "outputs": [
        {
          "output_type": "stream",
          "text": [
            "[nltk_data] Downloading package wordnet to /root/nltk_data...\n",
            "[nltk_data]   Unzipping corpora/wordnet.zip.\n"
          ],
          "name": "stdout"
        },
        {
          "output_type": "execute_result",
          "data": {
            "text/plain": [
              "True"
            ]
          },
          "metadata": {
            "tags": []
          },
          "execution_count": 3
        }
      ]
    },
    {
      "cell_type": "code",
      "metadata": {
        "id": "c94HFT6nHLAr"
      },
      "source": [
        "def parseReview(reviewLine): \n",
        "    Post=reviewLine[3] \n",
        "    Mental_Health_Condition=reviewLine[6]\n",
        "    \n",
        "\n",
        "    return (Post,Mental_Health_Condition)"
      ],
      "execution_count": null,
      "outputs": []
    },
    {
      "cell_type": "code",
      "metadata": {
        "id": "zECbFRRxHOKx"
      },
      "source": [
        "def preProcess(text):\n",
        "    text = re.sub(r\"(\\w)([.,;:!?'\\\"”\\)])\", r\"\\1 \\2\", text) \n",
        "    text = re.sub(r\"([.,;:!?'\\\"“\\(])(\\w)\", r\"\\1 \\2\", text)\n",
        "    text = re.sub(r\"(\\S)\\1\\1+\",r\"\\1\\1\\1\", text)\n",
        "    text = re.sub(r'[^A-Za-z0-9 ]+','', text)  # remove non- english characters such as Äö \n",
        "     \n",
        "    tokens = text.split(\" \")\n",
        "    tokens = [t.lower() for t in tokens]\n",
        "    pairs = [ \" \".join(pair) for pair in nltk.ngrams(tokens,2)]\n",
        "    \n",
        "    return pairs\n"
      ],
      "execution_count": null,
      "outputs": []
    },
    {
      "cell_type": "code",
      "metadata": {
        "id": "eluObTwzHQsO"
      },
      "source": [
        "featureDict = {} \n",
        "\n",
        "def toFeatureVector(lemmatized_tokens):\n",
        "    v = {}\n",
        "    for t in lemmatized_tokens:\n",
        "        try:\n",
        "            featureDict[t] += 1\n",
        "        except KeyError:            \n",
        "            featureDict[t] = 1\n",
        "        try:\n",
        "            v[t] += (1.0/len(lemmatized_tokens))\n",
        "        except KeyError:\n",
        "            v[t] = (1.0/len(lemmatized_tokens))\n",
        "    return v"
      ],
      "execution_count": null,
      "outputs": []
    },
    {
      "cell_type": "code",
      "metadata": {
        "id": "htTYiLLbHWA1"
      },
      "source": [
        "# Downloading datasets \n",
        "rawTrainData=[]\n",
        "with open(\"/content/drive/MyDrive/mental_health_data/full_mental_health_df_train.csv\") as f:\n",
        "    reader = csv.reader(f,quoting=csv.QUOTE_ALL, skipinitialspace=True)\n",
        "    for line in reader:   \n",
        "        (Post,Mental_Health_Condition) = parseReview(line)\n",
        "        rawTrainData.append((Post,Mental_Health_Condition))\n",
        "        \n",
        "rawTestData=[]\n",
        "with open('/content/drive/MyDrive/mental_health_data/full_mental_health_df_test.csv') as f:\n",
        "    reader = csv.reader(f,quoting=csv.QUOTE_ALL, skipinitialspace=True)\n",
        "    for line in reader:   \n",
        "        (Post,Mental_Health_Condition) = parseReview(line)\n",
        "        rawTestData.append((Post,Mental_Health_Condition))\n",
        "\n",
        "testData=[]\n",
        "trainData=[]\n",
        "\n",
        "for (Mental_Health_Condition,Post) in rawTrainData:\n",
        "        #trainData.append((Mental_Health_Condition,toFeatureVector(preProcess(Post))))\n",
        "        trainData.append((toFeatureVector(preProcess(Post)),Mental_Health_Condition))\n",
        "\n",
        "for (Mental_Health_Condition,Post) in rawTestData:\n",
        "        #testData.append((Mental_Health_Condition,toFeatureVector(preProcess(Post))))\n",
        "        testData.append((toFeatureVector(preProcess(Post)),Mental_Health_Condition))"
      ],
      "execution_count": null,
      "outputs": []
    },
    {
      "cell_type": "code",
      "metadata": {
        "colab": {
          "base_uri": "https://localhost:8080/"
        },
        "id": "DPIEpJirScUm",
        "outputId": "2c39fcb2-d58e-462e-ca7c-a042bd4ab8b7"
      },
      "source": [
        "testData[600]"
      ],
      "execution_count": null,
      "outputs": [
        {
          "output_type": "execute_result",
          "data": {
            "text/plain": [
              "({' and': 0.007067137809187279,\n",
              "  ' but': 0.0035335689045936395,\n",
              "  ' has': 0.0035335689045936395,\n",
              "  ' he': 0.0035335689045936395,\n",
              "  ' how': 0.007067137809187279,\n",
              "  ' i': 0.0176678445229682,\n",
              "  ' in': 0.0035335689045936395,\n",
              "  ' m': 0.0035335689045936395,\n",
              "  ' or': 0.0035335689045936395,\n",
              "  ' s': 0.014134275618374558,\n",
              "  ' subsequently': 0.0035335689045936395,\n",
              "  ' t': 0.0035335689045936395,\n",
              "  ' though': 0.0035335689045936395,\n",
              "  ' ve': 0.010600706713780918,\n",
              "  '99 of': 0.0035335689045936395,\n",
              "  'a bit': 0.0035335689045936395,\n",
              "  'a burden': 0.0035335689045936395,\n",
              "  'a head': 0.0035335689045936395,\n",
              "  'a lot': 0.0035335689045936395,\n",
              "  'a panic': 0.0035335689045936395,\n",
              "  'a teen': 0.0035335689045936395,\n",
              "  'a wakeup': 0.0035335689045936395,\n",
              "  'abandonment and': 0.0035335689045936395,\n",
              "  'ability to': 0.0035335689045936395,\n",
              "  'about how': 0.0035335689045936395,\n",
              "  'absolutely terrified': 0.0035335689045936395,\n",
              "  'abused me': 0.0035335689045936395,\n",
              "  'addition to': 0.0035335689045936395,\n",
              "  'after he': 0.0035335689045936395,\n",
              "  'all came': 0.0035335689045936395,\n",
              "  'almost 99': 0.0035335689045936395,\n",
              "  'always been': 0.0035335689045936395,\n",
              "  'and almost': 0.0035335689045936395,\n",
              "  'and atypical': 0.0035335689045936395,\n",
              "  'and between': 0.0035335689045936395,\n",
              "  'and i': 0.007067137809187279,\n",
              "  'and kept': 0.0035335689045936395,\n",
              "  'and know': 0.0035335689045936395,\n",
              "  'and making': 0.0035335689045936395,\n",
              "  'and selfworth': 0.0035335689045936395,\n",
              "  'and told': 0.0035335689045936395,\n",
              "  'and with': 0.0035335689045936395,\n",
              "  'anxiety and': 0.0035335689045936395,\n",
              "  'anyone else': 0.0035335689045936395,\n",
              "  'anyone here': 0.0035335689045936395,\n",
              "  'are okay': 0.0035335689045936395,\n",
              "  'arm ': 0.0035335689045936395,\n",
              "  'around my': 0.0035335689045936395,\n",
              "  'as a': 0.0035335689045936395,\n",
              "  'at arm': 0.0035335689045936395,\n",
              "  'attack around': 0.0035335689045936395,\n",
              "  'atypical depression': 0.0035335689045936395,\n",
              "  'basically always': 0.0035335689045936395,\n",
              "  'be in': 0.0035335689045936395,\n",
              "  'been a': 0.0035335689045936395,\n",
              "  'been broken': 0.0035335689045936395,\n",
              "  'been the': 0.0035335689045936395,\n",
              "  'before ': 0.0035335689045936395,\n",
              "  'being perfectly': 0.0035335689045936395,\n",
              "  'between us': 0.0035335689045936395,\n",
              "  'bit there': 0.0035335689045936395,\n",
              "  'boyfriend about': 0.0035335689045936395,\n",
              "  'breaking down': 0.0035335689045936395,\n",
              "  'broke down': 0.0035335689045936395,\n",
              "  'broken up': 0.0035335689045936395,\n",
              "  'burden and': 0.0035335689045936395,\n",
              "  'but i': 0.0035335689045936395,\n",
              "  'call ': 0.0035335689045936395,\n",
              "  'call for': 0.0035335689045936395,\n",
              "  'came to': 0.0035335689045936395,\n",
              "  'can go': 0.0035335689045936395,\n",
              "  'can i': 0.007067137809187279,\n",
              "  'can tell': 0.0035335689045936395,\n",
              "  'can understand': 0.0035335689045936395,\n",
              "  'caught my': 0.0035335689045936395,\n",
              "  'cheating on': 0.0035335689045936395,\n",
              "  'constantly worrying': 0.0035335689045936395,\n",
              "  'deal with': 0.0035335689045936395,\n",
              "  'depression ': 0.0035335689045936395,\n",
              "  'differently to': 0.0035335689045936395,\n",
              "  'do things': 0.0035335689045936395,\n",
              "  'do you': 0.0035335689045936395,\n",
              "  'does anyone': 0.0035335689045936395,\n",
              "  'don ': 0.0035335689045936395,\n",
              "  'down ': 0.0035335689045936395,\n",
              "  'down and': 0.0035335689045936395,\n",
              "  'earlier today': 0.0035335689045936395,\n",
              "  'else have': 0.0035335689045936395,\n",
              "  'emotionally abused': 0.0035335689045936395,\n",
              "  'exhausted with': 0.0035335689045936395,\n",
              "  'faith in': 0.0035335689045936395,\n",
              "  'father cheating': 0.0035335689045936395,\n",
              "  'fears relating': 0.0035335689045936395,\n",
              "  'fine to': 0.0035335689045936395,\n",
              "  'for a': 0.0035335689045936395,\n",
              "  'for fears': 0.0035335689045936395,\n",
              "  'for him': 0.0035335689045936395,\n",
              "  'for me': 0.0035335689045936395,\n",
              "  'for several': 0.0035335689045936395,\n",
              "  'from being': 0.0035335689045936395,\n",
              "  'from it': 0.0035335689045936395,\n",
              "  'from this': 0.0035335689045936395,\n",
              "  'go from': 0.0035335689045936395,\n",
              "  'going to': 0.0035335689045936395,\n",
              "  'gone through': 0.0035335689045936395,\n",
              "  'had a': 0.0035335689045936395,\n",
              "  'had anxiety': 0.0035335689045936395,\n",
              "  'harder this': 0.0035335689045936395,\n",
              "  'has anyone': 0.0035335689045936395,\n",
              "  'has been': 0.0035335689045936395,\n",
              "  'have a': 0.0035335689045936395,\n",
              "  'have moments': 0.0035335689045936395,\n",
              "  'he ': 0.0035335689045936395,\n",
              "  'he broke': 0.0035335689045936395,\n",
              "  'he emotionally': 0.0035335689045936395,\n",
              "  'he loves': 0.0035335689045936395,\n",
              "  'head earlier': 0.0035335689045936395,\n",
              "  'help me': 0.0035335689045936395,\n",
              "  'here gone': 0.0035335689045936395,\n",
              "  'him and': 0.0035335689045936395,\n",
              "  'him this': 0.0035335689045936395,\n",
              "  'his faith': 0.0035335689045936395,\n",
              "  'how can': 0.007067137809187279,\n",
              "  'how do': 0.0035335689045936395,\n",
              "  'how i': 0.0035335689045936395,\n",
              "  'how quickly': 0.0035335689045936395,\n",
              "  'how to': 0.0035335689045936395,\n",
              "  'i ': 0.010600706713780918,\n",
              "  'i can': 0.007067137809187279,\n",
              "  'i caught': 0.0035335689045936395,\n",
              "  'i don': 0.0035335689045936395,\n",
              "  'i had': 0.0035335689045936395,\n",
              "  'i have': 0.0035335689045936395,\n",
              "  'i learn': 0.007067137809187279,\n",
              "  'i lost': 0.0035335689045936395,\n",
              "  'i make': 0.0035335689045936395,\n",
              "  'i was': 0.010600706713780918,\n",
              "  'in addition': 0.0035335689045936395,\n",
              "  'in my': 0.0035335689045936395,\n",
              "  'in vain': 0.0035335689045936395,\n",
              "  'issues ': 0.0035335689045936395,\n",
              "  'it ': 0.0035335689045936395,\n",
              "  'it stems': 0.0035335689045936395,\n",
              "  'just so': 0.0035335689045936395,\n",
              "  'kept me': 0.0035335689045936395,\n",
              "  'know he': 0.0035335689045936395,\n",
              "  'knowing how': 0.0035335689045936395,\n",
              "  'learn from': 0.007067137809187279,\n",
              "  'length for': 0.0035335689045936395,\n",
              "  'like this': 0.0035335689045936395,\n",
              "  'literally more': 0.0035335689045936395,\n",
              "  'lives harder': 0.0035335689045936395,\n",
              "  'long had': 0.0035335689045936395,\n",
              "  'lose him': 0.0035335689045936395,\n",
              "  'lost my': 0.0035335689045936395,\n",
              "  'lot of': 0.0035335689045936395,\n",
              "  'loves me': 0.0035335689045936395,\n",
              "  'm a': 0.0035335689045936395,\n",
              "  'make sure': 0.0035335689045936395,\n",
              "  'making people': 0.0035335689045936395,\n",
              "  'me and': 0.010600706713780918,\n",
              "  'me at': 0.0035335689045936395,\n",
              "  'me breaking': 0.0035335689045936395,\n",
              "  'me he': 0.0035335689045936395,\n",
              "  'me literally': 0.0035335689045936395,\n",
              "  'moments like': 0.0035335689045936395,\n",
              "  'months ': 0.0035335689045936395,\n",
              "  'more than': 0.0035335689045936395,\n",
              "  'mother as': 0.0035335689045936395,\n",
              "  'my ability': 0.0035335689045936395,\n",
              "  'my boyfriend': 0.0035335689045936395,\n",
              "  'my father': 0.0035335689045936395,\n",
              "  'my mother': 0.0035335689045936395,\n",
              "  'my previous': 0.0035335689045936395,\n",
              "  'my relationships': 0.0035335689045936395,\n",
              "  'not knowing': 0.0035335689045936395,\n",
              "  'now ': 0.0035335689045936395,\n",
              "  'now and': 0.0035335689045936395,\n",
              "  'of abandonment': 0.0035335689045936395,\n",
              "  'of it': 0.0035335689045936395,\n",
              "  'okay now': 0.0035335689045936395,\n",
              "  'on my': 0.0035335689045936395,\n",
              "  'one who': 0.0035335689045936395,\n",
              "  'or does': 0.0035335689045936395,\n",
              "  'panic attack': 0.0035335689045936395,\n",
              "  'partner to': 0.0035335689045936395,\n",
              "  'people ': 0.0035335689045936395,\n",
              "  'perfectly fine': 0.0035335689045936395,\n",
              "  'previous partner': 0.0035335689045936395,\n",
              "  'quickly we': 0.0035335689045936395,\n",
              "  'reconciled ': 0.0035335689045936395,\n",
              "  'relating to': 0.0035335689045936395,\n",
              "  'relationships ': 0.0035335689045936395,\n",
              "  'ruining things': 0.0035335689045936395,\n",
              "  's been': 0.0035335689045936395,\n",
              "  's just': 0.0035335689045936395,\n",
              "  's length': 0.0035335689045936395,\n",
              "  's lives': 0.0035335689045936395,\n",
              "  'selfworth issues': 0.0035335689045936395,\n",
              "  'several months': 0.0035335689045936395,\n",
              "  'since reconciled': 0.0035335689045936395,\n",
              "  'so exhausted': 0.0035335689045936395,\n",
              "  'stems for': 0.0035335689045936395,\n",
              "  'subsequently ': 0.0035335689045936395,\n",
              "  'suicide after': 0.0035335689045936395,\n",
              "  'sure i': 0.0035335689045936395,\n",
              "  't want': 0.0035335689045936395,\n",
              "  'teen ': 0.0035335689045936395,\n",
              "  'tell things': 0.0035335689045936395,\n",
              "  'terrified for': 0.0035335689045936395,\n",
              "  'than i': 0.0035335689045936395,\n",
              "  'that i': 0.007067137809187279,\n",
              "  'the one': 0.0035335689045936395,\n",
              "  'there that': 0.0035335689045936395,\n",
              "  'they ': 0.0035335689045936395,\n",
              "  'things are': 0.0035335689045936395,\n",
              "  'things differently': 0.0035335689045936395,\n",
              "  'things for': 0.0035335689045936395,\n",
              "  'this ': 0.0035335689045936395,\n",
              "  'this all': 0.0035335689045936395,\n",
              "  'this before': 0.0035335689045936395,\n",
              "  'this has': 0.0035335689045936395,\n",
              "  'this now': 0.0035335689045936395,\n",
              "  'this wakeup': 0.0035335689045936395,\n",
              "  'though they': 0.0035335689045936395,\n",
              "  'through this': 0.0035335689045936395,\n",
              "  'to a': 0.0035335689045936395,\n",
              "  'to be': 0.0035335689045936395,\n",
              "  'to constantly': 0.0035335689045936395,\n",
              "  'to do': 0.0035335689045936395,\n",
              "  'to help': 0.0035335689045936395,\n",
              "  'to lose': 0.0035335689045936395,\n",
              "  'to me': 0.0035335689045936395,\n",
              "  'to my': 0.0035335689045936395,\n",
              "  'to suicide': 0.0035335689045936395,\n",
              "  'today when': 0.0035335689045936395,\n",
              "  'told me': 0.0035335689045936395,\n",
              "  'understand ': 0.0035335689045936395,\n",
              "  'up with': 0.0035335689045936395,\n",
              "  'us ': 0.0035335689045936395,\n",
              "  'vain ': 0.0035335689045936395,\n",
              "  've basically': 0.0035335689045936395,\n",
              "  've long': 0.0035335689045936395,\n",
              "  've since': 0.0035335689045936395,\n",
              "  'wakeup call': 0.007067137809187279,\n",
              "  'want his': 0.0035335689045936395,\n",
              "  'was absolutely': 0.0035335689045936395,\n",
              "  'was going': 0.0035335689045936395,\n",
              "  'was ruining': 0.0035335689045936395,\n",
              "  'we can': 0.0035335689045936395,\n",
              "  'when i': 0.0035335689045936395,\n",
              "  'who ': 0.0035335689045936395,\n",
              "  'with ': 0.0035335689045936395,\n",
              "  'with how': 0.0035335689045936395,\n",
              "  'with not': 0.0035335689045936395,\n",
              "  'with this': 0.0035335689045936395,\n",
              "  'worrying that': 0.0035335689045936395,\n",
              "  'you deal': 0.0035335689045936395},\n",
              " 'anxiety')"
            ]
          },
          "metadata": {
            "tags": []
          },
          "execution_count": 8
        }
      ]
    },
    {
      "cell_type": "code",
      "metadata": {
        "colab": {
          "base_uri": "https://localhost:8080/"
        },
        "id": "ff9itT9oHalx",
        "outputId": "1d1f383d-953b-4026-92f9-5876375886d7"
      },
      "source": [
        "# Lenght of the datasets\n",
        "print(\"Now  %d trainData, %d testData\" % ( len(trainData), len(testData)))\n",
        "\n",
        "# Number of features\n",
        "print(\"Training Samples: \", len(trainData), \"Features: \", len(featureDict), sep='\\n')"
      ],
      "execution_count": null,
      "outputs": [
        {
          "output_type": "stream",
          "text": [
            "Now  122073 trainData, 30893 testData\n",
            "Training Samples: \n",
            "122073\n",
            "Features: \n",
            "2284610\n"
          ],
          "name": "stdout"
        }
      ]
    },
    {
      "cell_type": "code",
      "metadata": {
        "id": "Tdv3-9fo9jcM"
      },
      "source": [
        "from sklearn.feature_selection import SelectKBest, chi2\n",
        "from sklearn.pipeline import Pipeline\n",
        "from sklearn.feature_extraction.text import TfidfTransformer"
      ],
      "execution_count": null,
      "outputs": []
    },
    {
      "cell_type": "code",
      "metadata": {
        "id": "6FVbRqzm9G2h"
      },
      "source": [
        "# Training and validating classifier\n",
        "def trainClassifier(trainData):\n",
        "    print(\"Training Classifier...\")\n",
        "    pipeline = Pipeline([('tfidf', TfidfTransformer()),('svc', LinearSVC(penalty='l2', loss='hinge', dual=True, tol=0.0001, C=1, multi_class='ovr', fit_intercept=True, intercept_scaling=1, class_weight=None, verbose=0, random_state=None))])\n",
        "    return SklearnClassifier(pipeline).train(trainData)\n"
      ],
      "execution_count": null,
      "outputs": []
    },
    {
      "cell_type": "code",
      "metadata": {
        "id": "GMq-hCnLHhcl"
      },
      "source": [
        "# Predicting labels given a classifier\n",
        "def predictLabels(reviewSamples, classifier):\n",
        "    return classifier.classify_many(map(lambda t: t[0], reviewSamples))"
      ],
      "execution_count": null,
      "outputs": []
    },
    {
      "cell_type": "code",
      "metadata": {
        "id": "t8YVtL1EHkKk"
      },
      "source": [
        "# Cross-Validate\n",
        "def crossValidate(dataset, folds):\n",
        "    shuffle(dataset)\n",
        "    results = []\n",
        "    foldSize = int(len(dataset)/folds)\n",
        "    \n",
        "    for i in range(0,len(dataset),int(foldSize)):\n",
        "        # insert code here that trains and tests on the 10 folds of data in the dataset\n",
        "        print(\"Fold start on items %d - %d\" % (i, i+foldSize))\n",
        "        myTestData = dataset[i:i+foldSize]\n",
        "        myTrainData = dataset[:i] + dataset[i+foldSize:]\n",
        "        classifier = trainClassifier(myTrainData)\n",
        "        y_true = [x[1] for x in myTestData]\n",
        "        y_pred = predictLabels(myTestData, classifier)\n",
        "        results.append(precision_recall_fscore_support(y_true, y_pred, average='weighted'))\n",
        "        \n",
        "    print(zip(*results))\n",
        "    avgResults = [np.mean([x[0] for x in results]),\n",
        "                  np.mean([x[1] for x in results]),\n",
        "                  np.mean([x[2] for x in results])\n",
        "                ]\n",
        "    return avgResults"
      ],
      "execution_count": null,
      "outputs": []
    },
    {
      "cell_type": "code",
      "metadata": {
        "id": "eBjD9vD9Hm_B"
      },
      "source": [
        "#cv_results = crossValidate(trainData, 10)\n",
        "#print(cv_results)"
      ],
      "execution_count": null,
      "outputs": []
    },
    {
      "cell_type": "code",
      "metadata": {
        "colab": {
          "base_uri": "https://localhost:8080/"
        },
        "id": "Wq8sICeVHotK",
        "outputId": "04d13515-dc2b-4dd6-c24d-2c685fb23fa0"
      },
      "source": [
        "functions_complete = True  \n",
        "if functions_complete:\n",
        "    print(testData[0])   \n",
        "    classifier = trainClassifier(trainData)  \n",
        "    testTrue = [t[1] for t in testData]   \n",
        "    testPred = predictLabels(testData, classifier)  \n",
        "    finalScores = precision_recall_fscore_support(testTrue, testPred, average='weighted') \n",
        "    print(\"Done training!\")\n",
        "    print(\"Precision: %f\\nRecall: %f\\nF Score:%f\" % finalScores[:3])"
      ],
      "execution_count": null,
      "outputs": [
        {
          "output_type": "stream",
          "text": [
            "({'rant about': 0.0024096385542168677, 'about anxiety': 0.0024096385542168677, 'anxiety meds': 0.0024096385542168677, 'meds ': 0.0024096385542168677, ' i': 0.012048192771084338, 'i ': 0.012048192771084338, ' ve': 0.0072289156626506035, 've been': 0.004819277108433735, 'been self': 0.0024096385542168677, 'self medicating': 0.0024096385542168677, 'medicating with': 0.0024096385542168677, 'with benzodiazepines': 0.0024096385542168677, 'benzodiazepines ': 0.0024096385542168677, ' valium': 0.0024096385542168677, 'valium ': 0.004819277108433735, ' first': 0.0024096385542168677, 'first it': 0.0024096385542168677, 'it started': 0.0024096385542168677, 'started with': 0.0024096385542168677, 'with cannabis': 0.0024096385542168677, 'cannabis ': 0.0024096385542168677, ' a': 0.0024096385542168677, 'a very': 0.0024096385542168677, 'very no': 0.0024096385542168677, 'no nonsense': 0.0024096385542168677, 'nonsense substance': 0.0024096385542168677, 'substance at': 0.0024096385542168677, 'at face': 0.0024096385542168677, 'face value': 0.0024096385542168677, 'value but': 0.0024096385542168677, 'but ultimately': 0.0024096385542168677, 'ultimately terrible': 0.0024096385542168677, 'terrible as': 0.0024096385542168677, 'as an': 0.0024096385542168677, 'an anxiety': 0.0024096385542168677, 'anxiety medication': 0.0024096385542168677, 'medication ': 0.0024096385542168677, ' currently': 0.0024096385542168677, 'currently ': 0.0024096385542168677, ' you': 0.0024096385542168677, 'you simply': 0.0024096385542168677, 'simply can': 0.0024096385542168677, 'can ': 0.0024096385542168677, ' t': 0.00963855421686747, 't dose': 0.0024096385542168677, 'dose this': 0.0024096385542168677, 'this stuff': 0.0024096385542168677, 'stuff appropriately': 0.0024096385542168677, 'appropriately ': 0.0024096385542168677, ' too': 0.0024096385542168677, 'too much': 0.0024096385542168677, 'much causes': 0.0024096385542168677, 'causes the': 0.0024096385542168677, 'the exact': 0.0024096385542168677, 'exact symptoms': 0.0024096385542168677, 'symptoms your': 0.0024096385542168677, 'your trying': 0.0024096385542168677, 'trying to': 0.0024096385542168677, 'to treat': 0.0024096385542168677, 'treat and': 0.0024096385542168677, 'and so': 0.0024096385542168677, 'so does': 0.0024096385542168677, 'does tolerance': 0.0024096385542168677, 'tolerance buildup': 0.0024096385542168677, 'buildup queue': 0.0024096385542168677, 'queue valium': 0.0024096385542168677, ' decided': 0.0024096385542168677, 'decided to': 0.0024096385542168677, 'to self': 0.0024096385542168677, 'self medicate': 0.0024096385542168677, 'medicate trying': 0.0024096385542168677, 'trying for': 0.0024096385542168677, 'for once': 0.0024096385542168677, 'once a': 0.0024096385542168677, 'a week': 0.0072289156626506035, 'week ': 0.0072289156626506035, ' now': 0.004819277108433735, 'now it': 0.004819277108433735, 'it ': 0.014457831325301205, ' s': 0.014457831325301205, 's twice': 0.0024096385542168677, 'twice a': 0.0024096385542168677, 's three': 0.0024096385542168677, 'three times': 0.0024096385542168677, 'times a': 0.0024096385542168677, ' fuck': 0.0024096385542168677, 'fuck time': 0.0024096385542168677, 'time to': 0.0024096385542168677, 'to take': 0.004819277108433735, 'take a': 0.0024096385542168677, 'a break': 0.0024096385542168677, 'break ': 0.0024096385542168677, ' take': 0.004819277108433735, 'take some': 0.0024096385542168677, 'some time': 0.0024096385542168677, 'time off': 0.0024096385542168677, 'off and': 0.0024096385542168677, 'and do': 0.0024096385542168677, 'do some': 0.0024096385542168677, 'some research': 0.0024096385542168677, 'research ': 0.0024096385542168677, ' something': 0.0024096385542168677, 'something isn': 0.0024096385542168677, 'isn ': 0.004819277108433735, 't right': 0.0024096385542168677, 'right about': 0.0024096385542168677, 'about benzodiazepines': 0.0024096385542168677, 'benzodiazepines and': 0.0024096385542168677, 'and i': 0.004819277108433735, 'i need': 0.0024096385542168677, 'need to': 0.0024096385542168677, 'to know': 0.0024096385542168677, 'know what': 0.0024096385542168677, 'what ': 0.0024096385542168677, ' ': 0.004819277108433735, ' nah': 0.0024096385542168677, 'nah it': 0.0024096385542168677, 's just': 0.0024096385542168677, 'just me': 0.0024096385542168677, 'me with': 0.0024096385542168677, 'with my': 0.0024096385542168677, 'my messed': 0.0024096385542168677, 'messed up': 0.0024096385542168677, 'up coping': 0.0024096385542168677, 'coping skills': 0.0024096385542168677, 'skills take': 0.0024096385542168677, 'take any': 0.0024096385542168677, 'any amount': 0.0024096385542168677, 'amount of': 0.004819277108433735, 'of time': 0.0024096385542168677, 'time looking': 0.0024096385542168677, 'looking at': 0.0024096385542168677, 'at the': 0.0024096385542168677, 'the benzo': 0.0024096385542168677, 'benzo withdrawals': 0.0024096385542168677, 'withdrawals list': 0.0024096385542168677, 'list and': 0.0024096385542168677, 'and it': 0.0024096385542168677, 's sure': 0.0024096385542168677, 'sure to': 0.0024096385542168677, 'to leave': 0.0024096385542168677, 'leave a': 0.0024096385542168677, 'a sour': 0.0024096385542168677, 'sour taste': 0.0024096385542168677, 'taste ': 0.0024096385542168677, ' that': 0.0024096385542168677, 'that shit': 0.0024096385542168677, 'shit is': 0.0024096385542168677, 'is no': 0.0024096385542168677, 'no joke': 0.0024096385542168677, 'joke ': 0.0024096385542168677, ' no': 0.0024096385542168677, 'no other': 0.0024096385542168677, 'other withdrawals': 0.0024096385542168677, 'withdrawals are': 0.0024096385542168677, 'are as': 0.0024096385542168677, 'as deadly': 0.0024096385542168677, 'deadly ': 0.0024096385542168677, ' other': 0.0024096385542168677, 'other than': 0.0024096385542168677, 'than alcohol': 0.0024096385542168677, 'alcohol the': 0.0024096385542168677, 'the system': 0.0024096385542168677, 'system that': 0.0024096385542168677, 'that these': 0.0024096385542168677, 'these drugs': 0.0024096385542168677, 'drugs work': 0.0024096385542168677, 'work on': 0.0024096385542168677, 'on in': 0.0024096385542168677, 'in your': 0.0024096385542168677, 'your body': 0.0024096385542168677, 'body is': 0.0024096385542168677, 'is the': 0.0024096385542168677, 'the last': 0.0024096385542168677, 'last thing': 0.0024096385542168677, 'thing someone': 0.0024096385542168677, 'someone with': 0.0024096385542168677, 'with anxiety': 0.0024096385542168677, 'anxiety should': 0.0024096385542168677, 'should be': 0.0024096385542168677, 'be messing': 0.0024096385542168677, 'messing with': 0.0024096385542168677, 'with ': 0.0024096385542168677, ' the': 0.0024096385542168677, 'the only': 0.0024096385542168677, 'only way': 0.0024096385542168677, 'way to': 0.0024096385542168677, 'take these': 0.0024096385542168677, 'these things': 0.004819277108433735, 'things therapeutically': 0.0024096385542168677, 'therapeutically is': 0.0024096385542168677, 'is short': 0.0024096385542168677, 'short term': 0.004819277108433735, 'term ': 0.004819277108433735, ' which': 0.0024096385542168677, 'which our': 0.0024096385542168677, 'our condition': 0.0024096385542168677, 'condition isn': 0.0024096385542168677, 't short': 0.0024096385542168677, ' is': 0.0024096385542168677, 'is it': 0.0024096385542168677, ' such': 0.0024096385542168677, 'such an': 0.0024096385542168677, 'an incredibly': 0.0024096385542168677, 'incredibly important': 0.0024096385542168677, 'important and': 0.0024096385542168677, 'and fragile': 0.0024096385542168677, 'fragile system': 0.0024096385542168677, 'system needs': 0.0024096385542168677, 'needs respect': 0.0024096385542168677, 'respect ': 0.0024096385542168677, ' gaba': 0.0024096385542168677, 'gaba ': 0.0024096385542168677, ' and': 0.0024096385542168677, 'and as': 0.0024096385542168677, 'as soon': 0.0024096385542168677, 'soon as': 0.0024096385542168677, 'as you': 0.004819277108433735, 'you throw': 0.0024096385542168677, 'throw that': 0.0024096385542168677, 'that out': 0.0024096385542168677, 'out of': 0.0024096385542168677, 'of whack': 0.0024096385542168677, 'whack you': 0.0024096385542168677, 'you ': 0.004819277108433735, 've immediately': 0.0024096385542168677, 'immediately doubled': 0.0024096385542168677, 'doubled or': 0.0024096385542168677, 'or tripled': 0.0024096385542168677, 'tripled the': 0.0024096385542168677, 'the amount': 0.0024096385542168677, 'of anxiety': 0.0024096385542168677, 'anxiety you': 0.0024096385542168677, 'you could': 0.0024096385542168677, 'could have': 0.0024096385542168677, 'have been': 0.0024096385542168677, 'been experiencing': 0.0024096385542168677, 'experiencing ': 0.0024096385542168677, ' unless': 0.0024096385542168677, 'unless you': 0.0024096385542168677, 'you keep': 0.0024096385542168677, 'keep on': 0.0024096385542168677, 'on the': 0.0024096385542168677, 'the pill': 0.0024096385542168677, 'pill ': 0.0024096385542168677, ' eventually': 0.0024096385542168677, 'eventually needing': 0.0024096385542168677, 'needing more': 0.0024096385542168677, 'more of': 0.0024096385542168677, 'of the': 0.004819277108433735, 'the same': 0.0024096385542168677, 'same this': 0.0024096385542168677, 'this makes': 0.0024096385542168677, 'makes me': 0.0024096385542168677, 'me question': 0.0024096385542168677, 'question ': 0.0024096385542168677, ' are': 0.0024096385542168677, 'are the': 0.0024096385542168677, 'the benzos': 0.0024096385542168677, 'benzos worth': 0.0024096385542168677, 'worth it': 0.0024096385542168677, ' m': 0.00963855421686747, 'm thinking': 0.0024096385542168677, 'thinking fucking': 0.0024096385542168677, 'fucking nah': 0.0024096385542168677, 'nah they': 0.0024096385542168677, 'they ': 0.0024096385542168677, ' re': 0.0024096385542168677, 're not': 0.0024096385542168677, 'not these': 0.0024096385542168677, 'things are': 0.0024096385542168677, 'are more': 0.0024096385542168677, 'more abhorrent': 0.0024096385542168677, 'abhorrent than': 0.0024096385542168677, 'than opiates': 0.0024096385542168677, 'opiates in': 0.0024096385542168677, 'in my': 0.0024096385542168677, 'my mind': 0.0024096385542168677, 'mind and': 0.0024096385542168677, 'm sorry': 0.0024096385542168677, 'sorry for': 0.0024096385542168677, 'for anyone': 0.0024096385542168677, 'anyone who': 0.0024096385542168677, 'who ': 0.0024096385542168677, 's been': 0.0024096385542168677, 'been forced': 0.0024096385542168677, 'forced onto': 0.0024096385542168677, 'onto big': 0.0024096385542168677, 'big dosages': 0.0024096385542168677, 'dosages to': 0.0024096385542168677, 'to battle': 0.0024096385542168677, 'battle anxiety': 0.0024096385542168677, 'anxiety ': 0.0024096385542168677, 'i believe': 0.0024096385542168677, 'believe you': 0.0024096385542168677, 'been lead': 0.0024096385542168677, 'lead astray': 0.0024096385542168677, 'astray i': 0.0024096385542168677, 'm mostly': 0.0024096385542168677, 'mostly writing': 0.0024096385542168677, 'writing this': 0.0024096385542168677, 'this in': 0.0024096385542168677, 'in attempt': 0.0024096385542168677, 'attempt to': 0.0024096385542168677, 'to convince': 0.0024096385542168677, 'convince myself': 0.0024096385542168677, 'myself to': 0.0024096385542168677, 'to flush': 0.0024096385542168677, 'flush the': 0.0024096385542168677, 'the rest': 0.0024096385542168677, 'rest of': 0.0024096385542168677, 'the fuckers': 0.0024096385542168677, 'fuckers down': 0.0024096385542168677, 'down the': 0.0024096385542168677, 'the toilet': 0.0024096385542168677, 'toilet ': 0.0024096385542168677, 'm not': 0.0024096385542168677, 'not interested': 0.0024096385542168677, 'interested in': 0.0024096385542168677, 'in losing': 0.0024096385542168677, 'losing months': 0.0024096385542168677, 'months of': 0.0024096385542168677, 'of my': 0.0024096385542168677, 'my life': 0.0024096385542168677, 'life tapering': 0.0024096385542168677, 'tapering if': 0.0024096385542168677, 'if i': 0.0024096385542168677, 'i can': 0.0024096385542168677, 'can cut': 0.0024096385542168677, 'cut it': 0.0024096385542168677, 'it off': 0.0024096385542168677, 'off now': 0.0024096385542168677, 'now my': 0.0024096385542168677, 'my only': 0.0024096385542168677, 'only saving': 0.0024096385542168677, 'saving grace': 0.0024096385542168677, 'grace has': 0.0024096385542168677, 'has been': 0.0024096385542168677, 'been beta': 0.0024096385542168677, 'beta blockers': 0.0024096385542168677, 'blockers ': 0.0024096385542168677, 'i don': 0.0024096385542168677, 'don ': 0.0024096385542168677, 't think': 0.0024096385542168677, 'think there': 0.0024096385542168677, 'there ': 0.0024096385542168677, 's anything': 0.0024096385542168677, 'anything better': 0.0024096385542168677, 'better and': 0.0024096385542168677, 'and safer': 0.0024096385542168677, 'safer than': 0.0024096385542168677, 'than that': 0.0024096385542168677, 'that in': 0.0024096385542168677, 'in conjunction': 0.0024096385542168677, 'conjunction with': 0.0024096385542168677, 'with therapy': 0.0024096385542168677, 'therapy this': 0.0024096385542168677, 'this has': 0.0024096385542168677, 'has all': 0.0024096385542168677, 'all been': 0.0024096385542168677, 'been just': 0.0024096385542168677, 'just my': 0.0024096385542168677, 'my biased': 0.0024096385542168677, 'biased opinion': 0.0024096385542168677, 'opinion ': 0.0024096385542168677, 'take it': 0.0024096385542168677, 'it as': 0.0024096385542168677, 'you will': 0.0024096385542168677, 'will ': 0.0024096385542168677}, 'anxiety')\n",
            "Training Classifier...\n"
          ],
          "name": "stdout"
        },
        {
          "output_type": "stream",
          "text": [
            "/usr/local/lib/python3.7/dist-packages/sklearn/svm/_base.py:947: ConvergenceWarning: Liblinear failed to converge, increase the number of iterations.\n",
            "  \"the number of iterations.\", ConvergenceWarning)\n"
          ],
          "name": "stderr"
        },
        {
          "output_type": "stream",
          "text": [
            "Done training!\n",
            "Precision: 0.781356\n",
            "Recall: 0.779626\n",
            "F Score:0.774598\n"
          ],
          "name": "stdout"
        }
      ]
    },
    {
      "cell_type": "code",
      "metadata": {
        "colab": {
          "base_uri": "https://localhost:8080/"
        },
        "id": "aeeAR0-vwaRm",
        "outputId": "bec30893-7beb-487d-aa26-5c6f879fa755"
      },
      "source": [
        "print(metrics.classification_report(testTrue, testPred))"
      ],
      "execution_count": null,
      "outputs": [
        {
          "output_type": "stream",
          "text": [
            "                 precision    recall  f1-score   support\n",
            "\n",
            "        anxiety       0.82      0.76      0.79      4342\n",
            "  bipolarreddit       0.82      0.30      0.44       340\n",
            "     conspiracy       0.84      0.92      0.88      1498\n",
            "     depression       0.72      0.83      0.77     11715\n",
            "        fitness       0.94      0.96      0.95      3478\n",
            "     meditation       0.94      0.84      0.89       946\n",
            "      parenting       0.90      0.92      0.91      1979\n",
            "personalfinance       0.94      0.79      0.86       337\n",
            "           ptsd       0.88      0.48      0.62       451\n",
            "  schizophrenia       0.88      0.47      0.61       505\n",
            "   suicidewatch       0.65      0.54      0.59      5052\n",
            "       teaching       0.90      0.72      0.80       250\n",
            "\n",
            "       accuracy                           0.78     30893\n",
            "      macro avg       0.85      0.71      0.76     30893\n",
            "   weighted avg       0.78      0.78      0.77     30893\n",
            "\n"
          ],
          "name": "stdout"
        }
      ]
    },
    {
      "cell_type": "code",
      "metadata": {
        "id": "70vIO_tcx7Ow"
      },
      "source": [
        "labels=['conspiracy','depression','anxiety','bipolarreddit','fitness','meditation','parenting',\n",
        "        'personalfinance','schizophrenia','suicide','teaching','ptsd']\n",
        "confusion = confusion_matrix(testTrue, testPred,labels)"
      ],
      "execution_count": null,
      "outputs": []
    },
    {
      "cell_type": "code",
      "metadata": {
        "colab": {
          "base_uri": "https://localhost:8080/",
          "height": 458
        },
        "id": "_tcVUAGYyEMz",
        "outputId": "f3fa1559-7a04-447f-c623-7c9318a6a076"
      },
      "source": [
        "import seaborn as sns\n",
        "import matplotlib.pyplot as plt     \n",
        "fig = plt.figure(figsize=(10,6))\n",
        "ax= plt.subplot()\n",
        "sns.heatmap(confusion, annot=True, cmap='Blues',fmt='g', ax=ax);  #annot=True to annotate cells, ftm='g' to disable scientific notation\n",
        "\n",
        "# labels, title and ticks\n",
        "\n",
        "ax.set_xlabel('Predicted labels');ax.set_ylabel('True labels'); \n",
        "ax.set_title('Confusion Matrix'); \n",
        "ax.set_xticklabels( labels,rotation=45); ax.set_yticklabels(labels,rotation=45);"
      ],
      "execution_count": null,
      "outputs": [
        {
          "output_type": "display_data",
          "data": {
            "image/png": "[encoded data removed]",
            "text/plain": [
              "<Figure size 720x432 with 2 Axes>"
            ]
          },
          "metadata": {
            "tags": [],
            "needs_background": "light"
          }
        }
      ]
    }
  ]
}