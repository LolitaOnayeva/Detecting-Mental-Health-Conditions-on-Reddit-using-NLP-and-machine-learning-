{
  "nbformat": 4,
  "nbformat_minor": 0,
  "metadata": {
    "colab": {
      "name": "Mental_Health_Unigram_Tfidf_SVM.ipynb",
      "provenance": [],
      "collapsed_sections": [],
      "authorship_tag": "ABX9TyNmbpbb+I/wkp5nKvmIbPGx",
      "include_colab_link": true
    },
    "kernelspec": {
      "name": "python3",
      "display_name": "Python 3"
    },
    "language_info": {
      "name": "python"
    }
  },
  "cells": [
    {
      "cell_type": "markdown",
      "metadata": {
        "id": "view-in-github",
        "colab_type": "text"
      },
      "source": [
        "<a href=\"https://colab.research.google.com/github/LolitaOnayeva/Detecting-Mental-Health-Conditions-on-Reddit-using-NLP-and-machine-learning-/blob/main/Mental_Health_Unigram_Tfidf_SVM.ipynb\" target=\"_parent\"><img src=\"https://colab.research.google.com/assets/colab-badge.svg\" alt=\"Open In Colab\"/></a>"
      ]
    },
    {
      "cell_type": "code",
      "metadata": {
        "id": "o2uddj1vFbJx"
      },
      "source": [
        "import csv                               \n",
        "import re                                       \n",
        "from sklearn.svm import LinearSVC\n",
        "from nltk.classify import SklearnClassifier\n",
        "from nltk.stem import WordNetLemmatizer\n",
        "from nltk import word_tokenize\n",
        "from nltk.tokenize import RegexpTokenizer\n",
        "from nltk.corpus import stopwords\n",
        "from sklearn.model_selection import cross_val_score\n",
        "from sklearn import metrics\n",
        "from sklearn.metrics import precision_recall_fscore_support \n",
        "from random import shuffle\n",
        "import numpy as np\n",
        "from collections import Counter\n",
        "from nltk.stem.porter import PorterStemmer\n",
        "from nltk.stem import WordNetLemmatizer\n",
        "from sklearn.metrics import hamming_loss, accuracy_score\n",
        "\n",
        "from sklearn.feature_selection import SelectKBest, chi2\n",
        "from sklearn.pipeline import Pipeline\n",
        "from sklearn.feature_extraction.text import TfidfTransformer"
      ],
      "execution_count": null,
      "outputs": []
    },
    {
      "cell_type": "code",
      "metadata": {
        "colab": {
          "base_uri": "https://localhost:8080/"
        },
        "id": "F3mj9HlNs14N",
        "outputId": "d883b738-0369-433d-a4ac-9e1767128917"
      },
      "source": [
        "from google.colab import drive\n",
        "drive.mount('/content/drive')"
      ],
      "execution_count": null,
      "outputs": [
        {
          "output_type": "stream",
          "text": [
            "Mounted at /content/drive\n"
          ],
          "name": "stdout"
        }
      ]
    },
    {
      "cell_type": "code",
      "metadata": {
        "colab": {
          "base_uri": "https://localhost:8080/"
        },
        "id": "fLqZr1yyFjAw",
        "outputId": "84df4ba2-270e-4a75-b3f3-a8bcd6ea30d3"
      },
      "source": [
        "import nltk\n",
        "nltk.download('wordnet')"
      ],
      "execution_count": null,
      "outputs": [
        {
          "output_type": "stream",
          "text": [
            "[nltk_data] Downloading package wordnet to /root/nltk_data...\n",
            "[nltk_data]   Unzipping corpora/wordnet.zip.\n"
          ],
          "name": "stdout"
        },
        {
          "output_type": "execute_result",
          "data": {
            "text/plain": [
              "True"
            ]
          },
          "metadata": {
            "tags": []
          },
          "execution_count": 3
        }
      ]
    },
    {
      "cell_type": "code",
      "metadata": {
        "id": "1TXvwll6FlTT"
      },
      "source": [
        "def parseReview(reviewLine): \n",
        "    Mental_Health_Condition=reviewLine[2] \n",
        "    Author=reviewLine[3]\n",
        "    Date=reviewLine[4]\n",
        "    Post=reviewLine[5]\n",
        "\n",
        "    return (Mental_Health_Condition,Author,Date, Post)"
      ],
      "execution_count": null,
      "outputs": []
    },
    {
      "cell_type": "code",
      "metadata": {
        "id": "0eTXzTTrFoB3"
      },
      "source": [
        "def preProcess(text):\n",
        "    \n",
        "    text = re.sub(r\"(\\w)([.,;:!?'\\\"”\\)])\", r\"\\1 \\2\", text) \n",
        "    text = re.sub(r\"([.,;:!?'\\\"“\\(])(\\w)\", r\"\\1 \\2\", text)\n",
        "    text = re.sub(r\"(\\S)\\1\\1+\",r\"\\1\\1\\1\", text)\n",
        "    text = re.sub(r'[^A-Za-z0-9 ]+','', text)  # remove non- english characters such as Äö \n",
        "    \n",
        "    # normalisation- convert to lower case \n",
        "    tokens = text.split(\" \")\n",
        "    tokens = [t.lower() for t in tokens]\n",
        "    \n",
        "    porter = PorterStemmer()\n",
        "    stemmed_tokens = []\n",
        "    for token in tokens:\n",
        "        stemmed_tokens.append(porter.stem(token))\n",
        "        \n",
        "    lemmatized_tokens=[]\n",
        "    lemmatizer = WordNetLemmatizer()\n",
        "    for token in stemmed_tokens:\n",
        "        lemmatized_tokens.append(lemmatizer.lemmatize(token))\n",
        "    \n",
        "    return lemmatized_tokens"
      ],
      "execution_count": null,
      "outputs": []
    },
    {
      "cell_type": "code",
      "metadata": {
        "id": "7f7LmD5NFrX6"
      },
      "source": [
        "featureDict = {} \n",
        "\n",
        "def toFeatureVector(lemmatized_tokens):\n",
        "    v = {}\n",
        "    for t in lemmatized_tokens:\n",
        "        try:\n",
        "            featureDict[t] += 1\n",
        "        except KeyError:            \n",
        "            featureDict[t] = 1\n",
        "        try:\n",
        "            v[t] += (1.0/len(lemmatized_tokens))\n",
        "        except KeyError:\n",
        "            v[t] = (1.0/len(lemmatized_tokens))\n",
        "    return v"
      ],
      "execution_count": null,
      "outputs": []
    },
    {
      "cell_type": "code",
      "metadata": {
        "id": "0SQdA9pGFxQ8"
      },
      "source": [
        "# Downloading datasets \n",
        "rawTrainData=[]\n",
        "with open(\"/content/drive/MyDrive/mental_health_data/full_mental_health_df_train.csv\") as f:\n",
        "    reader = csv.reader(f,quoting=csv.QUOTE_ALL, skipinitialspace=True)\n",
        "    for line in reader:   \n",
        "        (Mental_Health_Condition,Author,Date, Post) = parseReview(line)\n",
        "        rawTrainData.append((Mental_Health_Condition,Author,Date, Post))\n",
        "        \n",
        "rawTestData=[]\n",
        "with open('/content/drive/MyDrive/mental_health_data/full_mental_health_df_test.csv') as f:\n",
        "    reader = csv.reader(f,quoting=csv.QUOTE_ALL, skipinitialspace=True)\n",
        "    for line in reader:   \n",
        "        (Mental_Health_Condition,Author,Date, Post) = parseReview(line)\n",
        "        rawTestData.append((Mental_Health_Condition,Author,Date, Post))\n",
        "\n",
        "testData=[]\n",
        "trainData=[]\n",
        "\n",
        "for (Mental_Health_Condition,_,_,Post) in rawTrainData:\n",
        "        #trainData.append((Mental_Health_Condition,toFeatureVector(preProcess(Post))))\n",
        "        trainData.append((toFeatureVector(preProcess(Post)),Mental_Health_Condition))\n",
        "\n",
        "for (Mental_Health_Condition,_,_,Post) in rawTestData:\n",
        "        #testData.append((Mental_Health_Condition,toFeatureVector(preProcess(Post))))\n",
        "        testData.append((toFeatureVector(preProcess(Post)),Mental_Health_Condition))"
      ],
      "execution_count": null,
      "outputs": []
    },
    {
      "cell_type": "code",
      "metadata": {
        "id": "IQlImyUHsvXI"
      },
      "source": [
        ""
      ],
      "execution_count": null,
      "outputs": []
    },
    {
      "cell_type": "code",
      "metadata": {
        "colab": {
          "base_uri": "https://localhost:8080/"
        },
        "id": "_JrNhoGqMpBz",
        "outputId": "4be300ae-3455-43e2-a592-d7e2cb96fe07"
      },
      "source": [
        "testData[5]"
      ],
      "execution_count": null,
      "outputs": [
        {
          "output_type": "execute_result",
          "data": {
            "text/plain": [
              "({'': 0.10169491525423728,\n",
              "  'am': 0.01694915254237288,\n",
              "  'and': 0.03389830508474576,\n",
              "  'anxieti': 0.01694915254237288,\n",
              "  'at': 0.01694915254237288,\n",
              "  'but': 0.01694915254237288,\n",
              "  'calm': 0.01694915254237288,\n",
              "  'can': 0.01694915254237288,\n",
              "  'don': 0.01694915254237288,\n",
              "  'down': 0.03389830508474576,\n",
              "  'everyth': 0.01694915254237288,\n",
              "  'feel': 0.03389830508474576,\n",
              "  'give': 0.01694915254237288,\n",
              "  'handl': 0.01694915254237288,\n",
              "  'heavi': 0.01694915254237288,\n",
              "  'horribl': 0.01694915254237288,\n",
              "  'i': 0.13559322033898305,\n",
              "  'insid': 0.01694915254237288,\n",
              "  'is': 0.03389830508474576,\n",
              "  'just': 0.03389830508474576,\n",
              "  'know': 0.01694915254237288,\n",
              "  'm': 0.01694915254237288,\n",
              "  'me': 0.05084745762711865,\n",
              "  's': 0.01694915254237288,\n",
              "  'strong': 0.01694915254237288,\n",
              "  't': 0.01694915254237288,\n",
              "  'terribl': 0.01694915254237288,\n",
              "  'thing': 0.01694915254237288,\n",
              "  'think': 0.01694915254237288,\n",
              "  'though': 0.01694915254237288,\n",
              "  'thrown': 0.01694915254237288,\n",
              "  'today': 0.03389830508474576,\n",
              "  'up': 0.01694915254237288,\n",
              "  'veri': 0.03389830508474576,\n",
              "  'what': 0.01694915254237288,\n",
              "  'whatev': 0.01694915254237288,\n",
              "  'wish': 0.01694915254237288,\n",
              "  'would': 0.01694915254237288},\n",
              " 'anxiety')"
            ]
          },
          "metadata": {
            "tags": []
          },
          "execution_count": 8
        }
      ]
    },
    {
      "cell_type": "code",
      "metadata": {
        "id": "yvYgdxUUMpZY"
      },
      "source": [
        ""
      ],
      "execution_count": null,
      "outputs": []
    },
    {
      "cell_type": "code",
      "metadata": {
        "colab": {
          "base_uri": "https://localhost:8080/"
        },
        "id": "3Dzf4IEgFz62",
        "outputId": "56b217ec-237f-4159-ff27-74a03d068a1b"
      },
      "source": [
        "# Lenght of the datasets\n",
        "print(\"Now  %d trainData, %d testData\" % ( len(trainData), len(testData)))\n",
        "\n",
        "# Number of features\n",
        "print(\"Training Samples: \", len(trainData), \"Features: \", len(featureDict), sep='\\n')"
      ],
      "execution_count": null,
      "outputs": [
        {
          "output_type": "stream",
          "text": [
            "Now  120827 trainData, 30040 testData\n",
            "Training Samples: \n",
            "120827\n",
            "Features: \n",
            "140854\n"
          ],
          "name": "stdout"
        }
      ]
    },
    {
      "cell_type": "code",
      "metadata": {
        "id": "4_9QPUWU-Ix0"
      },
      "source": [
        "# Training and validating classifier\n",
        "def trainClassifier(trainData):\n",
        "    print(\"Training Classifier...\")\n",
        "    pipeline = Pipeline([('tfidf', TfidfTransformer()),('svc', LinearSVC(loss = 'hinge'))])\n",
        "    return SklearnClassifier(pipeline).train(trainData)"
      ],
      "execution_count": null,
      "outputs": []
    },
    {
      "cell_type": "code",
      "metadata": {
        "id": "5wWWYfI-lIPy"
      },
      "source": [
        "# Predicting labels given a classifier\n",
        "def predictLabels(reviewSamples, classifier):\n",
        "    return classifier.classify_many(map(lambda t: t[0], reviewSamples))"
      ],
      "execution_count": null,
      "outputs": []
    },
    {
      "cell_type": "code",
      "metadata": {
        "id": "5eWWmcpClKfW"
      },
      "source": [
        "# Cross-Validate\n",
        "def crossValidate(dataset, folds):\n",
        "    shuffle(dataset)\n",
        "    results = []\n",
        "    foldSize = int(len(dataset)/folds)\n",
        "    \n",
        "    for i in range(0,len(dataset),int(foldSize)):\n",
        "        # insert code here that trains and tests on the 10 folds of data in the dataset\n",
        "        print(\"Fold start on items %d - %d\" % (i, i+foldSize))\n",
        "        myTestData = dataset[i:i+foldSize]\n",
        "        myTrainData = dataset[:i] + dataset[i+foldSize:]\n",
        "        classifier = trainClassifier(myTrainData)\n",
        "        y_true = [x[1] for x in myTestData]\n",
        "        y_pred = predictLabels(myTestData, classifier)\n",
        "        results.append(precision_recall_fscore_support(y_true, y_pred, average='weighted'))\n",
        "        \n",
        "    print(zip(*results))\n",
        "    avgResults = [np.mean([x[0] for x in results]),\n",
        "                  np.mean([x[1] for x in results]),\n",
        "                  np.mean([x[2] for x in results])\n",
        "                ]\n",
        "    return avgResults"
      ],
      "execution_count": null,
      "outputs": []
    },
    {
      "cell_type": "code",
      "metadata": {
        "colab": {
          "base_uri": "https://localhost:8080/"
        },
        "id": "6djjonI-lOy-",
        "outputId": "6c2884b1-6980-4b2e-f5a5-156551592d24"
      },
      "source": [
        "cv_results = crossValidate(trainData, 10)\n",
        "print(cv_results)"
      ],
      "execution_count": null,
      "outputs": [
        {
          "output_type": "stream",
          "text": [
            "Fold start on items 0 - 12082\n",
            "Training Classifier...\n"
          ],
          "name": "stdout"
        },
        {
          "output_type": "stream",
          "text": [
            "/usr/local/lib/python3.7/dist-packages/sklearn/svm/_base.py:947: ConvergenceWarning: Liblinear failed to converge, increase the number of iterations.\n",
            "  \"the number of iterations.\", ConvergenceWarning)\n",
            "/usr/local/lib/python3.7/dist-packages/sklearn/metrics/_classification.py:1272: UndefinedMetricWarning: Recall and F-score are ill-defined and being set to 0.0 in labels with no true samples. Use `zero_division` parameter to control this behavior.\n",
            "  _warn_prf(average, modifier, msg_start, len(result))\n"
          ],
          "name": "stderr"
        },
        {
          "output_type": "stream",
          "text": [
            "Fold start on items 12082 - 24164\n",
            "Training Classifier...\n"
          ],
          "name": "stdout"
        },
        {
          "output_type": "stream",
          "text": [
            "/usr/local/lib/python3.7/dist-packages/sklearn/svm/_base.py:947: ConvergenceWarning: Liblinear failed to converge, increase the number of iterations.\n",
            "  \"the number of iterations.\", ConvergenceWarning)\n",
            "/usr/local/lib/python3.7/dist-packages/sklearn/metrics/_classification.py:1272: UndefinedMetricWarning: Precision and F-score are ill-defined and being set to 0.0 in labels with no predicted samples. Use `zero_division` parameter to control this behavior.\n",
            "  _warn_prf(average, modifier, msg_start, len(result))\n"
          ],
          "name": "stderr"
        },
        {
          "output_type": "stream",
          "text": [
            "Fold start on items 24164 - 36246\n",
            "Training Classifier...\n"
          ],
          "name": "stdout"
        },
        {
          "output_type": "stream",
          "text": [
            "/usr/local/lib/python3.7/dist-packages/sklearn/svm/_base.py:947: ConvergenceWarning: Liblinear failed to converge, increase the number of iterations.\n",
            "  \"the number of iterations.\", ConvergenceWarning)\n",
            "/usr/local/lib/python3.7/dist-packages/sklearn/metrics/_classification.py:1272: UndefinedMetricWarning: Recall and F-score are ill-defined and being set to 0.0 in labels with no true samples. Use `zero_division` parameter to control this behavior.\n",
            "  _warn_prf(average, modifier, msg_start, len(result))\n"
          ],
          "name": "stderr"
        },
        {
          "output_type": "stream",
          "text": [
            "Fold start on items 36246 - 48328\n",
            "Training Classifier...\n"
          ],
          "name": "stdout"
        },
        {
          "output_type": "stream",
          "text": [
            "/usr/local/lib/python3.7/dist-packages/sklearn/svm/_base.py:947: ConvergenceWarning: Liblinear failed to converge, increase the number of iterations.\n",
            "  \"the number of iterations.\", ConvergenceWarning)\n"
          ],
          "name": "stderr"
        },
        {
          "output_type": "stream",
          "text": [
            "Fold start on items 48328 - 60410\n",
            "Training Classifier...\n"
          ],
          "name": "stdout"
        },
        {
          "output_type": "stream",
          "text": [
            "/usr/local/lib/python3.7/dist-packages/sklearn/svm/_base.py:947: ConvergenceWarning: Liblinear failed to converge, increase the number of iterations.\n",
            "  \"the number of iterations.\", ConvergenceWarning)\n"
          ],
          "name": "stderr"
        },
        {
          "output_type": "stream",
          "text": [
            "Fold start on items 60410 - 72492\n",
            "Training Classifier...\n"
          ],
          "name": "stdout"
        },
        {
          "output_type": "stream",
          "text": [
            "/usr/local/lib/python3.7/dist-packages/sklearn/svm/_base.py:947: ConvergenceWarning: Liblinear failed to converge, increase the number of iterations.\n",
            "  \"the number of iterations.\", ConvergenceWarning)\n",
            "/usr/local/lib/python3.7/dist-packages/sklearn/metrics/_classification.py:1272: UndefinedMetricWarning: Recall and F-score are ill-defined and being set to 0.0 in labels with no true samples. Use `zero_division` parameter to control this behavior.\n",
            "  _warn_prf(average, modifier, msg_start, len(result))\n"
          ],
          "name": "stderr"
        },
        {
          "output_type": "stream",
          "text": [
            "Fold start on items 72492 - 84574\n",
            "Training Classifier...\n"
          ],
          "name": "stdout"
        },
        {
          "output_type": "stream",
          "text": [
            "/usr/local/lib/python3.7/dist-packages/sklearn/svm/_base.py:947: ConvergenceWarning: Liblinear failed to converge, increase the number of iterations.\n",
            "  \"the number of iterations.\", ConvergenceWarning)\n",
            "/usr/local/lib/python3.7/dist-packages/sklearn/metrics/_classification.py:1272: UndefinedMetricWarning: Recall and F-score are ill-defined and being set to 0.0 in labels with no true samples. Use `zero_division` parameter to control this behavior.\n",
            "  _warn_prf(average, modifier, msg_start, len(result))\n"
          ],
          "name": "stderr"
        },
        {
          "output_type": "stream",
          "text": [
            "Fold start on items 84574 - 96656\n",
            "Training Classifier...\n"
          ],
          "name": "stdout"
        },
        {
          "output_type": "stream",
          "text": [
            "/usr/local/lib/python3.7/dist-packages/sklearn/svm/_base.py:947: ConvergenceWarning: Liblinear failed to converge, increase the number of iterations.\n",
            "  \"the number of iterations.\", ConvergenceWarning)\n"
          ],
          "name": "stderr"
        },
        {
          "output_type": "stream",
          "text": [
            "Fold start on items 96656 - 108738\n",
            "Training Classifier...\n"
          ],
          "name": "stdout"
        },
        {
          "output_type": "stream",
          "text": [
            "/usr/local/lib/python3.7/dist-packages/sklearn/svm/_base.py:947: ConvergenceWarning: Liblinear failed to converge, increase the number of iterations.\n",
            "  \"the number of iterations.\", ConvergenceWarning)\n"
          ],
          "name": "stderr"
        },
        {
          "output_type": "stream",
          "text": [
            "Fold start on items 108738 - 120820\n",
            "Training Classifier...\n"
          ],
          "name": "stdout"
        },
        {
          "output_type": "stream",
          "text": [
            "/usr/local/lib/python3.7/dist-packages/sklearn/svm/_base.py:947: ConvergenceWarning: Liblinear failed to converge, increase the number of iterations.\n",
            "  \"the number of iterations.\", ConvergenceWarning)\n",
            "/usr/local/lib/python3.7/dist-packages/sklearn/metrics/_classification.py:1272: UndefinedMetricWarning: Recall and F-score are ill-defined and being set to 0.0 in labels with no true samples. Use `zero_division` parameter to control this behavior.\n",
            "  _warn_prf(average, modifier, msg_start, len(result))\n"
          ],
          "name": "stderr"
        },
        {
          "output_type": "stream",
          "text": [
            "Fold start on items 120820 - 132902\n",
            "Training Classifier...\n",
            "<zip object at 0x7fe953a892d0>\n",
            "[0.7906254249452036, 0.792034732359182, 0.7835109198387117]\n"
          ],
          "name": "stdout"
        }
      ]
    },
    {
      "cell_type": "code",
      "metadata": {
        "colab": {
          "base_uri": "https://localhost:8080/"
        },
        "id": "PWC0gFBklUhS",
        "outputId": "9e76638e-49b1-4dd8-a271-a0f594a30030"
      },
      "source": [
        "functions_complete = True  \n",
        "if functions_complete:\n",
        "    print(testData[0])   \n",
        "    classifier = trainClassifier(trainData)  \n",
        "    testTrue = [t[1] for t in testData]   \n",
        "    testPred = predictLabels(testData, classifier)  \n",
        "    finalScores = precision_recall_fscore_support(testTrue, testPred, average='weighted')\n",
        "    #accuracy_score \n",
        "    print(\"Done training!\")\n",
        "    print(\"Precision: %f\\nRecall: %f\\nF Score:%f\" % finalScores[:3])\n",
        "    print(\"accuracy_score:\", accuracy_score(testTrue, testPred))"
      ],
      "execution_count": null,
      "outputs": [
        {
          "output_type": "stream",
          "text": [
            "({'post': 1.0}, 'subreddit')\n",
            "Training Classifier...\n"
          ],
          "name": "stdout"
        },
        {
          "output_type": "stream",
          "text": [
            "/usr/local/lib/python3.7/dist-packages/sklearn/svm/_base.py:947: ConvergenceWarning: Liblinear failed to converge, increase the number of iterations.\n",
            "  \"the number of iterations.\", ConvergenceWarning)\n"
          ],
          "name": "stderr"
        },
        {
          "output_type": "stream",
          "text": [
            "Done training!\n",
            "Precision: 0.801286\n",
            "Recall: 0.802929\n",
            "F Score:0.798606\n",
            "accuracy_score: 0.8029294274300932\n"
          ],
          "name": "stdout"
        }
      ]
    },
    {
      "cell_type": "code",
      "metadata": {
        "colab": {
          "base_uri": "https://localhost:8080/"
        },
        "id": "VKH1-O4xn6-B",
        "outputId": "bd9d8f84-f5da-4fe9-eb08-b3e1ddd7a606"
      },
      "source": [
        "print(metrics.classification_report(testTrue, testPred))"
      ],
      "execution_count": null,
      "outputs": [
        {
          "output_type": "stream",
          "text": [
            "                 precision    recall  f1-score   support\n",
            "\n",
            "        anxiety       0.86      0.79      0.82      4347\n",
            "  bipolarreddit       0.76      0.42      0.54       317\n",
            "     conspiracy       0.90      0.92      0.91      1508\n",
            "     depression       0.75      0.84      0.79     11625\n",
            "        fitness       0.96      0.98      0.97      3438\n",
            "     meditation       0.95      0.91      0.93       977\n",
            "      parenting       0.90      0.94      0.92      1871\n",
            "personalfinance       0.90      0.87      0.89       309\n",
            "  schizophrenia       0.83      0.60      0.69       527\n",
            "      subreddit       0.00      0.00      0.00         1\n",
            "   suicidewatch       0.66      0.52      0.58      4855\n",
            "       teaching       0.90      0.79      0.84       265\n",
            "\n",
            "       accuracy                           0.80     30040\n",
            "      macro avg       0.78      0.72      0.74     30040\n",
            "   weighted avg       0.80      0.80      0.80     30040\n",
            "\n"
          ],
          "name": "stdout"
        }
      ]
    },
    {
      "cell_type": "code",
      "metadata": {
        "id": "jAdPX2wWNsNc"
      },
      "source": [
        "from sklearn.metrics import accuracy_score,confusion_matrix\n",
        "from sklearn.metrics import ConfusionMatrixDisplay\n",
        "from sklearn.metrics import plot_confusion_matrix\n",
        "import matplotlib.pyplot as plt\n"
      ],
      "execution_count": null,
      "outputs": []
    },
    {
      "cell_type": "code",
      "metadata": {
        "id": "7NgZC3iFRCgD"
      },
      "source": [
        "labels=['conspiracy','depression','anxiety','bipolarreddit','fitness','meditation','parenting',\n",
        "        'personalfinance','schizophrenia','suicide','teaching','ptsd']\n",
        "confusion = confusion_matrix(testTrue, testPred,labels)"
      ],
      "execution_count": null,
      "outputs": []
    },
    {
      "cell_type": "code",
      "metadata": {
        "colab": {
          "base_uri": "https://localhost:8080/",
          "height": 458
        },
        "id": "qyNSUQLjYTX2",
        "outputId": "273b10f4-ecd1-40ac-dd9f-9a84029a6a96"
      },
      "source": [
        "import seaborn as sns\n",
        "import matplotlib.pyplot as plt     \n",
        "fig = plt.figure(figsize=(10,6))\n",
        "ax= plt.subplot()\n",
        "sns.heatmap(confusion, annot=True, cmap='Blues',fmt='g', ax=ax);  #annot=True to annotate cells, ftm='g' to disable scientific notation\n",
        "\n",
        "# labels, title and ticks\n",
        "\n",
        "ax.set_xlabel('Predicted labels');ax.set_ylabel('True labels'); \n",
        "ax.set_title('Confusion Matrix'); \n",
        "ax.set_xticklabels( labels,rotation=45); ax.set_yticklabels(labels,rotation=45);"
      ],
      "execution_count": null,
      "outputs": [
        {
          "output_type": "display_data",
          "data": {
            "image/png": "[encoded data removed]",
            "text/plain": [
              "<Figure size 720x432 with 2 Axes>"
            ]
          },
          "metadata": {
            "tags": [],
            "needs_background": "light"
          }
        }
      ]
    }
  ]
}