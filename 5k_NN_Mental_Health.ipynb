{
  "nbformat": 4,
  "nbformat_minor": 0,
  "metadata": {
    "colab": {
      "name": "5k_NN_Mental_Health.ipynb",
      "provenance": [],
      "collapsed_sections": [],
      "authorship_tag": "ABX9TyOXW3uQAE676payLPsIavP/",
      "include_colab_link": true
    },
    "kernelspec": {
      "display_name": "Python 3",
      "name": "python3"
    },
    "language_info": {
      "name": "python"
    }
  },
  "cells": [
    {
      "cell_type": "markdown",
      "metadata": {
        "id": "view-in-github",
        "colab_type": "text"
      },
      "source": [
        "<a href=\"https://colab.research.google.com/github/LolitaOnayeva/Detecting-Mental-Health-Conditions-on-Reddit-using-NLP-and-machine-learning-/blob/main/5k_NN_Mental_Health.ipynb\" target=\"_parent\"><img src=\"https://colab.research.google.com/assets/colab-badge.svg\" alt=\"Open In Colab\"/></a>"
      ]
    },
    {
      "cell_type": "code",
      "metadata": {
        "id": "KOLXaUpBxarw"
      },
      "source": [
        "import numpy as np # linear algebra\n",
        "import pandas as pd # data processing, CSV file I/O (e.g. pd.read_csv)\n",
        "import csv \n",
        "import re\n",
        "import matplotlib.pyplot as plt\n",
        "plt.style.use('ggplot')\n",
        "\n",
        "from sklearn.feature_extraction.text import CountVectorizer\n",
        "from sklearn.model_selection import train_test_split\n",
        "from sklearn.linear_model import LogisticRegression\n",
        "from sklearn.preprocessing import LabelEncoder\n",
        "from sklearn.preprocessing import OneHotEncoder\n",
        "from sklearn.model_selection import RandomizedSearchCV\n",
        "\n",
        "from keras.models import Sequential\n",
        "from keras import layers\n",
        "from keras.preprocessing.text import Tokenizer\n",
        "from keras.preprocessing.sequence import pad_sequences\n",
        "from keras.wrappers.scikit_learn import KerasClassifier\n",
        "\n",
        "import matplotlib.pyplot as plt\n",
        "from sklearn.metrics import accuracy_score,confusion_matrix\n",
        "from sklearn.metrics import ConfusionMatrixDisplay\n",
        "from sklearn.metrics import plot_confusion_matrix\n",
        "import numpy as np\n",
        "import seaborn as sns\n",
        "from sklearn.metrics import confusion_matrix"
      ],
      "execution_count": null,
      "outputs": []
    },
    {
      "cell_type": "code",
      "metadata": {
        "id": "fK5J5EOYzmy1",
        "colab": {
          "base_uri": "https://localhost:8080/"
        },
        "outputId": "6904d228-6cfc-456e-c7c5-098cebb3adda"
      },
      "source": [
        "from google.colab import drive\n",
        "drive.mount('/content/drive')"
      ],
      "execution_count": null,
      "outputs": [
        {
          "output_type": "stream",
          "text": [
            "Mounted at /content/drive\n"
          ],
          "name": "stdout"
        }
      ]
    },
    {
      "cell_type": "code",
      "metadata": {
        "id": "gqjVCQur5pQx"
      },
      "source": [
        "df = pd.read_csv('/content/drive/MyDrive/mental_health_data/full_mental_health_df.csv')"
      ],
      "execution_count": null,
      "outputs": []
    },
    {
      "cell_type": "code",
      "metadata": {
        "id": "6_MuEq4YwS6H",
        "colab": {
          "base_uri": "https://localhost:8080/"
        },
        "outputId": "fe6fcd42-7b06-454e-8023-e10524875d41"
      },
      "source": [
        "import nltk\n",
        "nltk.download('stopwords')\n",
        "from nltk.corpus import stopwords"
      ],
      "execution_count": null,
      "outputs": [
        {
          "output_type": "stream",
          "text": [
            "[nltk_data] Downloading package stopwords to /root/nltk_data...\n",
            "[nltk_data]   Unzipping corpora/stopwords.zip.\n"
          ],
          "name": "stdout"
        }
      ]
    },
    {
      "cell_type": "code",
      "metadata": {
        "id": "64QFwQwsvICx"
      },
      "source": [
        "REPLACE_BY_SPACE_RE = re.compile('[/(){}\\[\\]\\|@,;]')\n",
        "BAD_SYMBOLS_RE = re.compile('[^0-9a-z #+_]')\n",
        "STOPWORDS = set(stopwords.words('english'))\n",
        "\n",
        "def clean_text(text):\n",
        "    \"\"\"\n",
        "        text: a string\n",
        "        \n",
        "        return: modified initial string\n",
        "    \"\"\"\n",
        "    text = text.lower() # lowercase text\n",
        "    text = REPLACE_BY_SPACE_RE.sub(' ', text) # replace REPLACE_BY_SPACE_RE symbols by space in text. substitute the matched string in REPLACE_BY_SPACE_RE with space.\n",
        "    text = BAD_SYMBOLS_RE.sub('', text) # remove symbols which are in BAD_SYMBOLS_RE from text. substitute the matched string in BAD_SYMBOLS_RE with nothing. \n",
        "    text = text.replace('x', '')\n",
        "#    text = re.sub(r'\\W+', '', text)\n",
        "    text = ' '.join(word for word in text.split() if word not in STOPWORDS) # remove stopwors from text\n",
        "    return text\n",
        "df['post'] = df['post'].apply(clean_text)\n",
        "df['post'] = df['post'].str.replace('\\d+', '')"
      ],
      "execution_count": null,
      "outputs": []
    },
    {
      "cell_type": "code",
      "metadata": {
        "id": "WCLjpnLpkhWZ",
        "colab": {
          "base_uri": "https://localhost:8080/"
        },
        "outputId": "a96f11bf-1ad2-4d9d-df7e-541b462343da"
      },
      "source": [
        "df['post']"
      ],
      "execution_count": null,
      "outputs": [
        {
          "output_type": "execute_result",
          "data": {
            "text/plain": [
              "0         anyone else like taking long walks snows every...\n",
              "1         meditation making anious couple sessions day h...\n",
              "2         rant aniety meds ive self medicating benzodiaz...\n",
              "3         advice friend please dated girl year moved awa...\n",
              "4         feeling like im back started ive feeling lot b...\n",
              "                                ...                        \n",
              "152961    coteaching waste coteacher two choices help ki...\n",
              "152962    challenged st year teacher arm wrestling match...\n",
              "152963    pros cons elementary school teaching im confus...\n",
              "152964    parentteacher conferences para honestly dont g...\n",
              "152965    pearson scanning palms registering nes  eam li...\n",
              "Name: post, Length: 152966, dtype: object"
            ]
          },
          "metadata": {
            "tags": []
          },
          "execution_count": 6
        }
      ]
    },
    {
      "cell_type": "code",
      "metadata": {
        "id": "-cIBm82BvIAp",
        "colab": {
          "base_uri": "https://localhost:8080/"
        },
        "outputId": "03cd62eb-4361-4cc7-9ad9-a59e815f2b38"
      },
      "source": [
        "# The maximum number of words to be used. (most frequent)\n",
        "MAX_NB_WORDS = 5000\n",
        "# Max number of words in each complaint.\n",
        "MAX_SEQUENCE_LENGTH = 250\n",
        "# This is fixed.\n",
        "EMBEDDING_DIM = 100\n",
        "tokenizer = Tokenizer(num_words=MAX_NB_WORDS, filters='!\"#$%&()*+,-./:;<=>?@[\\]^_`{|}~', lower=True)\n",
        "tokenizer.fit_on_texts(df['post'].values)\n",
        "word_index = tokenizer.word_index\n",
        "print('Found %s unique tokens.' % len(word_index))"
      ],
      "execution_count": null,
      "outputs": [
        {
          "output_type": "stream",
          "text": [
            "Found 215146 unique tokens.\n"
          ],
          "name": "stdout"
        }
      ]
    },
    {
      "cell_type": "code",
      "metadata": {
        "id": "lG2xUtf7vpyn",
        "colab": {
          "base_uri": "https://localhost:8080/"
        },
        "outputId": "1a372ef7-1755-41d9-c132-b10ebfed64bc"
      },
      "source": [
        "X = tokenizer.texts_to_sequences(df['post'].values)\n",
        "X = pad_sequences(X, maxlen=MAX_SEQUENCE_LENGTH)\n",
        "print('Shape of data tensor:', X.shape)"
      ],
      "execution_count": null,
      "outputs": [
        {
          "output_type": "stream",
          "text": [
            "Shape of data tensor: (152966, 250)\n"
          ],
          "name": "stdout"
        }
      ]
    },
    {
      "cell_type": "code",
      "metadata": {
        "id": "1FLMMzcllB4c",
        "colab": {
          "base_uri": "https://localhost:8080/"
        },
        "outputId": "99c12879-fc80-435b-a7ee-bb56395262d4"
      },
      "source": [
        "X[100]"
      ],
      "execution_count": null,
      "outputs": [
        {
          "output_type": "execute_result",
          "data": {
            "text/plain": [
              "array([   0,    0,    0,    0,    0,    0,    0,    0,    0,    0,    0,\n",
              "          0,    0,    0,    0,    0,    0,    0,    0,    0,    0,    0,\n",
              "          0,    0,    0,    0,    0,    0,    0,    0,    0,    0,    0,\n",
              "          0,    0,    0,    0,    0,    0,    0,    0,    0,    0,    0,\n",
              "          0,    0,    0,    0,    0,    0,    0,    0,    0,    0,    0,\n",
              "          0,    0,    0,    0,    0,    0,    0,    0,    0,    0,    0,\n",
              "          0,    0,    0,    0,    0,    0,    0,    0,    0,    0,    0,\n",
              "          0,    0,    0,    0,    0,    0,    0,    0,    0,    0,    0,\n",
              "          0,    0,    0,    0,    0,    0,    0,    0,    0,    0,    0,\n",
              "          0,    0,    0,    0,    0,    0,    0,    0,    0,    0,    0,\n",
              "          0,    0,    0,    0,    0,    0,    0,    0,    0,    0,    0,\n",
              "          0,    0,    0,    0,    0,    0,    0,    0,    0,    0,    0,\n",
              "          0,    0,    0,    0,    0,    0,    0,    0,    0,    0,    0,\n",
              "          0,    0,    0,    0,    0,    0,    0,    0,    0,    0,    0,\n",
              "          0,    0,    0,    0,    0,    0,    0,    0,    0,    0,    0,\n",
              "          0,    0,    0,    0,    0,    0,    0,    0,    0,    0,    0,\n",
              "          0,    0,    0,    0,   51, 1705,  184,  505,  548,  231,  712,\n",
              "          1,   25,  100,   50, 2721,   25,   38,  248, 1516,  410,  147,\n",
              "         44,   20,    4,  788,   78,  386,  423,    9,  593,  132,   83,\n",
              "         28,   57,  180,  885,   17,   32,  284,   38,   41,  410,  343,\n",
              "         91,  788,   53,    8,   17,   67, 2766,  210,   47,   51, 1212,\n",
              "        660,   47,    7,  435,  410,  343,   11,  132,   57, 1341,  183,\n",
              "        147,  157,  230, 1212,    8,    5, 1462,  505], dtype=int32)"
            ]
          },
          "metadata": {
            "tags": []
          },
          "execution_count": 9
        }
      ]
    },
    {
      "cell_type": "code",
      "metadata": {
        "id": "nPFPAz-NvvrJ",
        "colab": {
          "base_uri": "https://localhost:8080/"
        },
        "outputId": "a28e0ebd-f251-48cb-d59b-c286e78343b2"
      },
      "source": [
        "Y = pd.get_dummies(df['subreddit']).values\n",
        "print('Shape of label tensor:', Y.shape)"
      ],
      "execution_count": null,
      "outputs": [
        {
          "output_type": "stream",
          "text": [
            "Shape of label tensor: (152966, 12)\n"
          ],
          "name": "stdout"
        }
      ]
    },
    {
      "cell_type": "code",
      "metadata": {
        "id": "Z0aa570mvH-x",
        "colab": {
          "base_uri": "https://localhost:8080/"
        },
        "outputId": "cfe2b60d-17d6-46ef-eba6-36b6d959e506"
      },
      "source": [
        "X_train, X_test, Y_train, Y_test = train_test_split(X,Y, test_size = 0.20, random_state = 42)\n",
        "print(X_train.shape,Y_train.shape)\n",
        "print(X_test.shape,Y_test.shape)"
      ],
      "execution_count": null,
      "outputs": [
        {
          "output_type": "stream",
          "text": [
            "(122372, 250) (122372, 12)\n",
            "(30594, 250) (30594, 12)\n"
          ],
          "name": "stdout"
        }
      ]
    },
    {
      "cell_type": "code",
      "metadata": {
        "id": "ln_DE0r5xwrZ"
      },
      "source": [
        "from keras.layers import Input, Embedding, Dense, LSTM,SpatialDropout1D,MaxPooling1D,Conv1D,Flatten,Dropout\n",
        "from keras.models import Model"
      ],
      "execution_count": null,
      "outputs": []
    },
    {
      "cell_type": "markdown",
      "metadata": {
        "id": "vgxiLljnYnzI"
      },
      "source": [
        "#LSTM 100\n"
      ]
    },
    {
      "cell_type": "code",
      "metadata": {
        "id": "2D39dFe-vH8R",
        "colab": {
          "base_uri": "https://localhost:8080/"
        },
        "outputId": "a3920bd1-968b-40c4-bf98-d79ddb5154e2"
      },
      "source": [
        "model = Sequential()\n",
        "model.add(Embedding(MAX_NB_WORDS, EMBEDDING_DIM, input_length=X.shape[1]))\n",
        "model.add(SpatialDropout1D(0.2))\n",
        "model.add(LSTM(100, dropout=0.2, recurrent_dropout=0.2))\n",
        "model.add(Dense(12, activation='softmax'))\n",
        "model.compile(loss='categorical_crossentropy', optimizer='adam', metrics=['accuracy'])\n",
        "model.summary()\n",
        "\n",
        "#history = model.fit(X_train, Y_train, epochs=epochs, batch_size=batch_size,validation_split=0.1,callbacks=[EarlyStopping(monitor='val_loss', patience=3, min_delta=0.0001)])\n"
      ],
      "execution_count": null,
      "outputs": [
        {
          "output_type": "stream",
          "text": [
            "Model: \"sequential_1\"\n",
            "_________________________________________________________________\n",
            "Layer (type)                 Output Shape              Param #   \n",
            "=================================================================\n",
            "embedding_1 (Embedding)      (None, 250, 100)          500000    \n",
            "_________________________________________________________________\n",
            "spatial_dropout1d_1 (Spatial (None, 250, 100)          0         \n",
            "_________________________________________________________________\n",
            "lstm_1 (LSTM)                (None, 100)               80400     \n",
            "_________________________________________________________________\n",
            "dense_1 (Dense)              (None, 12)                1212      \n",
            "=================================================================\n",
            "Total params: 581,612\n",
            "Trainable params: 581,612\n",
            "Non-trainable params: 0\n",
            "_________________________________________________________________\n"
          ],
          "name": "stdout"
        }
      ]
    },
    {
      "cell_type": "code",
      "metadata": {
        "id": "QXTTDkrQvH6K",
        "colab": {
          "base_uri": "https://localhost:8080/"
        },
        "outputId": "40cf2379-ed4f-4692-f474-be47653545df"
      },
      "source": [
        "history = model.fit(X_train, Y_train,\n",
        "                    epochs=10,\n",
        "                    validation_data=(X_test, Y_test),\n",
        "                    batch_size=512)"
      ],
      "execution_count": null,
      "outputs": [
        {
          "output_type": "stream",
          "text": [
            "Epoch 1/10\n",
            "240/240 [==============================] - 742s 3s/step - loss: 1.7483 - accuracy: 0.4271 - val_loss: 0.9358 - val_accuracy: 0.6803\n",
            "Epoch 2/10\n",
            "240/240 [==============================] - 733s 3s/step - loss: 0.8385 - accuracy: 0.7094 - val_loss: 0.7473 - val_accuracy: 0.7410\n",
            "Epoch 3/10\n",
            "240/240 [==============================] - 730s 3s/step - loss: 0.6879 - accuracy: 0.7588 - val_loss: 0.6806 - val_accuracy: 0.7575\n",
            "Epoch 4/10\n",
            "240/240 [==============================] - 729s 3s/step - loss: 0.6094 - accuracy: 0.7821 - val_loss: 0.6480 - val_accuracy: 0.7601\n",
            "Epoch 5/10\n",
            "240/240 [==============================] - 729s 3s/step - loss: 0.5820 - accuracy: 0.7849 - val_loss: 0.6929 - val_accuracy: 0.7539\n",
            "Epoch 6/10\n",
            "240/240 [==============================] - 728s 3s/step - loss: 0.5863 - accuracy: 0.7817 - val_loss: 0.6106 - val_accuracy: 0.7774\n",
            "Epoch 7/10\n",
            "240/240 [==============================] - 737s 3s/step - loss: 0.5410 - accuracy: 0.8007 - val_loss: 0.6218 - val_accuracy: 0.7776\n",
            "Epoch 8/10\n",
            "240/240 [==============================] - 741s 3s/step - loss: 0.5292 - accuracy: 0.8040 - val_loss: 0.5850 - val_accuracy: 0.7903\n",
            "Epoch 9/10\n",
            "240/240 [==============================] - 734s 3s/step - loss: 0.4820 - accuracy: 0.8205 - val_loss: 0.5819 - val_accuracy: 0.7878\n",
            "Epoch 10/10\n",
            "240/240 [==============================] - 720s 3s/step - loss: 0.4715 - accuracy: 0.8222 - val_loss: 0.5968 - val_accuracy: 0.7796\n"
          ],
          "name": "stdout"
        }
      ]
    },
    {
      "cell_type": "code",
      "metadata": {
        "id": "f_nt8AQKvH3x",
        "colab": {
          "base_uri": "https://localhost:8080/"
        },
        "outputId": "f7f9ce84-1d11-4484-faa6-1d76a9376192"
      },
      "source": [
        "loss, accuracy = model.evaluate(X_train, Y_train, verbose=False)\n",
        "print(\"Training Accuracy: {:.4f}\".format(accuracy))\n",
        "loss, accuracy = model.evaluate(X_test, Y_test, verbose=False)\n",
        "print(\"Testing Accuracy:  {:.4f}\".format(accuracy))\n",
        "#plot_history(history)"
      ],
      "execution_count": null,
      "outputs": [
        {
          "output_type": "stream",
          "text": [
            "Training Accuracy: 0.8245\n",
            "Testing Accuracy:  0.7796\n"
          ],
          "name": "stdout"
        }
      ]
    },
    {
      "cell_type": "code",
      "metadata": {
        "id": "qv34H4BZeMvs",
        "colab": {
          "base_uri": "https://localhost:8080/",
          "height": 299
        },
        "outputId": "05cdeb4e-95a3-4c0c-cd61-930c6bf0ac97"
      },
      "source": [
        "plt.plot(history.history['accuracy'])\n",
        "plt.plot(history.history['val_accuracy'])\n",
        "plt.title('model accuracy')\n",
        "plt.ylabel('accuracy')\n",
        "plt.xlabel('epoch')\n",
        "plt.legend(['train', 'val'], loc='upper left')\n",
        "plt.show()"
      ],
      "execution_count": null,
      "outputs": [
        {
          "output_type": "display_data",
          "data": {
            "image/png": "[encoded data removed]",
            "text/plain": [
              "<Figure size 432x288 with 1 Axes>"
            ]
          },
          "metadata": {
            "tags": [],
            "needs_background": "light"
          }
        }
      ]
    },
    {
      "cell_type": "code",
      "metadata": {
        "id": "pXC_PtE3ePBC",
        "colab": {
          "base_uri": "https://localhost:8080/"
        },
        "outputId": "cff45c8a-f343-41b0-b953-3c7e11a07823"
      },
      "source": [
        "rounded_predictions = model.predict(X_test, batch_size=128, verbose=0)\n",
        "rounded_predictions=np.argmax(rounded_predictions, axis=1)\n",
        "rounded_predictions[1]\n",
        "rounded_labels=np.argmax(Y_test, axis=1)\n",
        "rounded_labels[1]"
      ],
      "execution_count": null,
      "outputs": [
        {
          "output_type": "execute_result",
          "data": {
            "text/plain": [
              "3"
            ]
          },
          "metadata": {
            "tags": []
          },
          "execution_count": 19
        }
      ]
    },
    {
      "cell_type": "code",
      "metadata": {
        "id": "NH6pLSkceRF3",
        "colab": {
          "base_uri": "https://localhost:8080/"
        },
        "outputId": "ac150c7d-3052-4ede-f74b-3da8848565d2"
      },
      "source": [
        "labels=['anxiety','bipolarreddit','conspiracy','depression','fitness','meditation','parenting',\n",
        "        'personalfinance','schizophrenia','suicide','teaching','ptsd']\n",
        "cm = confusion_matrix(rounded_labels, rounded_predictions)\n",
        "cm"
      ],
      "execution_count": null,
      "outputs": [
        {
          "output_type": "execute_result",
          "data": {
            "text/plain": [
              "array([[ 3283,     2,     9,   776,    16,    19,    27,     0,    31,\n",
              "           16,    41,     1],\n",
              "       [   25,   149,     1,   130,     2,     2,     3,     0,    13,\n",
              "           11,    11,     3],\n",
              "       [   18,     0,  1230,   127,    17,    10,    34,    13,     0,\n",
              "           14,    19,     2],\n",
              "       [  317,    24,    28, 10294,    30,    11,    60,     5,    21,\n",
              "           28,   845,     6],\n",
              "       [   19,     1,    20,   110,  3245,     5,    18,     4,     0,\n",
              "            0,     6,     0],\n",
              "       [   24,     0,     9,    50,    11,   876,     3,     2,     1,\n",
              "            1,     2,     5],\n",
              "       [   12,     2,    16,    82,    13,     0,  1758,    10,     3,\n",
              "            0,     5,     6],\n",
              "       [    1,     0,     6,     9,     2,     0,    13,   260,     1,\n",
              "            0,     3,     1],\n",
              "       [   43,     4,     5,    82,     0,     1,     5,     0,   241,\n",
              "            7,    15,     0],\n",
              "       [   27,     9,    10,   142,     2,     4,     5,     1,     6,\n",
              "          253,    16,     1],\n",
              "       [   45,     2,    14,  2925,     4,     2,    16,     5,     3,\n",
              "           10,  2062,     0],\n",
              "       [    7,     0,     7,    18,     2,     2,    32,    18,     0,\n",
              "            1,     1,   200]])"
            ]
          },
          "metadata": {
            "tags": []
          },
          "execution_count": 20
        }
      ]
    },
    {
      "cell_type": "markdown",
      "metadata": {
        "id": "v9V8dymjnKnd"
      },
      "source": [
        "#CNN\n"
      ]
    },
    {
      "cell_type": "code",
      "metadata": {
        "id": "-Ju0aq4BvHzL",
        "colab": {
          "base_uri": "https://localhost:8080/"
        },
        "outputId": "110c6318-30a0-48ee-bca3-dd8d611f780c"
      },
      "source": [
        "model2 = Sequential()\n",
        "model2.add(Embedding(MAX_NB_WORDS, EMBEDDING_DIM, input_length=X.shape[1]))\n",
        "model2.add(SpatialDropout1D(0.2))\n",
        "model2.add(Conv1D(6, 3, padding='same', activation='relu'))\n",
        "model2.add(MaxPooling1D())\n",
        "model2.add(Flatten())\n",
        "model2.add(Dense(250, activation='relu'))\n",
        "model2.add(Dense(12, activation='softmax'))\n",
        "model2.compile(loss='categorical_crossentropy', optimizer='adam', metrics=['accuracy'])\n",
        "\n",
        "model2.summary()"
      ],
      "execution_count": null,
      "outputs": [
        {
          "output_type": "stream",
          "text": [
            "Model: \"sequential_2\"\n",
            "_________________________________________________________________\n",
            "Layer (type)                 Output Shape              Param #   \n",
            "=================================================================\n",
            "embedding_2 (Embedding)      (None, 250, 100)          500000    \n",
            "_________________________________________________________________\n",
            "spatial_dropout1d_2 (Spatial (None, 250, 100)          0         \n",
            "_________________________________________________________________\n",
            "conv1d (Conv1D)              (None, 250, 6)            1806      \n",
            "_________________________________________________________________\n",
            "max_pooling1d (MaxPooling1D) (None, 125, 6)            0         \n",
            "_________________________________________________________________\n",
            "flatten (Flatten)            (None, 750)               0         \n",
            "_________________________________________________________________\n",
            "dense_2 (Dense)              (None, 250)               187750    \n",
            "_________________________________________________________________\n",
            "dense_3 (Dense)              (None, 12)                3012      \n",
            "=================================================================\n",
            "Total params: 692,568\n",
            "Trainable params: 692,568\n",
            "Non-trainable params: 0\n",
            "_________________________________________________________________\n"
          ],
          "name": "stdout"
        }
      ]
    },
    {
      "cell_type": "code",
      "metadata": {
        "id": "tTom4qvKvHwe",
        "colab": {
          "base_uri": "https://localhost:8080/"
        },
        "outputId": "d63b9637-e5ff-4cf8-ee82-ccb5a67ef35b"
      },
      "source": [
        "history = model2.fit(X_train, Y_train,\n",
        "                    epochs=10,\n",
        "                    validation_data=(X_test, Y_test),\n",
        "                    batch_size=512)"
      ],
      "execution_count": null,
      "outputs": [
        {
          "output_type": "stream",
          "text": [
            "Epoch 1/10\n",
            "240/240 [==============================] - 78s 316ms/step - loss: 1.6933 - accuracy: 0.4333 - val_loss: 0.9842 - val_accuracy: 0.6550\n",
            "Epoch 2/10\n",
            "240/240 [==============================] - 75s 313ms/step - loss: 0.8614 - accuracy: 0.6994 - val_loss: 0.7524 - val_accuracy: 0.7340\n",
            "Epoch 3/10\n",
            "240/240 [==============================] - 75s 314ms/step - loss: 0.6768 - accuracy: 0.7605 - val_loss: 0.7075 - val_accuracy: 0.7482\n",
            "Epoch 4/10\n",
            "240/240 [==============================] - 75s 314ms/step - loss: 0.6080 - accuracy: 0.7797 - val_loss: 0.7341 - val_accuracy: 0.7255\n",
            "Epoch 5/10\n",
            "240/240 [==============================] - 76s 316ms/step - loss: 0.5684 - accuracy: 0.7897 - val_loss: 0.6728 - val_accuracy: 0.7572\n",
            "Epoch 6/10\n",
            "240/240 [==============================] - 76s 317ms/step - loss: 0.5089 - accuracy: 0.8109 - val_loss: 0.6704 - val_accuracy: 0.7618\n",
            "Epoch 7/10\n",
            "240/240 [==============================] - 76s 317ms/step - loss: 0.4812 - accuracy: 0.8204 - val_loss: 0.7101 - val_accuracy: 0.7522\n",
            "Epoch 8/10\n",
            "240/240 [==============================] - 76s 318ms/step - loss: 0.4587 - accuracy: 0.8235 - val_loss: 0.6968 - val_accuracy: 0.7544\n",
            "Epoch 9/10\n",
            "240/240 [==============================] - 76s 318ms/step - loss: 0.4310 - accuracy: 0.8366 - val_loss: 0.7079 - val_accuracy: 0.7553\n",
            "Epoch 10/10\n",
            "240/240 [==============================] - 76s 319ms/step - loss: 0.4126 - accuracy: 0.8400 - val_loss: 0.8020 - val_accuracy: 0.7250\n"
          ],
          "name": "stdout"
        }
      ]
    },
    {
      "cell_type": "code",
      "metadata": {
        "id": "EL1s7Ao0vHuE",
        "colab": {
          "base_uri": "https://localhost:8080/"
        },
        "outputId": "404f6f93-33c2-4193-9bcd-527551b1cc6d"
      },
      "source": [
        "loss, accuracy = model2.evaluate(X_train, Y_train, verbose=False)\n",
        "print(\"Training Accuracy: {:.4f}\".format(accuracy))\n",
        "loss, accuracy = model2.evaluate(X_test, Y_test, verbose=False)\n",
        "print(\"Testing Accuracy:  {:.4f}\".format(accuracy))"
      ],
      "execution_count": null,
      "outputs": [
        {
          "output_type": "stream",
          "text": [
            "Training Accuracy: 0.8277\n",
            "Testing Accuracy:  0.7250\n"
          ],
          "name": "stdout"
        }
      ]
    },
    {
      "cell_type": "code",
      "metadata": {
        "id": "63SRvtd6lqkh",
        "colab": {
          "base_uri": "https://localhost:8080/",
          "height": 299
        },
        "outputId": "558877de-f073-4b19-a64f-6076499b5fd4"
      },
      "source": [
        "plt.plot(history.history['accuracy'])\n",
        "plt.plot(history.history['val_accuracy'])\n",
        "plt.title('model accuracy')\n",
        "plt.ylabel('accuracy')\n",
        "plt.xlabel('epoch')\n",
        "plt.legend(['train', 'val'], loc='upper left')\n",
        "plt.show()"
      ],
      "execution_count": null,
      "outputs": [
        {
          "output_type": "display_data",
          "data": {
            "image/png": "[encoded data removed]",
            "text/plain": [
              "<Figure size 432x288 with 1 Axes>"
            ]
          },
          "metadata": {
            "tags": [],
            "needs_background": "light"
          }
        }
      ]
    },
    {
      "cell_type": "code",
      "metadata": {
        "id": "LOreM166hypj",
        "colab": {
          "base_uri": "https://localhost:8080/"
        },
        "outputId": "a7015d6f-7f29-47ed-e715-366d7d265957"
      },
      "source": [
        "rounded_predictions2 = model2.predict(X_test, batch_size=128, verbose=0)\n",
        "rounded_predictions2=np.argmax(rounded_predictions2, axis=1)\n",
        "rounded_predictions2[1]\n",
        "rounded_labels2=np.argmax(Y_test, axis=1)\n",
        "rounded_labels2[1]"
      ],
      "execution_count": null,
      "outputs": [
        {
          "output_type": "execute_result",
          "data": {
            "text/plain": [
              "3"
            ]
          },
          "metadata": {
            "tags": []
          },
          "execution_count": 26
        }
      ]
    },
    {
      "cell_type": "code",
      "metadata": {
        "id": "bMD-VtgVh3gr",
        "colab": {
          "base_uri": "https://localhost:8080/"
        },
        "outputId": "3d2eacb3-8783-4e47-af69-969a9faf1e60"
      },
      "source": [
        "labels=['anxiety','bipolarreddit','conspiracy','depression','fitness','meditation','parenting',\n",
        "        'personalfinance','schizophrenia','suicide','teaching','ptsd']\n",
        "cm2 = confusion_matrix(rounded_labels2, rounded_predictions2)\n",
        "cm2"
      ],
      "execution_count": null,
      "outputs": [
        {
          "output_type": "execute_result",
          "data": {
            "text/plain": [
              "array([[3770,    2,   16,  272,   28,   41,   19,    1,   28,   14,   26,\n",
              "           4],\n",
              "       [ 109,   88,    2,   72,    7,    1,    1,    1,    1,   41,   26,\n",
              "           1],\n",
              "       [  95,    0, 1164,   50,   23,   28,   55,   20,    0,    8,   27,\n",
              "          14],\n",
              "       [1961,   35,   70, 7883,   65,   47,   93,    3,   44,   43, 1419,\n",
              "           6],\n",
              "       [  63,    0,   16,   40, 3256,    9,   27,    7,    0,    5,    2,\n",
              "           3],\n",
              "       [  79,    1,   21,   12,   11,  844,    3,    1,    1,    2,    1,\n",
              "           8],\n",
              "       [  41,    1,   33,   42,   21,    0, 1714,   15,   11,    1,    5,\n",
              "          23],\n",
              "       [  10,    0,   11,    4,    6,    1,   18,  235,    0,    5,    2,\n",
              "           4],\n",
              "       [ 126,    0,    1,   31,    4,    1,   14,    0,  206,    2,   16,\n",
              "           2],\n",
              "       [ 149,   16,   11,   39,    7,    7,    4,    1,    4,  202,   33,\n",
              "           3],\n",
              "       [ 401,    5,   46, 1920,    8,    1,   30,    4,   22,   26, 2624,\n",
              "           1],\n",
              "       [  28,    0,   11,    4,    5,    9,   30,    4,    1,    0,    0,\n",
              "         196]])"
            ]
          },
          "metadata": {
            "tags": []
          },
          "execution_count": 27
        }
      ]
    },
    {
      "cell_type": "code",
      "metadata": {
        "id": "eL6hxuYJrVkE"
      },
      "source": [
        ""
      ],
      "execution_count": null,
      "outputs": []
    },
    {
      "cell_type": "markdown",
      "metadata": {
        "id": "1O6LccVWrWT2"
      },
      "source": [
        "#LSTM+CNN"
      ]
    },
    {
      "cell_type": "code",
      "metadata": {
        "colab": {
          "base_uri": "https://localhost:8080/"
        },
        "id": "FmsBqtS0rVdr",
        "outputId": "33f07cfb-1c7a-4c89-df54-80bde4ce4d45"
      },
      "source": [
        "model3 = Sequential()\n",
        "model3.add(Embedding(MAX_NB_WORDS, EMBEDDING_DIM, input_length=X.shape[1]))\n",
        "model3.add(SpatialDropout1D(0.2))\n",
        "model3.add(Conv1D(filters=6, kernel_size=3, padding='same', activation='relu'))\n",
        "model3.add(MaxPooling1D(pool_size=2))\n",
        "model3.add(LSTM(100))\n",
        "model3.add(Dense(12, activation='softmax'))\n",
        "model3.compile(loss='categorical_crossentropy', optimizer='adam', metrics=['accuracy'])\n",
        "model3.summary()"
      ],
      "execution_count": null,
      "outputs": [
        {
          "output_type": "stream",
          "text": [
            "Model: \"sequential_3\"\n",
            "_________________________________________________________________\n",
            "Layer (type)                 Output Shape              Param #   \n",
            "=================================================================\n",
            "embedding_3 (Embedding)      (None, 250, 100)          500000    \n",
            "_________________________________________________________________\n",
            "spatial_dropout1d_3 (Spatial (None, 250, 100)          0         \n",
            "_________________________________________________________________\n",
            "conv1d_1 (Conv1D)            (None, 250, 6)            1806      \n",
            "_________________________________________________________________\n",
            "max_pooling1d_1 (MaxPooling1 (None, 125, 6)            0         \n",
            "_________________________________________________________________\n",
            "lstm_2 (LSTM)                (None, 100)               42800     \n",
            "_________________________________________________________________\n",
            "dense_4 (Dense)              (None, 12)                1212      \n",
            "=================================================================\n",
            "Total params: 545,818\n",
            "Trainable params: 545,818\n",
            "Non-trainable params: 0\n",
            "_________________________________________________________________\n"
          ],
          "name": "stdout"
        }
      ]
    },
    {
      "cell_type": "code",
      "metadata": {
        "colab": {
          "base_uri": "https://localhost:8080/"
        },
        "id": "tGZzglHhrdiO",
        "outputId": "1874efec-8e1d-4c6c-826b-6837c878b35c"
      },
      "source": [
        "history = model3.fit(X_train, Y_train,\n",
        "                    epochs=10,\n",
        "                    validation_data=(X_test, Y_test),\n",
        "                    batch_size=512)"
      ],
      "execution_count": null,
      "outputs": [
        {
          "output_type": "stream",
          "text": [
            "Epoch 1/10\n",
            "240/240 [==============================] - 229s 943ms/step - loss: 1.8021 - accuracy: 0.4195 - val_loss: 1.1875 - val_accuracy: 0.5388\n",
            "Epoch 2/10\n",
            "240/240 [==============================] - 227s 944ms/step - loss: 1.0553 - accuracy: 0.6073 - val_loss: 0.9740 - val_accuracy: 0.6485\n",
            "Epoch 3/10\n",
            "240/240 [==============================] - 226s 942ms/step - loss: 0.8888 - accuracy: 0.6776 - val_loss: 0.8826 - val_accuracy: 0.6853\n",
            "Epoch 4/10\n",
            "240/240 [==============================] - 226s 942ms/step - loss: 0.7998 - accuracy: 0.7168 - val_loss: 0.8940 - val_accuracy: 0.6500\n",
            "Epoch 5/10\n",
            "240/240 [==============================] - 226s 944ms/step - loss: 0.7611 - accuracy: 0.7243 - val_loss: 0.7538 - val_accuracy: 0.7273\n",
            "Epoch 6/10\n",
            "240/240 [==============================] - 226s 942ms/step - loss: 0.6802 - accuracy: 0.7551 - val_loss: 0.7039 - val_accuracy: 0.7457\n",
            "Epoch 7/10\n",
            "240/240 [==============================] - 226s 943ms/step - loss: 0.6242 - accuracy: 0.7708 - val_loss: 0.6834 - val_accuracy: 0.7510\n",
            "Epoch 8/10\n",
            "240/240 [==============================] - 226s 942ms/step - loss: 0.5925 - accuracy: 0.7817 - val_loss: 0.6996 - val_accuracy: 0.7513\n",
            "Epoch 9/10\n",
            "240/240 [==============================] - 225s 938ms/step - loss: 0.5827 - accuracy: 0.7846 - val_loss: 0.6557 - val_accuracy: 0.7638\n",
            "Epoch 10/10\n",
            "240/240 [==============================] - 225s 937ms/step - loss: 0.5306 - accuracy: 0.8007 - val_loss: 0.6417 - val_accuracy: 0.7670\n"
          ],
          "name": "stdout"
        }
      ]
    },
    {
      "cell_type": "code",
      "metadata": {
        "colab": {
          "base_uri": "https://localhost:8080/"
        },
        "id": "dT4UCyxrrgOe",
        "outputId": "478d815f-d8e4-4596-e34f-775ea31a2d1d"
      },
      "source": [
        "loss, accuracy = model3.evaluate(X_train, Y_train, verbose=False)\n",
        "print(\"Training Accuracy: {:.4f}\".format(accuracy))\n",
        "loss, accuracy = model3.evaluate(X_test, Y_test, verbose=False)\n",
        "print(\"Testing Accuracy:  {:.4f}\".format(accuracy))"
      ],
      "execution_count": null,
      "outputs": [
        {
          "output_type": "stream",
          "text": [
            "Training Accuracy: 0.8124\n",
            "Testing Accuracy:  0.7670\n"
          ],
          "name": "stdout"
        }
      ]
    },
    {
      "cell_type": "code",
      "metadata": {
        "colab": {
          "base_uri": "https://localhost:8080/",
          "height": 299
        },
        "id": "GSZGVfd4rjJS",
        "outputId": "ac864bca-72e6-4e30-afed-24ac623a81f8"
      },
      "source": [
        "plt.plot(history.history['accuracy'])\n",
        "plt.plot(history.history['val_accuracy'])\n",
        "plt.title('model accuracy')\n",
        "plt.ylabel('accuracy')\n",
        "plt.xlabel('epoch')\n",
        "plt.legend(['train', 'val'], loc='upper left')\n",
        "plt.show()"
      ],
      "execution_count": null,
      "outputs": [
        {
          "output_type": "display_data",
          "data": {
            "image/png": "[encoded data removed]",
            "text/plain": [
              "<Figure size 432x288 with 1 Axes>"
            ]
          },
          "metadata": {
            "tags": [],
            "needs_background": "light"
          }
        }
      ]
    },
    {
      "cell_type": "code",
      "metadata": {
        "colab": {
          "base_uri": "https://localhost:8080/"
        },
        "id": "3QJgseRtrmE3",
        "outputId": "92f4ded5-8a73-4148-b4e1-a746a4310283"
      },
      "source": [
        "rounded_predictions3 = model3.predict(X_test, batch_size=128, verbose=0)\n",
        "rounded_predictions3=np.argmax(rounded_predictions3, axis=1)\n",
        "rounded_predictions3[1]\n",
        "rounded_labels3=np.argmax(Y_test, axis=1)\n",
        "rounded_labels3[1]"
      ],
      "execution_count": null,
      "outputs": [
        {
          "output_type": "execute_result",
          "data": {
            "text/plain": [
              "3"
            ]
          },
          "metadata": {
            "tags": []
          },
          "execution_count": 33
        }
      ]
    },
    {
      "cell_type": "code",
      "metadata": {
        "colab": {
          "base_uri": "https://localhost:8080/"
        },
        "id": "4LvM8g8xrpWi",
        "outputId": "97ffa840-28f2-4c95-f92f-6dcae6611273"
      },
      "source": [
        "labels=['anxiety','bipolarreddit','conspiracy','depression','fitness','meditation','parenting',\n",
        "        'personalfinance','schizophrenia','suicide','teaching','ptsd']\n",
        "cm3 = confusion_matrix(rounded_labels3, rounded_predictions3)\n",
        "cm3"
      ],
      "execution_count": null,
      "outputs": [
        {
          "output_type": "execute_result",
          "data": {
            "text/plain": [
              "array([[3359,    1,   10,  730,   21,   33,   12,    0,   15,    8,   32,\n",
              "           0],\n",
              "       [  61,   38,    4,  140,    1,    2,    8,    1,   24,   60,   11,\n",
              "           0],\n",
              "       [  13,    0, 1182,  114,   47,   24,   36,   17,    1,    8,   28,\n",
              "          14],\n",
              "       [ 354,   16,   30, 9928,   56,   18,   41,    3,   21,   16, 1183,\n",
              "           3],\n",
              "       [  10,    0,   34,   99, 3274,    5,    3,    0,    0,    1,    1,\n",
              "           1],\n",
              "       [  25,    0,   19,   47,   30,  849,    0,    0,    0,    2,    3,\n",
              "           9],\n",
              "       [  25,   13,   26,  129,   17,    1, 1589,   13,    3,   52,    2,\n",
              "          37],\n",
              "       [   1,    0,   32,   17,    1,    0,   49,  193,    0,    0,    0,\n",
              "           3],\n",
              "       [  68,    6,    3,   75,    1,    2,    2,    0,  214,   23,    8,\n",
              "           1],\n",
              "       [  70,   10,    6,  128,    4,    7,   14,    0,  126,   95,   14,\n",
              "           2],\n",
              "       [  62,    0,   24, 2389,    9,    0,    8,    0,    8,    5, 2583,\n",
              "           0],\n",
              "       [   7,    1,   20,   15,    4,   29,   42,    1,    0,    6,    0,\n",
              "         163]])"
            ]
          },
          "metadata": {
            "tags": []
          },
          "execution_count": 34
        }
      ]
    }
  ]
}