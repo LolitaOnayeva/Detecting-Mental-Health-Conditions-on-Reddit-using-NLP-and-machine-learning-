{
  "nbformat": 4,
  "nbformat_minor": 0,
  "metadata": {
    "colab": {
      "name": "Trigram_SVM.ipynb",
      "provenance": [],
      "collapsed_sections": [],
      "authorship_tag": "ABX9TyNLfECsBKNuaQAiowu7J1HP",
      "include_colab_link": true
    },
    "kernelspec": {
      "name": "python3",
      "display_name": "Python 3"
    },
    "language_info": {
      "name": "python"
    }
  },
  "cells": [
    {
      "cell_type": "markdown",
      "metadata": {
        "id": "view-in-github",
        "colab_type": "text"
      },
      "source": [
        "<a href=\"https://colab.research.google.com/github/LolitaOnayeva/Detecting-Mental-Health-Conditions-on-Reddit-using-NLP-and-machine-learning-/blob/main/Trigram_SVM.ipynb\" target=\"_parent\"><img src=\"https://colab.research.google.com/assets/colab-badge.svg\" alt=\"Open In Colab\"/></a>"
      ]
    },
    {
      "cell_type": "code",
      "metadata": {
        "id": "rpulUPPyHIIl"
      },
      "source": [
        "import csv                               \n",
        "import re                                       \n",
        "from sklearn.svm import LinearSVC\n",
        "from nltk.classify import SklearnClassifier\n",
        "from nltk.stem import WordNetLemmatizer\n",
        "from nltk import word_tokenize\n",
        "from nltk.tokenize import RegexpTokenizer\n",
        "from nltk.corpus import stopwords\n",
        "from sklearn.model_selection import cross_val_score\n",
        "from sklearn import metrics\n",
        "from sklearn.metrics import precision_recall_fscore_support \n",
        "from random import shuffle\n",
        "import numpy as np\n",
        "from collections import Counter\n",
        "from nltk.stem.porter import PorterStemmer\n",
        "from nltk.stem import WordNetLemmatizer\n",
        "from sklearn.pipeline import Pipeline\n",
        "from sklearn.feature_extraction.text import TfidfTransformer\n",
        "\n",
        "from sklearn.metrics import accuracy_score,confusion_matrix\n",
        "from sklearn.metrics import ConfusionMatrixDisplay\n",
        "from sklearn.metrics import plot_confusion_matrix\n",
        "import matplotlib.pyplot as plt"
      ],
      "execution_count": null,
      "outputs": []
    },
    {
      "cell_type": "code",
      "metadata": {
        "colab": {
          "base_uri": "https://localhost:8080/"
        },
        "id": "V8GrnUAzgPIV",
        "outputId": "99f81dd6-9cc4-452c-b2ef-25cea3809965"
      },
      "source": [
        "from google.colab import drive\n",
        "drive.mount('/content/drive')"
      ],
      "execution_count": null,
      "outputs": [
        {
          "output_type": "stream",
          "text": [
            "Mounted at /content/drive\n"
          ],
          "name": "stdout"
        }
      ]
    },
    {
      "cell_type": "code",
      "metadata": {
        "colab": {
          "base_uri": "https://localhost:8080/"
        },
        "id": "brdR3yYXHIwn",
        "outputId": "b9139bf0-6dbe-4cb3-f608-e395a03645bc"
      },
      "source": [
        "import nltk\n",
        "nltk.download('wordnet')"
      ],
      "execution_count": null,
      "outputs": [
        {
          "output_type": "stream",
          "text": [
            "[nltk_data] Downloading package wordnet to /root/nltk_data...\n",
            "[nltk_data]   Unzipping corpora/wordnet.zip.\n"
          ],
          "name": "stdout"
        },
        {
          "output_type": "execute_result",
          "data": {
            "text/plain": [
              "True"
            ]
          },
          "metadata": {
            "tags": []
          },
          "execution_count": 3
        }
      ]
    },
    {
      "cell_type": "code",
      "metadata": {
        "id": "c94HFT6nHLAr"
      },
      "source": [
        "def parseReview(reviewLine): \n",
        "    Post=reviewLine[3] \n",
        "    Mental_Health_Condition=reviewLine[6]\n",
        "    \n",
        "\n",
        "    return (Post,Mental_Health_Condition)"
      ],
      "execution_count": null,
      "outputs": []
    },
    {
      "cell_type": "code",
      "metadata": {
        "id": "zECbFRRxHOKx"
      },
      "source": [
        "def preProcess(text):\n",
        "    text = re.sub(r\"(\\w)([.,;:!?'\\\"”\\)])\", r\"\\1 \\2\", text) \n",
        "    text = re.sub(r\"([.,;:!?'\\\"“\\(])(\\w)\", r\"\\1 \\2\", text)\n",
        "    text = re.sub(r\"(\\S)\\1\\1+\",r\"\\1\\1\\1\", text)\n",
        "    text = re.sub(r'[^A-Za-z0-9 ]+','', text)  # remove non- english characters such as Äö \n",
        "     \n",
        "    tokens = text.split(\" \")\n",
        "    tokens = [t.lower() for t in tokens]\n",
        "    pairs = [ \" \".join(pair) for pair in nltk.ngrams(tokens,3)]\n",
        "    #pairs = [ \" \".join(pair) for pair in nltk.bigrams(tokens)]\n",
        "    return pairs\n"
      ],
      "execution_count": null,
      "outputs": []
    },
    {
      "cell_type": "code",
      "metadata": {
        "id": "eluObTwzHQsO"
      },
      "source": [
        "featureDict = {} \n",
        "\n",
        "def toFeatureVector(lemmatized_tokens):\n",
        "    v = {}\n",
        "    for t in lemmatized_tokens:\n",
        "        try:\n",
        "            featureDict[t] += 1\n",
        "        except KeyError:            \n",
        "            featureDict[t] = 1\n",
        "        try:\n",
        "            v[t] += (1.0/len(lemmatized_tokens))\n",
        "        except KeyError:\n",
        "            v[t] = (1.0/len(lemmatized_tokens))\n",
        "    return v"
      ],
      "execution_count": null,
      "outputs": []
    },
    {
      "cell_type": "code",
      "metadata": {
        "id": "htTYiLLbHWA1"
      },
      "source": [
        "# Downloading datasets \n",
        "rawTrainData=[]\n",
        "with open(\"/content/drive/MyDrive/mental_health_data/full_mental_health_df_train.csv\") as f:\n",
        "    reader = csv.reader(f,quoting=csv.QUOTE_ALL, skipinitialspace=True)\n",
        "    for line in reader:   \n",
        "        (Post,Mental_Health_Condition) = parseReview(line)\n",
        "        rawTrainData.append((Post,Mental_Health_Condition))\n",
        "        \n",
        "rawTestData=[]\n",
        "with open('/content/drive/MyDrive/mental_health_data/full_mental_health_df_test.csv') as f:\n",
        "    reader = csv.reader(f,quoting=csv.QUOTE_ALL, skipinitialspace=True)\n",
        "    for line in reader:   \n",
        "        (Post,Mental_Health_Condition) = parseReview(line)\n",
        "        rawTestData.append((Post,Mental_Health_Condition))\n",
        "\n",
        "testData=[]\n",
        "trainData=[]\n",
        "\n",
        "for (Mental_Health_Condition,Post) in rawTrainData:\n",
        "        #trainData.append((Mental_Health_Condition,toFeatureVector(preProcess(Post))))\n",
        "        trainData.append((toFeatureVector(preProcess(Post)),Mental_Health_Condition))\n",
        "\n",
        "for (Mental_Health_Condition,Post) in rawTestData:\n",
        "        #testData.append((Mental_Health_Condition,toFeatureVector(preProcess(Post))))\n",
        "        testData.append((toFeatureVector(preProcess(Post)),Mental_Health_Condition))"
      ],
      "execution_count": null,
      "outputs": []
    },
    {
      "cell_type": "code",
      "metadata": {
        "colab": {
          "base_uri": "https://localhost:8080/"
        },
        "id": "DPIEpJirScUm",
        "outputId": "7dc2fbf1-840c-4dee-8297-81400b2c65d2"
      },
      "source": [
        "testData[600]"
      ],
      "execution_count": null,
      "outputs": [
        {
          "output_type": "execute_result",
          "data": {
            "text/plain": [
              "({' and almost': 0.0035460992907801418,\n",
              "  ' and i': 0.0035460992907801418,\n",
              "  ' but i': 0.0035460992907801418,\n",
              "  ' has anyone': 0.0035460992907801418,\n",
              "  ' he broke': 0.0035460992907801418,\n",
              "  ' how can': 0.0035460992907801418,\n",
              "  ' how do': 0.0035460992907801418,\n",
              "  ' i ': 0.0035460992907801418,\n",
              "  ' i can': 0.0035460992907801418,\n",
              "  ' i caught': 0.0035460992907801418,\n",
              "  ' i have': 0.0035460992907801418,\n",
              "  ' i lost': 0.0035460992907801418,\n",
              "  ' in addition': 0.0035460992907801418,\n",
              "  ' m a': 0.0035460992907801418,\n",
              "  ' or does': 0.0035460992907801418,\n",
              "  ' s been': 0.0035460992907801418,\n",
              "  ' s just': 0.0035460992907801418,\n",
              "  ' s length': 0.0035460992907801418,\n",
              "  ' s lives': 0.0035460992907801418,\n",
              "  ' subsequently ': 0.0035460992907801418,\n",
              "  ' t want': 0.0035460992907801418,\n",
              "  ' though they': 0.0035460992907801418,\n",
              "  ' ve basically': 0.0035460992907801418,\n",
              "  ' ve long': 0.0035460992907801418,\n",
              "  ' ve since': 0.0035460992907801418,\n",
              "  '99 of it': 0.0035460992907801418,\n",
              "  'a bit there': 0.0035460992907801418,\n",
              "  'a burden and': 0.0035460992907801418,\n",
              "  'a head earlier': 0.0035460992907801418,\n",
              "  'a lot of': 0.0035460992907801418,\n",
              "  'a panic attack': 0.0035460992907801418,\n",
              "  'a teen ': 0.0035460992907801418,\n",
              "  'a wakeup call': 0.0035460992907801418,\n",
              "  'abandonment and selfworth': 0.0035460992907801418,\n",
              "  'ability to do': 0.0035460992907801418,\n",
              "  'about how i': 0.0035460992907801418,\n",
              "  'absolutely terrified for': 0.0035460992907801418,\n",
              "  'abused me and': 0.0035460992907801418,\n",
              "  'addition to constantly': 0.0035460992907801418,\n",
              "  'after he emotionally': 0.0035460992907801418,\n",
              "  'all came to': 0.0035460992907801418,\n",
              "  'almost 99 of': 0.0035460992907801418,\n",
              "  'always been the': 0.0035460992907801418,\n",
              "  'and almost 99': 0.0035460992907801418,\n",
              "  'and atypical depression': 0.0035460992907801418,\n",
              "  'and between us': 0.0035460992907801418,\n",
              "  'and i ': 0.0035460992907801418,\n",
              "  'and i don': 0.0035460992907801418,\n",
              "  'and kept me': 0.0035460992907801418,\n",
              "  'and know he': 0.0035460992907801418,\n",
              "  'and making people': 0.0035460992907801418,\n",
              "  'and selfworth issues': 0.0035460992907801418,\n",
              "  'and told me': 0.0035460992907801418,\n",
              "  'and with how': 0.0035460992907801418,\n",
              "  'anxiety and atypical': 0.0035460992907801418,\n",
              "  'anyone else have': 0.0035460992907801418,\n",
              "  'anyone here gone': 0.0035460992907801418,\n",
              "  'are okay now': 0.0035460992907801418,\n",
              "  'arm  s': 0.0035460992907801418,\n",
              "  'around my boyfriend': 0.0035460992907801418,\n",
              "  'as a teen': 0.0035460992907801418,\n",
              "  'at arm ': 0.0035460992907801418,\n",
              "  'attack around my': 0.0035460992907801418,\n",
              "  'atypical depression ': 0.0035460992907801418,\n",
              "  'basically always been': 0.0035460992907801418,\n",
              "  'be in vain': 0.0035460992907801418,\n",
              "  'been a wakeup': 0.0035460992907801418,\n",
              "  'been broken up': 0.0035460992907801418,\n",
              "  'been the one': 0.0035460992907801418,\n",
              "  'before  or': 0.0035460992907801418,\n",
              "  'being perfectly fine': 0.0035460992907801418,\n",
              "  'between us ': 0.0035460992907801418,\n",
              "  'bit there that': 0.0035460992907801418,\n",
              "  'boyfriend about how': 0.0035460992907801418,\n",
              "  'breaking down ': 0.0035460992907801418,\n",
              "  'broke down and': 0.0035460992907801418,\n",
              "  'broken up with': 0.0035460992907801418,\n",
              "  'burden and making': 0.0035460992907801418,\n",
              "  'but i was': 0.0035460992907801418,\n",
              "  'call  i': 0.0035460992907801418,\n",
              "  'call for me': 0.0035460992907801418,\n",
              "  'came to a': 0.0035460992907801418,\n",
              "  'can go from': 0.0035460992907801418,\n",
              "  'can i learn': 0.0035460992907801418,\n",
              "  'can i make': 0.0035460992907801418,\n",
              "  'can tell things': 0.0035460992907801418,\n",
              "  'can understand ': 0.0035460992907801418,\n",
              "  'caught my father': 0.0035460992907801418,\n",
              "  'cheating on my': 0.0035460992907801418,\n",
              "  'constantly worrying that': 0.0035460992907801418,\n",
              "  'deal with this': 0.0035460992907801418,\n",
              "  'depression  and': 0.0035460992907801418,\n",
              "  'differently to be': 0.0035460992907801418,\n",
              "  'do things differently': 0.0035460992907801418,\n",
              "  'do you deal': 0.0035460992907801418,\n",
              "  'does anyone else': 0.0035460992907801418,\n",
              "  'don  t': 0.0035460992907801418,\n",
              "  'down  i': 0.0035460992907801418,\n",
              "  'down and told': 0.0035460992907801418,\n",
              "  'earlier today when': 0.0035460992907801418,\n",
              "  'else have moments': 0.0035460992907801418,\n",
              "  'emotionally abused me': 0.0035460992907801418,\n",
              "  'exhausted with not': 0.0035460992907801418,\n",
              "  'faith in my': 0.0035460992907801418,\n",
              "  'father cheating on': 0.0035460992907801418,\n",
              "  'fears relating to': 0.0035460992907801418,\n",
              "  'fine to me': 0.0035460992907801418,\n",
              "  'for a bit': 0.0035460992907801418,\n",
              "  'for fears relating': 0.0035460992907801418,\n",
              "  'for him and': 0.0035460992907801418,\n",
              "  'for me and': 0.0035460992907801418,\n",
              "  'for several months': 0.0035460992907801418,\n",
              "  'from being perfectly': 0.0035460992907801418,\n",
              "  'from it ': 0.0035460992907801418,\n",
              "  'from this wakeup': 0.0035460992907801418,\n",
              "  'go from being': 0.0035460992907801418,\n",
              "  'going to lose': 0.0035460992907801418,\n",
              "  'gone through this': 0.0035460992907801418,\n",
              "  'had a panic': 0.0035460992907801418,\n",
              "  'had anxiety and': 0.0035460992907801418,\n",
              "  'harder this all': 0.0035460992907801418,\n",
              "  'has anyone here': 0.0035460992907801418,\n",
              "  'has been a': 0.0035460992907801418,\n",
              "  'have a lot': 0.0035460992907801418,\n",
              "  'have moments like': 0.0035460992907801418,\n",
              "  'he  s': 0.0035460992907801418,\n",
              "  'he broke down': 0.0035460992907801418,\n",
              "  'he emotionally abused': 0.0035460992907801418,\n",
              "  'he loves me': 0.0035460992907801418,\n",
              "  'head earlier today': 0.0035460992907801418,\n",
              "  'help me and': 0.0035460992907801418,\n",
              "  'here gone through': 0.0035460992907801418,\n",
              "  'him and between': 0.0035460992907801418,\n",
              "  'him this has': 0.0035460992907801418,\n",
              "  'his faith in': 0.0035460992907801418,\n",
              "  'how can i': 0.0070921985815602835,\n",
              "  'how do you': 0.0035460992907801418,\n",
              "  'how i was': 0.0035460992907801418,\n",
              "  'how quickly we': 0.0035460992907801418,\n",
              "  'how to help': 0.0035460992907801418,\n",
              "  'i  m': 0.0035460992907801418,\n",
              "  'i  ve': 0.0070921985815602835,\n",
              "  'i can tell': 0.0035460992907801418,\n",
              "  'i can understand': 0.0035460992907801418,\n",
              "  'i caught my': 0.0035460992907801418,\n",
              "  'i don ': 0.0035460992907801418,\n",
              "  'i had a': 0.0035460992907801418,\n",
              "  'i have a': 0.0035460992907801418,\n",
              "  'i learn from': 0.0070921985815602835,\n",
              "  'i lost my': 0.0035460992907801418,\n",
              "  'i make sure': 0.0035460992907801418,\n",
              "  'i was absolutely': 0.0035460992907801418,\n",
              "  'i was going': 0.0035460992907801418,\n",
              "  'i was ruining': 0.0035460992907801418,\n",
              "  'in addition to': 0.0035460992907801418,\n",
              "  'in my ability': 0.0035460992907801418,\n",
              "  'in vain ': 0.0035460992907801418,\n",
              "  'issues  in': 0.0035460992907801418,\n",
              "  'it stems for': 0.0035460992907801418,\n",
              "  'just so exhausted': 0.0035460992907801418,\n",
              "  'kept me at': 0.0035460992907801418,\n",
              "  'know he loves': 0.0035460992907801418,\n",
              "  'knowing how to': 0.0035460992907801418,\n",
              "  'learn from it': 0.0035460992907801418,\n",
              "  'learn from this': 0.0035460992907801418,\n",
              "  'length for several': 0.0035460992907801418,\n",
              "  'like this now': 0.0035460992907801418,\n",
              "  'literally more than': 0.0035460992907801418,\n",
              "  'lives harder this': 0.0035460992907801418,\n",
              "  'long had anxiety': 0.0035460992907801418,\n",
              "  'lose him this': 0.0035460992907801418,\n",
              "  'lost my previous': 0.0035460992907801418,\n",
              "  'lot of abandonment': 0.0035460992907801418,\n",
              "  'loves me literally': 0.0035460992907801418,\n",
              "  'm a burden': 0.0035460992907801418,\n",
              "  'make sure i': 0.0035460992907801418,\n",
              "  'making people ': 0.0035460992907801418,\n",
              "  'me and i': 0.0035460992907801418,\n",
              "  'me and kept': 0.0035460992907801418,\n",
              "  'me and with': 0.0035460992907801418,\n",
              "  'me at arm': 0.0035460992907801418,\n",
              "  'me breaking down': 0.0035460992907801418,\n",
              "  'me he ': 0.0035460992907801418,\n",
              "  'me literally more': 0.0035460992907801418,\n",
              "  'moments like this': 0.0035460992907801418,\n",
              "  'months  i': 0.0035460992907801418,\n",
              "  'more than i': 0.0035460992907801418,\n",
              "  'mother as a': 0.0035460992907801418,\n",
              "  'my ability to': 0.0035460992907801418,\n",
              "  'my boyfriend about': 0.0035460992907801418,\n",
              "  'my father cheating': 0.0035460992907801418,\n",
              "  'my mother as': 0.0035460992907801418,\n",
              "  'my previous partner': 0.0035460992907801418,\n",
              "  'my relationships ': 0.0035460992907801418,\n",
              "  'not knowing how': 0.0035460992907801418,\n",
              "  'now  how': 0.0035460992907801418,\n",
              "  'now and know': 0.0035460992907801418,\n",
              "  'of abandonment and': 0.0035460992907801418,\n",
              "  'of it stems': 0.0035460992907801418,\n",
              "  'okay now and': 0.0035460992907801418,\n",
              "  'on my mother': 0.0035460992907801418,\n",
              "  'one who ': 0.0035460992907801418,\n",
              "  'or does anyone': 0.0035460992907801418,\n",
              "  'panic attack around': 0.0035460992907801418,\n",
              "  'partner to suicide': 0.0035460992907801418,\n",
              "  'people  s': 0.0035460992907801418,\n",
              "  'perfectly fine to': 0.0035460992907801418,\n",
              "  'previous partner to': 0.0035460992907801418,\n",
              "  'quickly we can': 0.0035460992907801418,\n",
              "  'reconciled  and': 0.0035460992907801418,\n",
              "  'relating to my': 0.0035460992907801418,\n",
              "  'relationships  i': 0.0035460992907801418,\n",
              "  'ruining things for': 0.0035460992907801418,\n",
              "  's been broken': 0.0035460992907801418,\n",
              "  's just so': 0.0035460992907801418,\n",
              "  's length for': 0.0035460992907801418,\n",
              "  's lives harder': 0.0035460992907801418,\n",
              "  'selfworth issues ': 0.0035460992907801418,\n",
              "  'several months ': 0.0035460992907801418,\n",
              "  'since reconciled ': 0.0035460992907801418,\n",
              "  'so exhausted with': 0.0035460992907801418,\n",
              "  'stems for fears': 0.0035460992907801418,\n",
              "  'subsequently  i': 0.0035460992907801418,\n",
              "  'suicide after he': 0.0035460992907801418,\n",
              "  'sure i learn': 0.0035460992907801418,\n",
              "  't want his': 0.0035460992907801418,\n",
              "  'teen  though': 0.0035460992907801418,\n",
              "  'tell things are': 0.0035460992907801418,\n",
              "  'terrified for a': 0.0035460992907801418,\n",
              "  'than i can': 0.0035460992907801418,\n",
              "  'that i ': 0.0035460992907801418,\n",
              "  'that i was': 0.0035460992907801418,\n",
              "  'the one who': 0.0035460992907801418,\n",
              "  'there that i': 0.0035460992907801418,\n",
              "  'they  ve': 0.0035460992907801418,\n",
              "  'things are okay': 0.0035460992907801418,\n",
              "  'things differently to': 0.0035460992907801418,\n",
              "  'things for him': 0.0035460992907801418,\n",
              "  'this  how': 0.0035460992907801418,\n",
              "  'this all came': 0.0035460992907801418,\n",
              "  'this before ': 0.0035460992907801418,\n",
              "  'this has been': 0.0035460992907801418,\n",
              "  'this now ': 0.0035460992907801418,\n",
              "  'this wakeup call': 0.0035460992907801418,\n",
              "  'though they ': 0.0035460992907801418,\n",
              "  'through this before': 0.0035460992907801418,\n",
              "  'to a head': 0.0035460992907801418,\n",
              "  'to be in': 0.0035460992907801418,\n",
              "  'to constantly worrying': 0.0035460992907801418,\n",
              "  'to do things': 0.0035460992907801418,\n",
              "  'to help me': 0.0035460992907801418,\n",
              "  'to lose him': 0.0035460992907801418,\n",
              "  'to me breaking': 0.0035460992907801418,\n",
              "  'to my relationships': 0.0035460992907801418,\n",
              "  'to suicide after': 0.0035460992907801418,\n",
              "  'today when i': 0.0035460992907801418,\n",
              "  'told me he': 0.0035460992907801418,\n",
              "  'understand  but': 0.0035460992907801418,\n",
              "  'up with ': 0.0035460992907801418,\n",
              "  'us  he': 0.0035460992907801418,\n",
              "  'vain  has': 0.0035460992907801418,\n",
              "  've basically always': 0.0035460992907801418,\n",
              "  've long had': 0.0035460992907801418,\n",
              "  've since reconciled': 0.0035460992907801418,\n",
              "  'wakeup call ': 0.0035460992907801418,\n",
              "  'wakeup call for': 0.0035460992907801418,\n",
              "  'want his faith': 0.0035460992907801418,\n",
              "  'was absolutely terrified': 0.0035460992907801418,\n",
              "  'was going to': 0.0035460992907801418,\n",
              "  'was ruining things': 0.0035460992907801418,\n",
              "  'we can go': 0.0035460992907801418,\n",
              "  'when i had': 0.0035460992907801418,\n",
              "  'who  s': 0.0035460992907801418,\n",
              "  'with  subsequently': 0.0035460992907801418,\n",
              "  'with how quickly': 0.0035460992907801418,\n",
              "  'with not knowing': 0.0035460992907801418,\n",
              "  'with this ': 0.0035460992907801418,\n",
              "  'worrying that i': 0.0035460992907801418,\n",
              "  'you deal with': 0.0035460992907801418},\n",
              " 'anxiety')"
            ]
          },
          "metadata": {
            "tags": []
          },
          "execution_count": 8
        }
      ]
    },
    {
      "cell_type": "code",
      "metadata": {
        "colab": {
          "base_uri": "https://localhost:8080/"
        },
        "id": "ff9itT9oHalx",
        "outputId": "c6b7530e-cb6e-4873-e005-383d8badfb83"
      },
      "source": [
        "# Lenght of the datasets\n",
        "print(\"Now  %d trainData, %d testData\" % ( len(trainData), len(testData)))\n",
        "\n",
        "# Number of features\n",
        "print(\"Training Samples: \", len(trainData), \"Features: \", len(featureDict), sep='\\n')"
      ],
      "execution_count": null,
      "outputs": [
        {
          "output_type": "stream",
          "text": [
            "Now  122073 trainData, 30893 testData\n",
            "Training Samples: \n",
            "122073\n",
            "Features: \n",
            "8913008\n"
          ],
          "name": "stdout"
        }
      ]
    },
    {
      "cell_type": "code",
      "metadata": {
        "id": "Tdv3-9fo9jcM"
      },
      "source": [
        "from sklearn.feature_selection import SelectKBest, chi2\n",
        "from sklearn.pipeline import Pipeline\n",
        "from sklearn.feature_extraction.text import TfidfTransformer"
      ],
      "execution_count": null,
      "outputs": []
    },
    {
      "cell_type": "code",
      "metadata": {
        "id": "6FVbRqzm9G2h"
      },
      "source": [
        "# Training and validating classifier\n",
        "def trainClassifier(trainData):\n",
        "    print(\"Training Classifier...\")\n",
        "    pipeline = Pipeline([('tfidf', TfidfTransformer()),('svc', LinearSVC(penalty='l2', loss='hinge', dual=True, tol=0.0001, C=1, multi_class='ovr', fit_intercept=True, intercept_scaling=1, class_weight=None, verbose=0, random_state=None))])\n",
        "    return SklearnClassifier(pipeline).train(trainData)\n"
      ],
      "execution_count": null,
      "outputs": []
    },
    {
      "cell_type": "code",
      "metadata": {
        "id": "GMq-hCnLHhcl"
      },
      "source": [
        "# Predicting labels given a classifier\n",
        "def predictLabels(reviewSamples, classifier):\n",
        "    return classifier.classify_many(map(lambda t: t[0], reviewSamples))"
      ],
      "execution_count": null,
      "outputs": []
    },
    {
      "cell_type": "code",
      "metadata": {
        "id": "t8YVtL1EHkKk"
      },
      "source": [
        "# Cross-Validate\n",
        "def crossValidate(dataset, folds):\n",
        "    shuffle(dataset)\n",
        "    results = []\n",
        "    foldSize = int(len(dataset)/folds)\n",
        "    \n",
        "    for i in range(0,len(dataset),int(foldSize)):\n",
        "        # insert code here that trains and tests on the 10 folds of data in the dataset\n",
        "        print(\"Fold start on items %d - %d\" % (i, i+foldSize))\n",
        "        myTestData = dataset[i:i+foldSize]\n",
        "        myTrainData = dataset[:i] + dataset[i+foldSize:]\n",
        "        classifier = trainClassifier(myTrainData)\n",
        "        y_true = [x[1] for x in myTestData]\n",
        "        y_pred = predictLabels(myTestData, classifier)\n",
        "        results.append(precision_recall_fscore_support(y_true, y_pred, average='weighted'))\n",
        "        \n",
        "    print(zip(*results))\n",
        "    avgResults = [np.mean([x[0] for x in results]),\n",
        "                  np.mean([x[1] for x in results]),\n",
        "                  np.mean([x[2] for x in results])\n",
        "                ]\n",
        "    return avgResults"
      ],
      "execution_count": null,
      "outputs": []
    },
    {
      "cell_type": "code",
      "metadata": {
        "colab": {
          "base_uri": "https://localhost:8080/"
        },
        "id": "eBjD9vD9Hm_B",
        "outputId": "58a9191a-14ed-4b91-c980-78fdd914c558"
      },
      "source": [
        "cv_results = crossValidate(trainData, 10)\n",
        "print(cv_results)"
      ],
      "execution_count": null,
      "outputs": [
        {
          "output_type": "stream",
          "text": [
            "Fold start on items 0 - 12207\n",
            "Training Classifier...\n"
          ],
          "name": "stdout"
        },
        {
          "output_type": "stream",
          "text": [
            "/usr/local/lib/python3.7/dist-packages/sklearn/svm/_base.py:947: ConvergenceWarning: Liblinear failed to converge, increase the number of iterations.\n",
            "  \"the number of iterations.\", ConvergenceWarning)\n"
          ],
          "name": "stderr"
        },
        {
          "output_type": "stream",
          "text": [
            "Fold start on items 12207 - 24414\n",
            "Training Classifier...\n"
          ],
          "name": "stdout"
        },
        {
          "output_type": "stream",
          "text": [
            "/usr/local/lib/python3.7/dist-packages/sklearn/svm/_base.py:947: ConvergenceWarning: Liblinear failed to converge, increase the number of iterations.\n",
            "  \"the number of iterations.\", ConvergenceWarning)\n"
          ],
          "name": "stderr"
        },
        {
          "output_type": "stream",
          "text": [
            "Fold start on items 24414 - 36621\n",
            "Training Classifier...\n"
          ],
          "name": "stdout"
        },
        {
          "output_type": "stream",
          "text": [
            "/usr/local/lib/python3.7/dist-packages/sklearn/svm/_base.py:947: ConvergenceWarning: Liblinear failed to converge, increase the number of iterations.\n",
            "  \"the number of iterations.\", ConvergenceWarning)\n"
          ],
          "name": "stderr"
        },
        {
          "output_type": "stream",
          "text": [
            "Fold start on items 36621 - 48828\n",
            "Training Classifier...\n"
          ],
          "name": "stdout"
        },
        {
          "output_type": "stream",
          "text": [
            "/usr/local/lib/python3.7/dist-packages/sklearn/svm/_base.py:947: ConvergenceWarning: Liblinear failed to converge, increase the number of iterations.\n",
            "  \"the number of iterations.\", ConvergenceWarning)\n"
          ],
          "name": "stderr"
        },
        {
          "output_type": "stream",
          "text": [
            "Fold start on items 48828 - 61035\n",
            "Training Classifier...\n"
          ],
          "name": "stdout"
        },
        {
          "output_type": "stream",
          "text": [
            "/usr/local/lib/python3.7/dist-packages/sklearn/svm/_base.py:947: ConvergenceWarning: Liblinear failed to converge, increase the number of iterations.\n",
            "  \"the number of iterations.\", ConvergenceWarning)\n"
          ],
          "name": "stderr"
        },
        {
          "output_type": "stream",
          "text": [
            "Fold start on items 61035 - 73242\n",
            "Training Classifier...\n"
          ],
          "name": "stdout"
        },
        {
          "output_type": "stream",
          "text": [
            "/usr/local/lib/python3.7/dist-packages/sklearn/svm/_base.py:947: ConvergenceWarning: Liblinear failed to converge, increase the number of iterations.\n",
            "  \"the number of iterations.\", ConvergenceWarning)\n"
          ],
          "name": "stderr"
        },
        {
          "output_type": "stream",
          "text": [
            "Fold start on items 73242 - 85449\n",
            "Training Classifier...\n"
          ],
          "name": "stdout"
        },
        {
          "output_type": "stream",
          "text": [
            "/usr/local/lib/python3.7/dist-packages/sklearn/svm/_base.py:947: ConvergenceWarning: Liblinear failed to converge, increase the number of iterations.\n",
            "  \"the number of iterations.\", ConvergenceWarning)\n"
          ],
          "name": "stderr"
        },
        {
          "output_type": "stream",
          "text": [
            "Fold start on items 85449 - 97656\n",
            "Training Classifier...\n"
          ],
          "name": "stdout"
        },
        {
          "output_type": "stream",
          "text": [
            "/usr/local/lib/python3.7/dist-packages/sklearn/svm/_base.py:947: ConvergenceWarning: Liblinear failed to converge, increase the number of iterations.\n",
            "  \"the number of iterations.\", ConvergenceWarning)\n"
          ],
          "name": "stderr"
        },
        {
          "output_type": "stream",
          "text": [
            "Fold start on items 97656 - 109863\n",
            "Training Classifier...\n"
          ],
          "name": "stdout"
        },
        {
          "output_type": "stream",
          "text": [
            "/usr/local/lib/python3.7/dist-packages/sklearn/svm/_base.py:947: ConvergenceWarning: Liblinear failed to converge, increase the number of iterations.\n",
            "  \"the number of iterations.\", ConvergenceWarning)\n"
          ],
          "name": "stderr"
        },
        {
          "output_type": "stream",
          "text": [
            "Fold start on items 109863 - 122070\n",
            "Training Classifier...\n"
          ],
          "name": "stdout"
        },
        {
          "output_type": "stream",
          "text": [
            "/usr/local/lib/python3.7/dist-packages/sklearn/svm/_base.py:947: ConvergenceWarning: Liblinear failed to converge, increase the number of iterations.\n",
            "  \"the number of iterations.\", ConvergenceWarning)\n"
          ],
          "name": "stderr"
        },
        {
          "output_type": "stream",
          "text": [
            "Fold start on items 122070 - 134277\n",
            "Training Classifier...\n"
          ],
          "name": "stdout"
        },
        {
          "output_type": "stream",
          "text": [
            "/usr/local/lib/python3.7/dist-packages/sklearn/svm/_base.py:947: ConvergenceWarning: Liblinear failed to converge, increase the number of iterations.\n",
            "  \"the number of iterations.\", ConvergenceWarning)\n"
          ],
          "name": "stderr"
        },
        {
          "output_type": "stream",
          "text": [
            "<zip object at 0x7fea336e81e0>\n",
            "[0.7538387180723423, 0.7452058059086814, 0.7311606592300496]\n"
          ],
          "name": "stdout"
        }
      ]
    },
    {
      "cell_type": "code",
      "metadata": {
        "colab": {
          "base_uri": "https://localhost:8080/"
        },
        "id": "Wq8sICeVHotK",
        "outputId": "e8321494-852d-4976-b7b2-69c5169e792a"
      },
      "source": [
        "functions_complete = True  \n",
        "if functions_complete:\n",
        "    print(testData[0])   \n",
        "    classifier = trainClassifier(trainData)  \n",
        "    testTrue = [t[1] for t in testData]   \n",
        "    testPred = predictLabels(testData, classifier)  \n",
        "    finalScores = precision_recall_fscore_support(testTrue, testPred, average='weighted') \n",
        "    print(\"Done training!\")\n",
        "    print(\"Precision: %f\\nRecall: %f\\nF Score:%f\" % finalScores[:3])"
      ],
      "execution_count": null,
      "outputs": [
        {
          "output_type": "stream",
          "text": [
            "({'rant about anxiety': 0.0024154589371980675, 'about anxiety meds': 0.0024154589371980675, 'anxiety meds ': 0.0024154589371980675, 'meds  i': 0.0024154589371980675, ' i ': 0.007246376811594202, 'i  ve': 0.0024154589371980675, ' ve been': 0.004830917874396135, 've been self': 0.0024154589371980675, 'been self medicating': 0.0024154589371980675, 'self medicating with': 0.0024154589371980675, 'medicating with benzodiazepines': 0.0024154589371980675, 'with benzodiazepines ': 0.0024154589371980675, 'benzodiazepines  valium': 0.0024154589371980675, ' valium ': 0.0024154589371980675, 'valium  first': 0.0024154589371980675, ' first it': 0.0024154589371980675, 'first it started': 0.0024154589371980675, 'it started with': 0.0024154589371980675, 'started with cannabis': 0.0024154589371980675, 'with cannabis ': 0.0024154589371980675, 'cannabis  a': 0.0024154589371980675, ' a very': 0.0024154589371980675, 'a very no': 0.0024154589371980675, 'very no nonsense': 0.0024154589371980675, 'no nonsense substance': 0.0024154589371980675, 'nonsense substance at': 0.0024154589371980675, 'substance at face': 0.0024154589371980675, 'at face value': 0.0024154589371980675, 'face value but': 0.0024154589371980675, 'value but ultimately': 0.0024154589371980675, 'but ultimately terrible': 0.0024154589371980675, 'ultimately terrible as': 0.0024154589371980675, 'terrible as an': 0.0024154589371980675, 'as an anxiety': 0.0024154589371980675, 'an anxiety medication': 0.0024154589371980675, 'anxiety medication ': 0.0024154589371980675, 'medication  currently': 0.0024154589371980675, ' currently ': 0.0024154589371980675, 'currently  you': 0.0024154589371980675, ' you simply': 0.0024154589371980675, 'you simply can': 0.0024154589371980675, 'simply can ': 0.0024154589371980675, 'can  t': 0.0024154589371980675, ' t dose': 0.0024154589371980675, 't dose this': 0.0024154589371980675, 'dose this stuff': 0.0024154589371980675, 'this stuff appropriately': 0.0024154589371980675, 'stuff appropriately ': 0.0024154589371980675, 'appropriately  too': 0.0024154589371980675, ' too much': 0.0024154589371980675, 'too much causes': 0.0024154589371980675, 'much causes the': 0.0024154589371980675, 'causes the exact': 0.0024154589371980675, 'the exact symptoms': 0.0024154589371980675, 'exact symptoms your': 0.0024154589371980675, 'symptoms your trying': 0.0024154589371980675, 'your trying to': 0.0024154589371980675, 'trying to treat': 0.0024154589371980675, 'to treat and': 0.0024154589371980675, 'treat and so': 0.0024154589371980675, 'and so does': 0.0024154589371980675, 'so does tolerance': 0.0024154589371980675, 'does tolerance buildup': 0.0024154589371980675, 'tolerance buildup queue': 0.0024154589371980675, 'buildup queue valium': 0.0024154589371980675, 'queue valium ': 0.0024154589371980675, 'valium  decided': 0.0024154589371980675, ' decided to': 0.0024154589371980675, 'decided to self': 0.0024154589371980675, 'to self medicate': 0.0024154589371980675, 'self medicate trying': 0.0024154589371980675, 'medicate trying for': 0.0024154589371980675, 'trying for once': 0.0024154589371980675, 'for once a': 0.0024154589371980675, 'once a week': 0.0024154589371980675, 'a week ': 0.007246376811594202, 'week  now': 0.004830917874396135, ' now it': 0.004830917874396135, 'now it ': 0.004830917874396135, 'it  s': 0.00966183574879227, ' s twice': 0.0024154589371980675, 's twice a': 0.0024154589371980675, 'twice a week': 0.0024154589371980675, ' s three': 0.0024154589371980675, 's three times': 0.0024154589371980675, 'three times a': 0.0024154589371980675, 'times a week': 0.0024154589371980675, 'week  fuck': 0.0024154589371980675, ' fuck time': 0.0024154589371980675, 'fuck time to': 0.0024154589371980675, 'time to take': 0.0024154589371980675, 'to take a': 0.0024154589371980675, 'take a break': 0.0024154589371980675, 'a break ': 0.0024154589371980675, 'break  take': 0.0024154589371980675, ' take some': 0.0024154589371980675, 'take some time': 0.0024154589371980675, 'some time off': 0.0024154589371980675, 'time off and': 0.0024154589371980675, 'off and do': 0.0024154589371980675, 'and do some': 0.0024154589371980675, 'do some research': 0.0024154589371980675, 'some research ': 0.0024154589371980675, 'research  something': 0.0024154589371980675, ' something isn': 0.0024154589371980675, 'something isn ': 0.0024154589371980675, 'isn  t': 0.004830917874396135, ' t right': 0.0024154589371980675, 't right about': 0.0024154589371980675, 'right about benzodiazepines': 0.0024154589371980675, 'about benzodiazepines and': 0.0024154589371980675, 'benzodiazepines and i': 0.0024154589371980675, 'and i need': 0.0024154589371980675, 'i need to': 0.0024154589371980675, 'need to know': 0.0024154589371980675, 'to know what': 0.0024154589371980675, 'know what ': 0.0024154589371980675, 'what  ': 0.0024154589371980675, '  nah': 0.0024154589371980675, ' nah it': 0.0024154589371980675, 'nah it ': 0.0024154589371980675, ' s just': 0.0024154589371980675, 's just me': 0.0024154589371980675, 'just me with': 0.0024154589371980675, 'me with my': 0.0024154589371980675, 'with my messed': 0.0024154589371980675, 'my messed up': 0.0024154589371980675, 'messed up coping': 0.0024154589371980675, 'up coping skills': 0.0024154589371980675, 'coping skills take': 0.0024154589371980675, 'skills take any': 0.0024154589371980675, 'take any amount': 0.0024154589371980675, 'any amount of': 0.0024154589371980675, 'amount of time': 0.0024154589371980675, 'of time looking': 0.0024154589371980675, 'time looking at': 0.0024154589371980675, 'looking at the': 0.0024154589371980675, 'at the benzo': 0.0024154589371980675, 'the benzo withdrawals': 0.0024154589371980675, 'benzo withdrawals list': 0.0024154589371980675, 'withdrawals list and': 0.0024154589371980675, 'list and it': 0.0024154589371980675, 'and it ': 0.0024154589371980675, ' s sure': 0.0024154589371980675, 's sure to': 0.0024154589371980675, 'sure to leave': 0.0024154589371980675, 'to leave a': 0.0024154589371980675, 'leave a sour': 0.0024154589371980675, 'a sour taste': 0.0024154589371980675, 'sour taste ': 0.0024154589371980675, 'taste  that': 0.0024154589371980675, ' that shit': 0.0024154589371980675, 'that shit is': 0.0024154589371980675, 'shit is no': 0.0024154589371980675, 'is no joke': 0.0024154589371980675, 'no joke ': 0.0024154589371980675, 'joke  no': 0.0024154589371980675, ' no other': 0.0024154589371980675, 'no other withdrawals': 0.0024154589371980675, 'other withdrawals are': 0.0024154589371980675, 'withdrawals are as': 0.0024154589371980675, 'are as deadly': 0.0024154589371980675, 'as deadly ': 0.0024154589371980675, 'deadly  other': 0.0024154589371980675, ' other than': 0.0024154589371980675, 'other than alcohol': 0.0024154589371980675, 'than alcohol the': 0.0024154589371980675, 'alcohol the system': 0.0024154589371980675, 'the system that': 0.0024154589371980675, 'system that these': 0.0024154589371980675, 'that these drugs': 0.0024154589371980675, 'these drugs work': 0.0024154589371980675, 'drugs work on': 0.0024154589371980675, 'work on in': 0.0024154589371980675, 'on in your': 0.0024154589371980675, 'in your body': 0.0024154589371980675, 'your body is': 0.0024154589371980675, 'body is the': 0.0024154589371980675, 'is the last': 0.0024154589371980675, 'the last thing': 0.0024154589371980675, 'last thing someone': 0.0024154589371980675, 'thing someone with': 0.0024154589371980675, 'someone with anxiety': 0.0024154589371980675, 'with anxiety should': 0.0024154589371980675, 'anxiety should be': 0.0024154589371980675, 'should be messing': 0.0024154589371980675, 'be messing with': 0.0024154589371980675, 'messing with ': 0.0024154589371980675, 'with  the': 0.0024154589371980675, ' the only': 0.0024154589371980675, 'the only way': 0.0024154589371980675, 'only way to': 0.0024154589371980675, 'way to take': 0.0024154589371980675, 'to take these': 0.0024154589371980675, 'take these things': 0.0024154589371980675, 'these things therapeutically': 0.0024154589371980675, 'things therapeutically is': 0.0024154589371980675, 'therapeutically is short': 0.0024154589371980675, 'is short term': 0.0024154589371980675, 'short term ': 0.004830917874396135, 'term  which': 0.0024154589371980675, ' which our': 0.0024154589371980675, 'which our condition': 0.0024154589371980675, 'our condition isn': 0.0024154589371980675, 'condition isn ': 0.0024154589371980675, ' t short': 0.0024154589371980675, 't short term': 0.0024154589371980675, 'term  is': 0.0024154589371980675, ' is it': 0.0024154589371980675, 'is it ': 0.0024154589371980675, 'it  such': 0.0024154589371980675, ' such an': 0.0024154589371980675, 'such an incredibly': 0.0024154589371980675, 'an incredibly important': 0.0024154589371980675, 'incredibly important and': 0.0024154589371980675, 'important and fragile': 0.0024154589371980675, 'and fragile system': 0.0024154589371980675, 'fragile system needs': 0.0024154589371980675, 'system needs respect': 0.0024154589371980675, 'needs respect ': 0.0024154589371980675, 'respect  gaba': 0.0024154589371980675, ' gaba ': 0.0024154589371980675, 'gaba  and': 0.0024154589371980675, ' and as': 0.0024154589371980675, 'and as soon': 0.0024154589371980675, 'as soon as': 0.0024154589371980675, 'soon as you': 0.0024154589371980675, 'as you throw': 0.0024154589371980675, 'you throw that': 0.0024154589371980675, 'throw that out': 0.0024154589371980675, 'that out of': 0.0024154589371980675, 'out of whack': 0.0024154589371980675, 'of whack you': 0.0024154589371980675, 'whack you ': 0.0024154589371980675, 'you  ve': 0.004830917874396135, ' ve immediately': 0.0024154589371980675, 've immediately doubled': 0.0024154589371980675, 'immediately doubled or': 0.0024154589371980675, 'doubled or tripled': 0.0024154589371980675, 'or tripled the': 0.0024154589371980675, 'tripled the amount': 0.0024154589371980675, 'the amount of': 0.0024154589371980675, 'amount of anxiety': 0.0024154589371980675, 'of anxiety you': 0.0024154589371980675, 'anxiety you could': 0.0024154589371980675, 'you could have': 0.0024154589371980675, 'could have been': 0.0024154589371980675, 'have been experiencing': 0.0024154589371980675, 'been experiencing ': 0.0024154589371980675, 'experiencing  unless': 0.0024154589371980675, ' unless you': 0.0024154589371980675, 'unless you keep': 0.0024154589371980675, 'you keep on': 0.0024154589371980675, 'keep on the': 0.0024154589371980675, 'on the pill': 0.0024154589371980675, 'the pill ': 0.0024154589371980675, 'pill  eventually': 0.0024154589371980675, ' eventually needing': 0.0024154589371980675, 'eventually needing more': 0.0024154589371980675, 'needing more of': 0.0024154589371980675, 'more of the': 0.0024154589371980675, 'of the same': 0.0024154589371980675, 'the same this': 0.0024154589371980675, 'same this makes': 0.0024154589371980675, 'this makes me': 0.0024154589371980675, 'makes me question': 0.0024154589371980675, 'me question ': 0.0024154589371980675, 'question  are': 0.0024154589371980675, ' are the': 0.0024154589371980675, 'are the benzos': 0.0024154589371980675, 'the benzos worth': 0.0024154589371980675, 'benzos worth it': 0.0024154589371980675, 'worth it ': 0.0024154589371980675, 'it  i': 0.0024154589371980675, 'i  m': 0.00966183574879227, ' m thinking': 0.0024154589371980675, 'm thinking fucking': 0.0024154589371980675, 'thinking fucking nah': 0.0024154589371980675, 'fucking nah they': 0.0024154589371980675, 'nah they ': 0.0024154589371980675, 'they  re': 0.0024154589371980675, ' re not': 0.0024154589371980675, 're not these': 0.0024154589371980675, 'not these things': 0.0024154589371980675, 'these things are': 0.0024154589371980675, 'things are more': 0.0024154589371980675, 'are more abhorrent': 0.0024154589371980675, 'more abhorrent than': 0.0024154589371980675, 'abhorrent than opiates': 0.0024154589371980675, 'than opiates in': 0.0024154589371980675, 'opiates in my': 0.0024154589371980675, 'in my mind': 0.0024154589371980675, 'my mind and': 0.0024154589371980675, 'mind and i': 0.0024154589371980675, 'and i ': 0.0024154589371980675, ' m sorry': 0.0024154589371980675, 'm sorry for': 0.0024154589371980675, 'sorry for anyone': 0.0024154589371980675, 'for anyone who': 0.0024154589371980675, 'anyone who ': 0.0024154589371980675, 'who  s': 0.0024154589371980675, ' s been': 0.0024154589371980675, 's been forced': 0.0024154589371980675, 'been forced onto': 0.0024154589371980675, 'forced onto big': 0.0024154589371980675, 'onto big dosages': 0.0024154589371980675, 'big dosages to': 0.0024154589371980675, 'dosages to battle': 0.0024154589371980675, 'to battle anxiety': 0.0024154589371980675, 'battle anxiety ': 0.0024154589371980675, 'anxiety  i': 0.0024154589371980675, ' i believe': 0.0024154589371980675, 'i believe you': 0.0024154589371980675, 'believe you ': 0.0024154589371980675, 've been lead': 0.0024154589371980675, 'been lead astray': 0.0024154589371980675, 'lead astray i': 0.0024154589371980675, 'astray i ': 0.0024154589371980675, ' m mostly': 0.0024154589371980675, 'm mostly writing': 0.0024154589371980675, 'mostly writing this': 0.0024154589371980675, 'writing this in': 0.0024154589371980675, 'this in attempt': 0.0024154589371980675, 'in attempt to': 0.0024154589371980675, 'attempt to convince': 0.0024154589371980675, 'to convince myself': 0.0024154589371980675, 'convince myself to': 0.0024154589371980675, 'myself to flush': 0.0024154589371980675, 'to flush the': 0.0024154589371980675, 'flush the rest': 0.0024154589371980675, 'the rest of': 0.0024154589371980675, 'rest of the': 0.0024154589371980675, 'of the fuckers': 0.0024154589371980675, 'the fuckers down': 0.0024154589371980675, 'fuckers down the': 0.0024154589371980675, 'down the toilet': 0.0024154589371980675, 'the toilet ': 0.0024154589371980675, 'toilet  i': 0.0024154589371980675, ' m not': 0.0024154589371980675, 'm not interested': 0.0024154589371980675, 'not interested in': 0.0024154589371980675, 'interested in losing': 0.0024154589371980675, 'in losing months': 0.0024154589371980675, 'losing months of': 0.0024154589371980675, 'months of my': 0.0024154589371980675, 'of my life': 0.0024154589371980675, 'my life tapering': 0.0024154589371980675, 'life tapering if': 0.0024154589371980675, 'tapering if i': 0.0024154589371980675, 'if i can': 0.0024154589371980675, 'i can cut': 0.0024154589371980675, 'can cut it': 0.0024154589371980675, 'cut it off': 0.0024154589371980675, 'it off now': 0.0024154589371980675, 'off now my': 0.0024154589371980675, 'now my only': 0.0024154589371980675, 'my only saving': 0.0024154589371980675, 'only saving grace': 0.0024154589371980675, 'saving grace has': 0.0024154589371980675, 'grace has been': 0.0024154589371980675, 'has been beta': 0.0024154589371980675, 'been beta blockers': 0.0024154589371980675, 'beta blockers ': 0.0024154589371980675, 'blockers  i': 0.0024154589371980675, ' i don': 0.0024154589371980675, 'i don ': 0.0024154589371980675, 'don  t': 0.0024154589371980675, ' t think': 0.0024154589371980675, 't think there': 0.0024154589371980675, 'think there ': 0.0024154589371980675, 'there  s': 0.0024154589371980675, ' s anything': 0.0024154589371980675, 's anything better': 0.0024154589371980675, 'anything better and': 0.0024154589371980675, 'better and safer': 0.0024154589371980675, 'and safer than': 0.0024154589371980675, 'safer than that': 0.0024154589371980675, 'than that in': 0.0024154589371980675, 'that in conjunction': 0.0024154589371980675, 'in conjunction with': 0.0024154589371980675, 'conjunction with therapy': 0.0024154589371980675, 'with therapy this': 0.0024154589371980675, 'therapy this has': 0.0024154589371980675, 'this has all': 0.0024154589371980675, 'has all been': 0.0024154589371980675, 'all been just': 0.0024154589371980675, 'been just my': 0.0024154589371980675, 'just my biased': 0.0024154589371980675, 'my biased opinion': 0.0024154589371980675, 'biased opinion ': 0.0024154589371980675, 'opinion  take': 0.0024154589371980675, ' take it': 0.0024154589371980675, 'take it as': 0.0024154589371980675, 'it as you': 0.0024154589371980675, 'as you will': 0.0024154589371980675, 'you will ': 0.0024154589371980675, 'will  ': 0.0024154589371980675}, 'anxiety')\n",
            "Training Classifier...\n"
          ],
          "name": "stdout"
        },
        {
          "output_type": "stream",
          "text": [
            "/usr/local/lib/python3.7/dist-packages/sklearn/svm/_base.py:947: ConvergenceWarning: Liblinear failed to converge, increase the number of iterations.\n",
            "  \"the number of iterations.\", ConvergenceWarning)\n"
          ],
          "name": "stderr"
        },
        {
          "output_type": "stream",
          "text": [
            "Done training!\n",
            "Precision: 0.730508\n",
            "Recall: 0.721490\n",
            "F Score:0.707147\n"
          ],
          "name": "stdout"
        }
      ]
    },
    {
      "cell_type": "code",
      "metadata": {
        "colab": {
          "base_uri": "https://localhost:8080/"
        },
        "id": "aeeAR0-vwaRm",
        "outputId": "8a7d9f61-8df9-4a6d-ab12-e00fbb4f2806"
      },
      "source": [
        "print(metrics.classification_report(testTrue, testPred))"
      ],
      "execution_count": null,
      "outputs": [
        {
          "output_type": "stream",
          "text": [
            "                 precision    recall  f1-score   support\n",
            "\n",
            "        anxiety       0.75      0.68      0.71      4342\n",
            "  bipolarreddit       0.74      0.04      0.08       340\n",
            "     conspiracy       0.76      0.81      0.78      1498\n",
            "     depression       0.67      0.83      0.74     11715\n",
            "        fitness       0.84      0.93      0.88      3478\n",
            "     meditation       0.94      0.64      0.76       946\n",
            "      parenting       0.86      0.84      0.85      1979\n",
            "personalfinance       0.96      0.55      0.70       337\n",
            "           ptsd       0.86      0.15      0.26       451\n",
            "  schizophrenia       0.91      0.17      0.29       505\n",
            "   suicidewatch       0.63      0.49      0.55      5052\n",
            "       teaching       0.94      0.37      0.53       250\n",
            "\n",
            "       accuracy                           0.72     30893\n",
            "      macro avg       0.82      0.54      0.59     30893\n",
            "   weighted avg       0.73      0.72      0.71     30893\n",
            "\n"
          ],
          "name": "stdout"
        }
      ]
    },
    {
      "cell_type": "code",
      "metadata": {
        "id": "70vIO_tcx7Ow"
      },
      "source": [
        "labels=['conspiracy','depression','anxiety','bipolarreddit','fitness','meditation','parenting',\n",
        "        'personalfinance','schizophrenia','suicide','teaching','ptsd']\n",
        "confusion = confusion_matrix(testTrue, testPred,labels)"
      ],
      "execution_count": null,
      "outputs": []
    },
    {
      "cell_type": "code",
      "metadata": {
        "colab": {
          "base_uri": "https://localhost:8080/",
          "height": 458
        },
        "id": "_tcVUAGYyEMz",
        "outputId": "4ba556aa-9143-40c7-d2ae-229f00f69e82"
      },
      "source": [
        "import seaborn as sns\n",
        "import matplotlib.pyplot as plt     \n",
        "fig = plt.figure(figsize=(10,6))\n",
        "ax= plt.subplot()\n",
        "sns.heatmap(confusion, annot=True, cmap='Blues',fmt='g', ax=ax);  #annot=True to annotate cells, ftm='g' to disable scientific notation\n",
        "\n",
        "# labels, title and ticks\n",
        "\n",
        "ax.set_xlabel('Predicted labels');ax.set_ylabel('True labels'); \n",
        "ax.set_title('Confusion Matrix'); \n",
        "ax.set_xticklabels( labels,rotation=45); ax.set_yticklabels(labels,rotation=45);"
      ],
      "execution_count": null,
      "outputs": [
        {
          "output_type": "display_data",
          "data": {
            "image/png": "[encoded data removed]",
            "text/plain": [
              "<Figure size 720x432 with 2 Axes>"
            ]
          },
          "metadata": {
            "tags": [],
            "needs_background": "light"
          }
        }
      ]
    }
  ]
}