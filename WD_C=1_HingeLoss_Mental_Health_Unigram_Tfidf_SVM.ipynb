{
  "nbformat": 4,
  "nbformat_minor": 0,
  "metadata": {
    "colab": {
      "name": "WD_C=1_HingeLoss_Mental_Health_Unigram_Tfidf_SVM.ipynb",
      "provenance": [],
      "collapsed_sections": [],
      "authorship_tag": "ABX9TyPrY3rjJtt/N+PDP7IhxcBF",
      "include_colab_link": true
    },
    "kernelspec": {
      "name": "python3",
      "display_name": "Python 3"
    },
    "language_info": {
      "name": "python"
    }
  },
  "cells": [
    {
      "cell_type": "markdown",
      "metadata": {
        "id": "view-in-github",
        "colab_type": "text"
      },
      "source": [
        "<a href=\"https://colab.research.google.com/github/LolitaOnayeva/Detecting-Mental-Health-Conditions-on-Reddit-using-NLP-and-machine-learning-/blob/main/WD_C%3D1_HingeLoss_Mental_Health_Unigram_Tfidf_SVM.ipynb\" target=\"_parent\"><img src=\"https://colab.research.google.com/assets/colab-badge.svg\" alt=\"Open In Colab\"/></a>"
      ]
    },
    {
      "cell_type": "code",
      "metadata": {
        "id": "o2uddj1vFbJx"
      },
      "source": [
        "import csv                               \n",
        "import re                                       \n",
        "from sklearn.svm import LinearSVC\n",
        "from nltk.classify import SklearnClassifier\n",
        "from nltk.stem import WordNetLemmatizer\n",
        "from nltk import word_tokenize\n",
        "from nltk.tokenize import RegexpTokenizer\n",
        "from nltk.corpus import stopwords\n",
        "from sklearn.model_selection import cross_val_score\n",
        "from sklearn import metrics\n",
        "from sklearn.metrics import precision_recall_fscore_support \n",
        "from random import shuffle\n",
        "import numpy as np\n",
        "from collections import Counter\n",
        "from nltk.stem.porter import PorterStemmer\n",
        "from nltk.stem import WordNetLemmatizer\n",
        "from sklearn.metrics import hamming_loss, accuracy_score\n",
        "\n",
        "from sklearn.feature_selection import SelectKBest, chi2\n",
        "from sklearn.pipeline import Pipeline\n",
        "from sklearn.feature_extraction.text import TfidfTransformer"
      ],
      "execution_count": null,
      "outputs": []
    },
    {
      "cell_type": "code",
      "metadata": {
        "colab": {
          "base_uri": "https://localhost:8080/"
        },
        "id": "F3mj9HlNs14N",
        "outputId": "480bed37-f65d-428c-b16a-03c28e32115b"
      },
      "source": [
        "from google.colab import drive\n",
        "drive.mount('/content/drive')"
      ],
      "execution_count": null,
      "outputs": [
        {
          "output_type": "stream",
          "text": [
            "Mounted at /content/drive\n"
          ],
          "name": "stdout"
        }
      ]
    },
    {
      "cell_type": "code",
      "metadata": {
        "colab": {
          "base_uri": "https://localhost:8080/"
        },
        "id": "fLqZr1yyFjAw",
        "outputId": "2b6aa98e-d2ef-4176-9879-8bf205d85a28"
      },
      "source": [
        "import nltk\n",
        "nltk.download('wordnet')"
      ],
      "execution_count": null,
      "outputs": [
        {
          "output_type": "stream",
          "text": [
            "[nltk_data] Downloading package wordnet to /root/nltk_data...\n",
            "[nltk_data]   Unzipping corpora/wordnet.zip.\n"
          ],
          "name": "stdout"
        },
        {
          "output_type": "execute_result",
          "data": {
            "text/plain": [
              "True"
            ]
          },
          "metadata": {
            "tags": []
          },
          "execution_count": 3
        }
      ]
    },
    {
      "cell_type": "code",
      "metadata": {
        "id": "1TXvwll6FlTT"
      },
      "source": [
        "def parseReview(reviewLine): \n",
        "    Mental_Health_Condition=reviewLine[4]\n",
        "    Post=reviewLine[7] \n",
        "\n",
        "    return (Mental_Health_Condition,Post)"
      ],
      "execution_count": null,
      "outputs": []
    },
    {
      "cell_type": "code",
      "metadata": {
        "id": "0eTXzTTrFoB3"
      },
      "source": [
        "def preProcess(text):\n",
        "    \n",
        "    text = re.sub(r\"(\\w)([.,;:!?'\\\"”\\)])\", r\"\\1 \\2\", text) \n",
        "    text = re.sub(r\"([.,;:!?'\\\"“\\(])(\\w)\", r\"\\1 \\2\", text)\n",
        "    text = re.sub(r\"(\\S)\\1\\1+\",r\"\\1\\1\\1\", text)\n",
        "    text = re.sub(r'[^A-Za-z0-9 ]+','', text)  # remove non- english characters such as Äö \n",
        "    \n",
        "    # normalisation- convert to lower case \n",
        "    tokens = text.split(\" \")\n",
        "    tokens = [t.lower() for t in tokens]\n",
        "    \n",
        "    porter = PorterStemmer()\n",
        "    stemmed_tokens = []\n",
        "    for token in tokens:\n",
        "        stemmed_tokens.append(porter.stem(token))\n",
        "        \n",
        "    lemmatized_tokens=[]\n",
        "    lemmatizer = WordNetLemmatizer()\n",
        "    for token in stemmed_tokens:\n",
        "        lemmatized_tokens.append(lemmatizer.lemmatize(token))\n",
        "    \n",
        "    return lemmatized_tokens"
      ],
      "execution_count": null,
      "outputs": []
    },
    {
      "cell_type": "code",
      "metadata": {
        "id": "7f7LmD5NFrX6"
      },
      "source": [
        "featureDict = {} \n",
        "\n",
        "def toFeatureVector(lemmatized_tokens):\n",
        "    v = {}\n",
        "    for t in lemmatized_tokens:\n",
        "        try:\n",
        "            featureDict[t] += 1\n",
        "        except KeyError:            \n",
        "            featureDict[t] = 1\n",
        "        try:\n",
        "            v[t] += (1.0/len(lemmatized_tokens))\n",
        "        except KeyError:\n",
        "            v[t] = (1.0/len(lemmatized_tokens))\n",
        "    return v"
      ],
      "execution_count": null,
      "outputs": []
    },
    {
      "cell_type": "code",
      "metadata": {
        "id": "0SQdA9pGFxQ8"
      },
      "source": [
        "# Downloading datasets \n",
        "rawTrainData=[]\n",
        "with open(\"/content/drive/MyDrive/mental_health_data/without_depression_df_train.csv\") as f:\n",
        "    reader = csv.reader(f,quoting=csv.QUOTE_ALL, skipinitialspace=True)\n",
        "    for line in reader:   \n",
        "        (Mental_Health_Condition,Post) = parseReview(line)\n",
        "        rawTrainData.append((Mental_Health_Condition,Post))\n",
        "        \n",
        "rawTestData=[]\n",
        "with open('/content/drive/MyDrive/mental_health_data/without_depression_df_test.csv') as f:\n",
        "    reader = csv.reader(f,quoting=csv.QUOTE_ALL, skipinitialspace=True)\n",
        "    for line in reader:   \n",
        "        (Mental_Health_Condition,Post) = parseReview(line)\n",
        "        rawTestData.append((Mental_Health_Condition,Post))\n",
        "\n",
        "testData=[]\n",
        "trainData=[]\n",
        "\n",
        "for (Mental_Health_Condition,Post) in rawTrainData:\n",
        "        #trainData.append((Mental_Health_Condition,toFeatureVector(preProcess(Post))))\n",
        "        trainData.append((toFeatureVector(preProcess(Post)),Mental_Health_Condition))\n",
        "\n",
        "for (Mental_Health_Condition,Post) in rawTestData:\n",
        "        #testData.append((Mental_Health_Condition,toFeatureVector(preProcess(Post))))\n",
        "        testData.append((toFeatureVector(preProcess(Post)),Mental_Health_Condition))"
      ],
      "execution_count": null,
      "outputs": []
    },
    {
      "cell_type": "code",
      "metadata": {
        "id": "IQlImyUHsvXI"
      },
      "source": [
        ""
      ],
      "execution_count": null,
      "outputs": []
    },
    {
      "cell_type": "code",
      "metadata": {
        "id": "_JrNhoGqMpBz",
        "colab": {
          "base_uri": "https://localhost:8080/"
        },
        "outputId": "d14e284e-f096-4a40-b1c6-6a9a1f974f09"
      },
      "source": [
        "testData[5]"
      ],
      "execution_count": null,
      "outputs": [
        {
          "output_type": "execute_result",
          "data": {
            "text/plain": [
              "({'': 0.11029411764705883,\n",
              "  '3rd': 0.007352941176470588,\n",
              "  '4': 0.007352941176470588,\n",
              "  '9': 0.007352941176470588,\n",
              "  'a': 0.014705882352941176,\n",
              "  'again': 0.007352941176470588,\n",
              "  'and': 0.029411764705882353,\n",
              "  'anyon': 0.007352941176470588,\n",
              "  'are': 0.007352941176470588,\n",
              "  'ativan': 0.007352941176470588,\n",
              "  'away': 0.007352941176470588,\n",
              "  'back': 0.007352941176470588,\n",
              "  'been': 0.022058823529411763,\n",
              "  'better': 0.007352941176470588,\n",
              "  'but': 0.014705882352941176,\n",
              "  'call': 0.007352941176470588,\n",
              "  'chest': 0.029411764705882353,\n",
              "  'close': 0.007352941176470588,\n",
              "  'come': 0.007352941176470588,\n",
              "  'current': 0.007352941176470588,\n",
              "  'day': 0.007352941176470588,\n",
              "  'discomfort': 0.007352941176470588,\n",
              "  'doctor': 0.007352941176470588,\n",
              "  'el': 0.007352941176470588,\n",
              "  'episod': 0.007352941176470588,\n",
              "  'er': 0.007352941176470588,\n",
              "  'everyth': 0.007352941176470588,\n",
              "  'feel': 0.014705882352941176,\n",
              "  'felt': 0.007352941176470588,\n",
              "  'fine': 0.007352941176470588,\n",
              "  'for': 0.014705882352941176,\n",
              "  'gave': 0.007352941176470588,\n",
              "  'get': 0.007352941176470588,\n",
              "  'go': 0.022058823529411763,\n",
              "  'ha': 0.007352941176470588,\n",
              "  'have': 0.014705882352941176,\n",
              "  'home': 0.007352941176470588,\n",
              "  'i': 0.04411764705882353,\n",
              "  'in': 0.007352941176470588,\n",
              "  'it': 0.007352941176470588,\n",
              "  'just': 0.014705882352941176,\n",
              "  'knife': 0.007352941176470588,\n",
              "  'like': 0.007352941176470588,\n",
              "  'll': 0.007352941176470588,\n",
              "  'm': 0.014705882352941176,\n",
              "  'me': 0.022058823529411763,\n",
              "  'my': 0.022058823529411763,\n",
              "  'need': 0.007352941176470588,\n",
              "  'of': 0.007352941176470588,\n",
              "  'off': 0.007352941176470588,\n",
              "  'on': 0.014705882352941176,\n",
              "  'onc': 0.007352941176470588,\n",
              "  'painstightnesstingl': 0.007352941176470588,\n",
              "  'palpit': 0.007352941176470588,\n",
              "  'randomli': 0.007352941176470588,\n",
              "  's': 0.007352941176470588,\n",
              "  'said': 0.007352941176470588,\n",
              "  'sent': 0.007352941176470588,\n",
              "  'sick': 0.007352941176470588,\n",
              "  'so': 0.022058823529411763,\n",
              "  'stab': 0.007352941176470588,\n",
              "  'that': 0.007352941176470588,\n",
              "  'the': 0.014705882352941176,\n",
              "  'they': 0.014705882352941176,\n",
              "  'thi': 0.03676470588235294,\n",
              "  'through': 0.007352941176470588,\n",
              "  'tight': 0.007352941176470588,\n",
              "  'time': 0.007352941176470588,\n",
              "  'to': 0.03676470588235294,\n",
              "  'today': 0.014705882352941176,\n",
              "  'tomorrow': 0.007352941176470588,\n",
              "  'tortur': 0.007352941176470588,\n",
              "  'until': 0.007352941176470588,\n",
              "  'wa': 0.007352941176470588,\n",
              "  'wait': 0.007352941176470588,\n",
              "  'week': 0.007352941176470588,\n",
              "  'went': 0.007352941176470588,\n",
              "  'whi': 0.007352941176470588,\n",
              "  'wont': 0.007352941176470588,\n",
              "  'worri': 0.007352941176470588,\n",
              "  'year': 0.007352941176470588,\n",
              "  'yesterday': 0.007352941176470588},\n",
              " 'anxiety')"
            ]
          },
          "metadata": {
            "tags": []
          },
          "execution_count": 8
        }
      ]
    },
    {
      "cell_type": "code",
      "metadata": {
        "id": "yvYgdxUUMpZY"
      },
      "source": [
        ""
      ],
      "execution_count": null,
      "outputs": []
    },
    {
      "cell_type": "code",
      "metadata": {
        "id": "3Dzf4IEgFz62",
        "colab": {
          "base_uri": "https://localhost:8080/"
        },
        "outputId": "2c85bd73-64e9-41cd-dd56-16be358a7081"
      },
      "source": [
        "# Lenght of the datasets\n",
        "print(\"Now  %d trainData, %d testData\" % ( len(trainData), len(testData)))\n",
        "\n",
        "# Number of features\n",
        "print(\"Training Samples: \", len(trainData), \"Features: \", len(featureDict), sep='\\n')"
      ],
      "execution_count": null,
      "outputs": [
        {
          "output_type": "stream",
          "text": [
            "Now  75914 trainData, 18963 testData\n",
            "Training Samples: \n",
            "75914\n",
            "Features: \n",
            "117287\n"
          ],
          "name": "stdout"
        }
      ]
    },
    {
      "cell_type": "code",
      "metadata": {
        "id": "4_9QPUWU-Ix0"
      },
      "source": [
        "# Training and validating classifier\n",
        "def trainClassifier(trainData):\n",
        "    print(\"Training Classifier...\")\n",
        "    pipeline = Pipeline([('tfidf', TfidfTransformer()),('svc', LinearSVC(penalty='l2', loss='hinge', dual=True, tol=0.0001, C=1, multi_class='ovr', fit_intercept=True, intercept_scaling=1, class_weight=None, verbose=0, random_state=None))])\n",
        "    return SklearnClassifier(pipeline).train(trainData)\n",
        "\n"
      ],
      "execution_count": null,
      "outputs": []
    },
    {
      "cell_type": "code",
      "metadata": {
        "id": "5wWWYfI-lIPy"
      },
      "source": [
        "# Predicting labels given a classifier\n",
        "def predictLabels(reviewSamples, classifier):\n",
        "    return classifier.classify_many(map(lambda t: t[0], reviewSamples))"
      ],
      "execution_count": null,
      "outputs": []
    },
    {
      "cell_type": "code",
      "metadata": {
        "id": "5eWWmcpClKfW"
      },
      "source": [
        "# Cross-Validate\n",
        "def crossValidate(dataset, folds):\n",
        "    shuffle(dataset)\n",
        "    results = []\n",
        "    foldSize = int(len(dataset)/folds)\n",
        "    \n",
        "    for i in range(0,len(dataset),int(foldSize)):\n",
        "        # insert code here that trains and tests on the 10 folds of data in the dataset\n",
        "        print(\"Fold start on items %d - %d\" % (i, i+foldSize))\n",
        "        myTestData = dataset[i:i+foldSize]\n",
        "        myTrainData = dataset[:i] + dataset[i+foldSize:]\n",
        "        classifier = trainClassifier(myTrainData)\n",
        "        y_true = [x[1] for x in myTestData]\n",
        "        y_pred = predictLabels(myTestData, classifier)\n",
        "        results.append(precision_recall_fscore_support(y_true, y_pred, average='weighted'))\n",
        "        \n",
        "    print(zip(*results))\n",
        "    avgResults = [np.mean([x[0] for x in results]),\n",
        "                  np.mean([x[1] for x in results]),\n",
        "                  np.mean([x[2] for x in results])\n",
        "                ]\n",
        "    return avgResults"
      ],
      "execution_count": null,
      "outputs": []
    },
    {
      "cell_type": "code",
      "metadata": {
        "id": "6djjonI-lOy-",
        "colab": {
          "base_uri": "https://localhost:8080/"
        },
        "outputId": "efc87b30-98df-48bd-f118-63bccfe30f33"
      },
      "source": [
        "cv_results = crossValidate(trainData, 10)\n",
        "print(cv_results)"
      ],
      "execution_count": null,
      "outputs": [
        {
          "output_type": "stream",
          "text": [
            "Fold start on items 0 - 7591\n",
            "Training Classifier...\n"
          ],
          "name": "stdout"
        },
        {
          "output_type": "stream",
          "text": [
            "/usr/local/lib/python3.7/dist-packages/sklearn/svm/_base.py:947: ConvergenceWarning: Liblinear failed to converge, increase the number of iterations.\n",
            "  \"the number of iterations.\", ConvergenceWarning)\n"
          ],
          "name": "stderr"
        },
        {
          "output_type": "stream",
          "text": [
            "Fold start on items 7591 - 15182\n",
            "Training Classifier...\n"
          ],
          "name": "stdout"
        },
        {
          "output_type": "stream",
          "text": [
            "/usr/local/lib/python3.7/dist-packages/sklearn/svm/_base.py:947: ConvergenceWarning: Liblinear failed to converge, increase the number of iterations.\n",
            "  \"the number of iterations.\", ConvergenceWarning)\n"
          ],
          "name": "stderr"
        },
        {
          "output_type": "stream",
          "text": [
            "Fold start on items 15182 - 22773\n",
            "Training Classifier...\n"
          ],
          "name": "stdout"
        },
        {
          "output_type": "stream",
          "text": [
            "/usr/local/lib/python3.7/dist-packages/sklearn/svm/_base.py:947: ConvergenceWarning: Liblinear failed to converge, increase the number of iterations.\n",
            "  \"the number of iterations.\", ConvergenceWarning)\n"
          ],
          "name": "stderr"
        },
        {
          "output_type": "stream",
          "text": [
            "Fold start on items 22773 - 30364\n",
            "Training Classifier...\n"
          ],
          "name": "stdout"
        },
        {
          "output_type": "stream",
          "text": [
            "/usr/local/lib/python3.7/dist-packages/sklearn/svm/_base.py:947: ConvergenceWarning: Liblinear failed to converge, increase the number of iterations.\n",
            "  \"the number of iterations.\", ConvergenceWarning)\n"
          ],
          "name": "stderr"
        },
        {
          "output_type": "stream",
          "text": [
            "Fold start on items 30364 - 37955\n",
            "Training Classifier...\n"
          ],
          "name": "stdout"
        },
        {
          "output_type": "stream",
          "text": [
            "/usr/local/lib/python3.7/dist-packages/sklearn/svm/_base.py:947: ConvergenceWarning: Liblinear failed to converge, increase the number of iterations.\n",
            "  \"the number of iterations.\", ConvergenceWarning)\n"
          ],
          "name": "stderr"
        },
        {
          "output_type": "stream",
          "text": [
            "Fold start on items 37955 - 45546\n",
            "Training Classifier...\n"
          ],
          "name": "stdout"
        },
        {
          "output_type": "stream",
          "text": [
            "/usr/local/lib/python3.7/dist-packages/sklearn/svm/_base.py:947: ConvergenceWarning: Liblinear failed to converge, increase the number of iterations.\n",
            "  \"the number of iterations.\", ConvergenceWarning)\n"
          ],
          "name": "stderr"
        },
        {
          "output_type": "stream",
          "text": [
            "Fold start on items 45546 - 53137\n",
            "Training Classifier...\n"
          ],
          "name": "stdout"
        },
        {
          "output_type": "stream",
          "text": [
            "/usr/local/lib/python3.7/dist-packages/sklearn/svm/_base.py:947: ConvergenceWarning: Liblinear failed to converge, increase the number of iterations.\n",
            "  \"the number of iterations.\", ConvergenceWarning)\n"
          ],
          "name": "stderr"
        },
        {
          "output_type": "stream",
          "text": [
            "Fold start on items 53137 - 60728\n",
            "Training Classifier...\n",
            "Fold start on items 60728 - 68319\n",
            "Training Classifier...\n",
            "Fold start on items 68319 - 75910\n",
            "Training Classifier...\n"
          ],
          "name": "stdout"
        },
        {
          "output_type": "stream",
          "text": [
            "/usr/local/lib/python3.7/dist-packages/sklearn/svm/_base.py:947: ConvergenceWarning: Liblinear failed to converge, increase the number of iterations.\n",
            "  \"the number of iterations.\", ConvergenceWarning)\n"
          ],
          "name": "stderr"
        },
        {
          "output_type": "stream",
          "text": [
            "Fold start on items 75910 - 83501\n",
            "Training Classifier...\n",
            "<zip object at 0x7fa89349b050>\n",
            "[0.9205879671633959, 0.8985311553155053, 0.9041066122786545]\n"
          ],
          "name": "stdout"
        },
        {
          "output_type": "stream",
          "text": [
            "/usr/local/lib/python3.7/dist-packages/sklearn/svm/_base.py:947: ConvergenceWarning: Liblinear failed to converge, increase the number of iterations.\n",
            "  \"the number of iterations.\", ConvergenceWarning)\n",
            "/usr/local/lib/python3.7/dist-packages/sklearn/metrics/_classification.py:1272: UndefinedMetricWarning: Recall and F-score are ill-defined and being set to 0.0 in labels with no true samples. Use `zero_division` parameter to control this behavior.\n",
            "  _warn_prf(average, modifier, msg_start, len(result))\n"
          ],
          "name": "stderr"
        }
      ]
    },
    {
      "cell_type": "code",
      "metadata": {
        "id": "PWC0gFBklUhS",
        "colab": {
          "base_uri": "https://localhost:8080/"
        },
        "outputId": "a5b60810-cd59-4dbc-8390-d32e903f8ce5"
      },
      "source": [
        "functions_complete = True  \n",
        "if functions_complete:\n",
        "    print(testData[0])   \n",
        "    classifier = trainClassifier(trainData)  \n",
        "    testTrue = [t[1] for t in testData]   \n",
        "    testPred = predictLabels(testData, classifier)  \n",
        "    finalScores = precision_recall_fscore_support(testTrue, testPred, average='weighted')\n",
        "    #accuracy_score \n",
        "    print(\"Done training!\")\n",
        "    print(\"Precision: %f\\nRecall: %f\\nF Score:%f\" % finalScores[:3])\n",
        "    print(\"accuracy_score:\", accuracy_score(testTrue, testPred))"
      ],
      "execution_count": null,
      "outputs": [
        {
          "output_type": "stream",
          "text": [
            "({'some': 0.007547169811320755, 'advic': 0.01509433962264151, 'for': 0.02641509433962264, 'my': 0.01509433962264151, 'friend': 0.0037735849056603774, 'plea': 0.0037735849056603774, '': 0.11698113207547169, 'i': 0.02641509433962264, 'date': 0.0037735849056603774, 'thi': 0.0037735849056603774, 'girl': 0.0037735849056603774, 'about': 0.007547169811320755, 'a': 0.030188679245283016, 'year': 0.007547169811320755, 'befor': 0.0037735849056603774, 'she': 0.022641509433962263, 'move': 0.0037735849056603774, 'away': 0.0037735849056603774, 'temporarili': 0.0037735849056603774, 'servic': 0.0037735849056603774, 'opportun': 0.0037735849056603774, 'been': 0.018867924528301886, 'gone': 0.0037735849056603774, 'few': 0.0037735849056603774, 'month': 0.0037735849056603774, 'now': 0.0037735849056603774, 'left': 0.0037735849056603774, 'on': 0.0037735849056603774, 'the': 0.011320754716981133, 'trip': 0.0037735849056603774, 'and': 0.007547169811320755, 'weve': 0.0037735849056603774, 'commun': 0.0037735849056603774, 'via': 0.0037735849056603774, 'email': 0.0037735849056603774, 'just': 0.01509433962264151, 'confid': 0.0037735849056603774, 'in': 0.0037735849056603774, 'me': 0.01509433962264151, 'that': 0.033962264150943396, 'have': 0.018867924528301886, 'fairli': 0.0037735849056603774, 'seriou': 0.0037735849056603774, 'anxieti': 0.007547169811320755, 'problem': 0.0037735849056603774, 'told': 0.0037735849056603774, 'ive': 0.007547169811320755, 'lot': 0.0037735849056603774, 'of': 0.02641509433962264, 'to': 0.02641509433962264, 'point': 0.0037735849056603774, 'where': 0.0037735849056603774, 'cant': 0.0037735849056603774, 'realli': 0.007547169811320755, 'function': 0.0037735849056603774, 'or': 0.007547169811320755, 'do': 0.007547169811320755, 'normal': 0.0037735849056603774, 'work': 0.0037735849056603774, 'like': 0.007547169811320755, 'we': 0.0037735849056603774, 'stay': 0.0037735849056603774, 'insid': 0.0037735849056603774, 'hour': 0.0037735849056603774, 'until': 0.0037735849056603774, 'can': 0.0037735849056603774, 'breath': 0.0037735849056603774, 'again': 0.0037735849056603774, 'ani': 0.0037735849056603774, 'you': 0.011320754716981133, 'her': 0.018867924528301886, 'way': 0.0037735849056603774, 'could': 0.0037735849056603774, 'help': 0.011320754716981133, 'feel': 0.007547169811320755, 'im': 0.011320754716981133, 'out': 0.011320754716981133, 'depth': 0.0037735849056603774, 'here': 0.0037735849056603774, 'had': 0.0037735849056603774, 'own': 0.0037735849056603774, 'bout': 0.0037735849056603774, 'depress': 0.0037735849056603774, 'side': 0.0037735849056603774, 'effect': 0.0037735849056603774, 'adhd': 0.0037735849056603774, 'but': 0.007547169811320755, 'mostli': 0.007547169811320755, 'manifest': 0.0037735849056603774, 'go': 0.007547169811320755, 'through': 0.0037735849056603774, 'motion': 0.0037735849056603774, 'life': 0.0037735849056603774, 'schoolwork': 0.0037735849056603774, 'hang': 0.0037735849056603774, 'with': 0.0037735849056603774, 'friendsfamili': 0.0037735849056603774, 'never': 0.0037735849056603774, 'anyth': 0.0037735849056603774, 'constantli': 0.0037735849056603774, 'afraid': 0.007547169811320755, 'somebodi': 0.0037735849056603774, 'would': 0.007547169811320755, 'notic': 0.0037735849056603774, 'what': 0.018867924528301886, 'failur': 0.0037735849056603774, 'wa': 0.0037735849056603774, 'plan': 0.0037735849056603774, 'suggest': 0.0037735849056603774, 'tri': 0.007547169811320755, 'write': 0.0037735849056603774, 'down': 0.0037735849056603774, 'exactli': 0.0037735849056603774, 'make': 0.0037735849056603774, 'anxiou': 0.0037735849056603774, 'figur': 0.0037735849056603774, 'whi': 0.0037735849056603774, 'get': 0.0037735849056603774, 'sometim': 0.0037735849056603774, 'so': 0.0037735849056603774, 'realiz': 0.0037735849056603774, 'is': 0.0037735849056603774, 'actual': 0.0037735849056603774, 'not': 0.0037735849056603774, 'bad': 0.0037735849056603774, 'other': 0.0037735849056603774, 'time': 0.0037735849056603774, 'though': 0.0037735849056603774, 'it': 0.0037735849056603774, 'ha': 0.0037735849056603774, 'counter': 0.0037735849056603774, 'product': 0.0037735849056603774, 'anyway': 0.0037735849056603774, 'tell': 0.0037735849056603774, 'peopl': 0.0037735849056603774, 'given': 0.0037735849056603774}, 'anxiety')\n",
            "Training Classifier...\n",
            "Done training!\n",
            "Precision: 0.911071\n",
            "Recall: 0.911670\n",
            "F Score:0.909572\n",
            "accuracy_score: 0.9116700943943469\n"
          ],
          "name": "stdout"
        }
      ]
    },
    {
      "cell_type": "code",
      "metadata": {
        "id": "VKH1-O4xn6-B",
        "colab": {
          "base_uri": "https://localhost:8080/"
        },
        "outputId": "6e967dce-8c3d-4a6c-e1d1-815173863004"
      },
      "source": [
        "print(metrics.classification_report(testTrue, testPred))"
      ],
      "execution_count": null,
      "outputs": [
        {
          "output_type": "stream",
          "text": [
            "                 precision    recall  f1-score   support\n",
            "\n",
            "        anxiety       0.89      0.89      0.89      4362\n",
            "  bipolarreddit       0.87      0.58      0.70       325\n",
            "     conspiracy       0.91      0.93      0.92      1502\n",
            "        fitness       0.97      0.98      0.98      3456\n",
            "     meditation       0.95      0.91      0.93       961\n",
            "      parenting       0.92      0.95      0.93      1918\n",
            "personalfinance       0.92      0.90      0.91       308\n",
            "           ptsd       0.88      0.61      0.73       438\n",
            "  schizophrenia       0.84      0.62      0.72       486\n",
            "   suicidewatch       0.89      0.95      0.92      4930\n",
            "       teaching       0.88      0.82      0.85       277\n",
            "\n",
            "       accuracy                           0.91     18963\n",
            "      macro avg       0.90      0.83      0.86     18963\n",
            "   weighted avg       0.91      0.91      0.91     18963\n",
            "\n"
          ],
          "name": "stdout"
        }
      ]
    },
    {
      "cell_type": "code",
      "metadata": {
        "id": "jAdPX2wWNsNc"
      },
      "source": [
        "from sklearn.metrics import accuracy_score,confusion_matrix\n",
        "from sklearn.metrics import ConfusionMatrixDisplay\n",
        "from sklearn.metrics import plot_confusion_matrix\n",
        "import matplotlib.pyplot as plt\n"
      ],
      "execution_count": null,
      "outputs": []
    },
    {
      "cell_type": "code",
      "metadata": {
        "id": "7NgZC3iFRCgD"
      },
      "source": [
        "labels=['bipolarreddit','fitness','meditation','conspiracy','anxiety','parenting',\n",
        "        'personalfinance','schizophrenia','suicidewatch','teaching','ptsd']\n",
        "confusion = confusion_matrix(testTrue, testPred,labels)"
      ],
      "execution_count": null,
      "outputs": []
    },
    {
      "cell_type": "code",
      "metadata": {
        "id": "qyNSUQLjYTX2",
        "colab": {
          "base_uri": "https://localhost:8080/",
          "height": 458
        },
        "outputId": "3b9e6968-805e-442f-a4e2-4f15f5d2e026"
      },
      "source": [
        "import seaborn as sns\n",
        "import matplotlib.pyplot as plt     \n",
        "fig = plt.figure(figsize=(10,6))\n",
        "ax= plt.subplot()\n",
        "sns.heatmap(confusion, annot=True, cmap='Blues',fmt='g', ax=ax);  #annot=True to annotate cells, ftm='g' to disable scientific notation\n",
        "\n",
        "# labels, title and ticks\n",
        "\n",
        "ax.set_xlabel('Predicted labels');ax.set_ylabel('True labels'); \n",
        "ax.set_title('Confusion Matrix'); \n",
        "ax.set_xticklabels( labels,rotation=45); ax.set_yticklabels(labels,rotation=45);"
      ],
      "execution_count": null,
      "outputs": [
        {
          "output_type": "display_data",
          "data": {
            "image/png": "[encoded data removed]",
            "text/plain": [
              "<Figure size 720x432 with 2 Axes>"
            ]
          },
          "metadata": {
            "tags": [],
            "needs_background": "light"
          }
        }
      ]
    }
  ]
}